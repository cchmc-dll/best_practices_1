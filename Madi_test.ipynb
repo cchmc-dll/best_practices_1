{
 "cells": [
  {
   "cell_type": "code",
   "execution_count": null,
   "id": "06c7094b",
   "metadata": {},
   "outputs": [],
   "source": []
  },
  {
   "cell_type": "code",
   "execution_count": null,
   "id": "3831122c",
   "metadata": {},
   "outputs": [],
   "source": []
  },
  {
   "cell_type": "code",
   "execution_count": 5,
   "id": "25d37600",
   "metadata": {
    "ExecuteTime": {
     "end_time": "2022-03-17T14:13:02.911391Z",
     "start_time": "2022-03-17T14:13:01.830416Z"
    }
   },
   "outputs": [
    {
     "ename": "ModuleNotFoundError",
     "evalue": "No module named 'unet'",
     "output_type": "error",
     "traceback": [
      "\u001b[0;31m---------------------------------------------------------------------------\u001b[0m",
      "\u001b[0;31mModuleNotFoundError\u001b[0m                       Traceback (most recent call last)",
      "\u001b[0;32m<ipython-input-5-e6a32deffaf0>\u001b[0m in \u001b[0;36m<module>\u001b[0;34m\u001b[0m\n\u001b[1;32m     32\u001b[0m \u001b[0;32mfrom\u001b[0m \u001b[0mpathlib\u001b[0m \u001b[0;32mimport\u001b[0m \u001b[0mPath\u001b[0m\u001b[0;34m\u001b[0m\u001b[0;34m\u001b[0m\u001b[0m\n\u001b[1;32m     33\u001b[0m \u001b[0;32mfrom\u001b[0m \u001b[0mpathlib\u001b[0m \u001b[0;32mimport\u001b[0m \u001b[0mPath\u001b[0m\u001b[0;34m\u001b[0m\u001b[0;34m\u001b[0m\u001b[0m\n\u001b[0;32m---> 34\u001b[0;31m \u001b[0;32mfrom\u001b[0m \u001b[0munet\u001b[0m \u001b[0;32mimport\u001b[0m \u001b[0mUNet\u001b[0m\u001b[0;34m\u001b[0m\u001b[0;34m\u001b[0m\u001b[0m\n\u001b[0m\u001b[1;32m     35\u001b[0m \u001b[0;32mfrom\u001b[0m \u001b[0mPIL\u001b[0m \u001b[0;32mimport\u001b[0m \u001b[0mImage\u001b[0m\u001b[0;34m\u001b[0m\u001b[0;34m\u001b[0m\u001b[0m\n\u001b[1;32m     36\u001b[0m \u001b[0;32mfrom\u001b[0m \u001b[0mos\u001b[0m \u001b[0;32mimport\u001b[0m \u001b[0mlistdir\u001b[0m\u001b[0;34m\u001b[0m\u001b[0;34m\u001b[0m\u001b[0m\n",
      "\u001b[0;31mModuleNotFoundError\u001b[0m: No module named 'unet'"
     ]
    }
   ],
   "source": [
    "from __future__ import division, print_function, absolute_import\n",
    "\n",
    "import math\n",
    "import time\n",
    "import sys\n",
    "import cv2\n",
    "import os\n",
    "import scipy\n",
    "import enum\n",
    "import random\n",
    "import h5py\n",
    "import zipfile\n",
    "import itertools\n",
    "import json\n",
    "import seaborn as sns\n",
    "import pydicom as dcm\n",
    "import numpy as np\n",
    "import pandas as pd\n",
    "import multiprocessing\n",
    "import scipy.ndimage.morphology as morphology\n",
    "import scipy.ndimage as ndimage\n",
    "import scipy.ndimage.filters as filters\n",
    "import matplotlib.pyplot as plt\n",
    "import matplotlib.image as im\n",
    "import matplotlib.image as img\n",
    "import nibabel as nib\n",
    "import SimpleITK as sitk\n",
    "\n",
    "from matplotlib.patches import Rectangle\n",
    "from scipy import stats\n",
    "from scipy import ndimage\n",
    "from pathlib import Path\n",
    "from pathlib import Path\n",
    "from unet import UNet\n",
    "from PIL import Image\n",
    "from os import listdir\n",
    "from os.path import join, basename, isdir\n",
    "from scikitplot.metrics import plot_confusion_matrix, plot_roc\n",
    "from sklearn.metrics import confusion_matrix, accuracy_score, roc_auc_score\n",
    "from sklearn.model_selection import KFold, StratifiedKFold, train_test_split\n",
    "from sklearn.preprocessing import normalize\n",
    "from sklearn.utils import shuffle\n",
    "from tqdm.notebook import trange, tqdm, tqdm_notebook\n",
    "\n",
    "\n",
    "from glob import glob\n",
    "from skimage.measure import label\n",
    "from skimage.transform import resize\n",
    "from skimage import io, measure\n",
    "from nibabel.testing import data_path\n",
    "from ipywidgets import interact, fixed\n",
    "from IPython import display\n",
    "from tqdm.notebook import tqdm\n",
    "from pathlib import Path"
   ]
  },
  {
   "cell_type": "code",
   "execution_count": null,
   "id": "d03cefd1",
   "metadata": {
    "ExecuteTime": {
     "end_time": "2022-03-17T14:13:02.914297Z",
     "start_time": "2022-03-17T14:13:02.432Z"
    }
   },
   "outputs": [],
   "source": [
    "from minio import Minio\n",
    "from dotenv import load_dotenv # add this line"
   ]
  },
  {
   "cell_type": "code",
   "execution_count": 6,
   "id": "abedde17",
   "metadata": {
    "ExecuteTime": {
     "end_time": "2022-03-17T14:13:02.949381Z",
     "start_time": "2022-03-17T14:13:02.942266Z"
    }
   },
   "outputs": [
    {
     "data": {
      "text/plain": [
       "'/workspace/best_practices_1'"
      ]
     },
     "execution_count": 6,
     "metadata": {},
     "output_type": "execute_result"
    }
   ],
   "source": [
    "os.getcwd()"
   ]
  },
  {
   "cell_type": "code",
   "execution_count": 7,
   "id": "77241962",
   "metadata": {
    "ExecuteTime": {
     "end_time": "2022-03-17T14:13:03.572901Z",
     "start_time": "2022-03-17T14:13:03.567642Z"
    }
   },
   "outputs": [],
   "source": [
    "#http://10.1.32.31:9001/login\n",
    "\n",
    "load_dotenv() # add this line\n",
    "user = os.getenv('MINIO_ACCESS')\n",
    "key = os.getenv('MINIO_KEY')"
   ]
  },
  {
   "cell_type": "code",
   "execution_count": 8,
   "id": "b1ec0ae6",
   "metadata": {
    "ExecuteTime": {
     "end_time": "2022-03-17T14:13:04.194497Z",
     "start_time": "2022-03-17T14:13:04.185130Z"
    }
   },
   "outputs": [
    {
     "data": {
      "text/plain": [
       "'shaf9a'"
      ]
     },
     "execution_count": 8,
     "metadata": {},
     "output_type": "execute_result"
    }
   ],
   "source": [
    "user"
   ]
  },
  {
   "cell_type": "code",
   "execution_count": 9,
   "id": "c85d15d3",
   "metadata": {
    "ExecuteTime": {
     "end_time": "2022-03-17T14:13:05.048162Z",
     "start_time": "2022-03-17T14:13:04.743297Z"
    }
   },
   "outputs": [],
   "source": [
    "import boto3\n",
    "s3 = boto3.resource('s3',\n",
    "                endpoint_url=\"http://minio-0:9000\",\n",
    "                aws_access_key_id=user,\n",
    "                aws_secret_access_key=key)"
   ]
  },
  {
   "cell_type": "code",
   "execution_count": 10,
   "id": "6e464eb9",
   "metadata": {
    "ExecuteTime": {
     "end_time": "2022-03-17T14:13:05.387206Z",
     "start_time": "2022-03-17T14:13:05.349995Z"
    }
   },
   "outputs": [
    {
     "name": "stdout",
     "output_type": "stream",
     "text": [
      "0 Bucket:  aish 2022-03-11 19:18:32.851000+00:00\n",
      "1 Bucket:  dummy 2022-03-16 22:17:54.173000+00:00\n",
      "2 Bucket:  elan 2022-03-11 04:19:28.004000+00:00\n",
      "3 Bucket:  ike 2022-03-14 15:12:48.441000+00:00\n",
      "4 Bucket:  madi 2022-03-15 16:38:34.529000+00:00\n",
      "5 Bucket:  neeraja 2022-03-11 19:20:49.062000+00:00\n",
      "6 Bucket:  neerajanew 2022-03-11 19:29:13.226000+00:00\n",
      "7 Bucket:  zach 2022-03-11 19:22:45.234000+00:00\n"
     ]
    }
   ],
   "source": [
    "# Print buckets in data server\n",
    "buckets = s3.buckets.all()\n",
    "for b,bucket in enumerate(buckets):\n",
    "    print(b, \"Bucket: \" ,bucket.name, bucket.creation_date)"
   ]
  },
  {
   "cell_type": "code",
   "execution_count": 11,
   "id": "d74e90bb",
   "metadata": {
    "ExecuteTime": {
     "end_time": "2022-03-17T14:13:05.958244Z",
     "start_time": "2022-03-17T14:13:05.952055Z"
    }
   },
   "outputs": [],
   "source": [
    "def downloadDirectoryFroms3(s3_resource, bucketName, remoteDirectoryName):\n",
    "    print('Attempting to download bucket, ', bucketName, ' folder, ', remoteDirectoryName)\n",
    "    bucket = s3_resource.Bucket(bucketName)\n",
    "    for obj in bucket.objects.filter(Prefix = remoteDirectoryName):\n",
    "        dir_path = os.path.join(bucketName, os.path.dirname(obj.key))\n",
    "        if not os.path.exists(dir_path):\n",
    "            print('Creating dir: ', dir_path)\n",
    "            os.makedirs(dir_path,exist_ok=True)\n",
    "        filename = os.path.join(dir_path,os.path.basename(obj.key))\n",
    "        bucket.download_file(obj.key, filename) # save to same path"
   ]
  },
  {
   "cell_type": "code",
   "execution_count": 12,
   "id": "3d7fd931",
   "metadata": {
    "ExecuteTime": {
     "end_time": "2022-03-17T14:13:35.606843Z",
     "start_time": "2022-03-17T14:13:07.323413Z"
    }
   },
   "outputs": [
    {
     "name": "stdout",
     "output_type": "stream",
     "text": [
      "Attempting to download bucket,  madi  folder,  \n"
     ]
    }
   ],
   "source": [
    "# Download your bucket\n",
    "bucketname = 'madi'\n",
    "os.makedirs(bucketname,exist_ok=True)\n",
    "# List objects information.\n",
    "downloadDirectoryFroms3(s3,bucketname,'')"
   ]
  },
  {
   "cell_type": "code",
   "execution_count": null,
   "id": "d67f600a",
   "metadata": {},
   "outputs": [],
   "source": []
  }
 ],
 "metadata": {
  "kernelspec": {
   "display_name": "Python 3",
   "language": "python",
   "name": "python3"
  },
  "language_info": {
   "codemirror_mode": {
    "name": "ipython",
    "version": 3
   },
   "file_extension": ".py",
   "mimetype": "text/x-python",
   "name": "python",
   "nbconvert_exporter": "python",
   "pygments_lexer": "ipython3",
   "version": "3.8.10"
  },
  "toc": {
   "base_numbering": 1,
   "nav_menu": {},
   "number_sections": false,
   "sideBar": true,
   "skip_h1_title": false,
   "title_cell": "Table of Contents",
   "title_sidebar": "Contents",
   "toc_cell": false,
   "toc_position": {},
   "toc_section_display": true,
   "toc_window_display": false
  }
 },
 "nbformat": 4,
 "nbformat_minor": 5
}
