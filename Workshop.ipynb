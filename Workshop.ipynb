{
 "cells": [
  {
   "cell_type": "markdown",
   "id": "4225b65b",
   "metadata": {
    "local_metadata": {
     "tags": [],
     "toc-hr-collapsed": true
    },
    "remote_metadata": {}
   },
   "source": [
    "# The Logging Module\n",
    "\n",
    "Logging is a very useful tool in a programmer’s toolbox. \n",
    "\n",
    "It can help you develop a better understanding of the flow of a program and discover scenarios that you might not even have thought of while developing. \n",
    "\n"
   ]
  },
  {
   "cell_type": "code",
   "execution_count": 1,
   "id": "d5867589",
   "metadata": {
    "local_metadata": {
     "ExecuteTime": {
      "end_time": "2022-03-10T21:55:10.734011Z",
      "start_time": "2022-03-10T21:55:10.730183Z"
     }
    },
    "remote_metadata": {
     "ExecuteTime": {
      "end_time": "2022-03-11T19:40:38.513151Z",
      "start_time": "2022-03-11T19:40:38.507246Z"
     }
    }
   },
   "outputs": [],
   "source": [
    "import logging"
   ]
  },
  {
   "cell_type": "markdown",
   "id": "9dd0f799",
   "metadata": {},
   "source": [
    "With the logging module imported, you can use something called a “logger” to log messages that you want to see."
   ]
  },
  {
   "cell_type": "code",
   "execution_count": 2,
   "id": "c13816a0",
   "metadata": {
    "local_metadata": {
     "ExecuteTime": {
      "end_time": "2022-03-10T21:55:18.504623Z",
      "start_time": "2022-03-10T21:55:18.493129Z"
     }
    },
    "remote_metadata": {
     "ExecuteTime": {
      "end_time": "2022-03-11T19:41:25.248805Z",
      "start_time": "2022-03-11T19:41:25.233755Z"
     }
    }
   },
   "outputs": [
    {
     "name": "stderr",
     "output_type": "stream",
     "text": [
      "WARNING:root:This is a warning message\n",
      "ERROR:root:This is an error message\n",
      "CRITICAL:root:This is a critical message\n"
     ]
    }
   ],
   "source": [
    "logging.debug('This is a debug message')\n",
    "logging.info('This is an info message')\n",
    "logging.warning('This is a warning message')\n",
    "logging.error('This is an error message')\n",
    "logging.critical('This is a critical message')"
   ]
  },
  {
   "cell_type": "markdown",
   "id": "d38c3ffc",
   "metadata": {},
   "source": [
    "The output shows the severity level before each message along with root, which is the name the logging module gives to its default logger "
   ]
  },
  {
   "cell_type": "markdown",
   "id": "aa2cca99",
   "metadata": {},
   "source": [
    "## Basic Configurations\n",
    "\n",
    "Some of the commonly used parameters for basicConfig() are the following:\n",
    "\n",
    "- level: The root logger will be set to the specified severity level.\n",
    "- filename: This specifies the file.\n",
    "- filemode: If filename is given, the file is opened in this mode. The default is a, which means append.\n",
    "- format: This is the format of the log message."
   ]
  },
  {
   "cell_type": "code",
   "execution_count": 1,
   "id": "7e1c81d9",
   "metadata": {
    "local_metadata": {
     "ExecuteTime": {
      "end_time": "2022-03-10T22:03:02.431139Z",
      "start_time": "2022-03-10T22:03:02.420643Z"
     },
     "scrolled": true
    },
    "remote_metadata": {
     "ExecuteTime": {
      "end_time": "2022-03-11T19:43:51.482065Z",
      "start_time": "2022-03-11T19:43:51.473818Z"
     },
     "scrolled": true
    }
   },
   "outputs": [
    {
     "name": "stderr",
     "output_type": "stream",
     "text": [
      "DEBUG:root:This will get logged\n"
     ]
    }
   ],
   "source": [
    "import logging\n",
    "logging.basicConfig(level=logging.DEBUG)\n",
    "logging.debug('This will get logged')"
   ]
  },
  {
   "cell_type": "markdown",
   "id": "3b35872b",
   "metadata": {},
   "source": [
    "For logging to a file rather than the console, filename and filemode can be used, and you can decide the format of the message using format. The following example shows the usage of all three:"
   ]
  },
  {
   "cell_type": "code",
   "execution_count": 1,
   "id": "36c69058",
   "metadata": {
    "local_metadata": {
     "ExecuteTime": {
      "end_time": "2022-03-10T22:04:16.198551Z",
      "start_time": "2022-03-10T22:04:16.188698Z"
     }
    },
    "remote_metadata": {
     "ExecuteTime": {
      "end_time": "2022-03-11T19:45:42.866633Z",
      "start_time": "2022-03-11T19:45:42.858101Z"
     }
    }
   },
   "outputs": [],
   "source": [
    "import logging\n",
    "logging.basicConfig(filename='app.log', filemode='w', format='%(name)s - %(levelname)s - %(message)s')\n",
    "logging.warning('This will get logged to a file')"
   ]
  },
  {
   "cell_type": "markdown",
   "id": "1955aeb7",
   "metadata": {},
   "source": [
    "## Formatting the Output\n",
    "\n",
    "Format can take a string with LogRecord attributes in any arrangement you like. The entire list of available attributes can be found [here](URL 'https://docs.python.org/3/library/logging.html#logrecord-attributes')"
   ]
  },
  {
   "cell_type": "code",
   "execution_count": 1,
   "id": "4ca417c2",
   "metadata": {
    "local_metadata": {
     "ExecuteTime": {
      "end_time": "2022-03-10T22:05:11.923493Z",
      "start_time": "2022-03-10T22:05:11.914904Z"
     }
    },
    "remote_metadata": {
     "ExecuteTime": {
      "end_time": "2022-03-11T19:47:09.461566Z",
      "start_time": "2022-03-11T19:47:09.455111Z"
     }
    }
   },
   "outputs": [],
   "source": [
    "import logging\n",
    "\n",
    "logging.basicConfig(format='%(process)d-%(levelname)s-%(message)s')\n",
    "logging.warning('This is a Warning')"
   ]
  },
  {
   "cell_type": "code",
   "execution_count": 1,
   "id": "46ec39fc",
   "metadata": {
    "local_metadata": {
     "ExecuteTime": {
      "end_time": "2022-03-10T22:05:53.389336Z",
      "start_time": "2022-03-10T22:05:53.379382Z"
     }
    },
    "remote_metadata": {
     "ExecuteTime": {
      "end_time": "2022-03-11T19:47:41.702878Z",
      "start_time": "2022-03-11T19:47:41.697049Z"
     }
    }
   },
   "outputs": [],
   "source": [
    "import logging\n",
    "\n",
    "logging.basicConfig(format='%(asctime)s - %(message)s', level=logging.INFO)\n",
    "logging.info('Admin logged in')"
   ]
  },
  {
   "cell_type": "code",
   "execution_count": 2,
   "id": "f5e89c4a",
   "metadata": {
    "local_metadata": {
     "ExecuteTime": {
      "end_time": "2022-03-10T22:05:57.551744Z",
      "start_time": "2022-03-10T22:05:57.540893Z"
     }
    },
    "remote_metadata": {
     "ExecuteTime": {
      "end_time": "2022-03-11T19:49:42.995423Z",
      "start_time": "2022-03-11T19:49:42.990710Z"
     }
    }
   },
   "outputs": [],
   "source": [
    "import logging\n",
    "\n",
    "logging.basicConfig(format='%(asctime)s - %(message)s', datefmt='%d-%b-%y %H:%M:%S')\n",
    "logging.warning('Admin logged out')"
   ]
  },
  {
   "cell_type": "markdown",
   "id": "6e73a796",
   "metadata": {},
   "source": [
    "## Logging Variable Data"
   ]
  },
  {
   "cell_type": "code",
   "execution_count": null,
   "id": "c2e18836",
   "metadata": {
    "ExecuteTime": {
     "end_time": "2022-03-10T22:06:02.120828Z",
     "start_time": "2022-03-10T22:06:02.115259Z"
    }
   },
   "outputs": [],
   "source": [
    "import logging\n",
    "\n",
    "name = 'John'\n",
    "\n",
    "logging.error('%s raised an error', name)\n",
    "#logging.error(f'{name} raised an error')"
   ]
  },
  {
   "cell_type": "markdown",
   "id": "69ce58e3",
   "metadata": {},
   "source": [
    "## Capturing Stack Traces\n",
    "\n",
    "The logging module also allows you to capture the full stack traces in an application. Exception information can be captured if the exc_info parameter is passed as True"
   ]
  },
  {
   "cell_type": "code",
   "execution_count": null,
   "id": "12fb2f42",
   "metadata": {
    "ExecuteTime": {
     "end_time": "2022-03-10T22:06:29.991171Z",
     "start_time": "2022-03-10T22:06:29.980579Z"
    }
   },
   "outputs": [],
   "source": [
    "import logging\n",
    "\n",
    "a = 5\n",
    "b = 0\n",
    "\n",
    "try:\n",
    "    c = a / b\n",
    "except Exception as e:\n",
    "    #logging.error(\"Exception occurred\", exc_info=True)\n",
    "    logging.exception(\"Exception occurred\")"
   ]
  },
  {
   "cell_type": "markdown",
   "id": "283d94e4",
   "metadata": {},
   "source": [
    "## Classes and Functions\n",
    "\n",
    "The most commonly used classes defined in the logging module are the following:\n",
    "\n",
    "- **Logger**: This is the class whose objects will be used in the application code directly to call the functions.\n",
    "\n",
    "- **LogRecord**: Loggers automatically create LogRecord objects that have all the information related to the event being logged, like the name of the logger, the function, the line number, the message, and more.\n",
    "\n",
    "- **Handler**: Handlers send the LogRecord to the required output destination, like the console or a file. Handler is a base for subclasses like StreamHandler, FileHandler, SMTPHandler, HTTPHandler, and more. These subclasses send the logging outputs to corresponding destinations, like sys.stdout or a disk file.\n",
    "\n",
    "- **Formatter**: This is where you specify the format of the output by specifying a string format that lists out the attributes that the output should contain."
   ]
  },
  {
   "cell_type": "code",
   "execution_count": null,
   "id": "4c280b02",
   "metadata": {
    "ExecuteTime": {
     "end_time": "2022-03-07T20:38:54.554437Z",
     "start_time": "2022-03-07T20:38:54.546561Z"
    }
   },
   "outputs": [],
   "source": [
    "import logging\n",
    "\n",
    "logger = logging.getLogger('example_logger')\n",
    "logger.warning('This is a warning')"
   ]
  },
  {
   "cell_type": "markdown",
   "id": "2ac3449b",
   "metadata": {},
   "source": [
    "Unlike the root logger, a custom logger can’t be configured using basicConfig(). You have to configure it using Handlers and Formatters:"
   ]
  },
  {
   "cell_type": "markdown",
   "id": "6d88c2c5",
   "metadata": {},
   "source": [
    "## Using Handlers\n",
    "\n",
    "Handlers send the log messages to configured destinations like the standard output stream or a file or over HTTP or to your email via SMTP.\n",
    "\n",
    "Like loggers, you can also set the severity level in handlers. This is useful if you want to set multiple handlers for the same logger but want different severity levels for each of them."
   ]
  },
  {
   "cell_type": "code",
   "execution_count": null,
   "id": "cbe9f768",
   "metadata": {
    "ExecuteTime": {
     "end_time": "2022-03-07T20:38:55.037984Z",
     "start_time": "2022-03-07T20:38:55.018879Z"
    }
   },
   "outputs": [],
   "source": [
    "# logging_example.py\n",
    "\n",
    "import logging\n",
    "\n",
    "# Create a custom logger\n",
    "logger = logging.getLogger(__name__)\n",
    "\n",
    "# Create handlers\n",
    "c_handler = logging.StreamHandler()\n",
    "f_handler = logging.FileHandler('file.log')\n",
    "c_handler.setLevel(logging.WARNING)\n",
    "f_handler.setLevel(logging.ERROR)\n",
    "\n",
    "# Create formatters and add it to handlers\n",
    "c_format = logging.Formatter('%(name)s - %(levelname)s - %(message)s')\n",
    "f_format = logging.Formatter('%(asctime)s - %(name)s - %(levelname)s - %(message)s')\n",
    "c_handler.setFormatter(c_format)\n",
    "f_handler.setFormatter(f_format)\n",
    "\n",
    "# Add handlers to the logger\n",
    "logger.addHandler(c_handler)\n",
    "logger.addHandler(f_handler)\n",
    "\n",
    "logger.warning('This is a warning')\n",
    "logger.error('This is an error')"
   ]
  },
  {
   "cell_type": "markdown",
   "id": "952cea8e",
   "metadata": {},
   "source": [
    "The name of the logger corresponding to the __name__ variable is logged as __main__, which is the name Python assigns to the module where execution starts. "
   ]
  },
  {
   "cell_type": "markdown",
   "id": "3da4ce93",
   "metadata": {},
   "source": [
    "## Loading from Yaml file\n"
   ]
  },
  {
   "cell_type": "code",
   "execution_count": null,
   "id": "54d4c424",
   "metadata": {
    "ExecuteTime": {
     "end_time": "2022-03-09T17:27:00.819525Z",
     "start_time": "2022-03-09T17:27:00.724625Z"
    }
   },
   "outputs": [],
   "source": [
    "import logging\n",
    "import logging.config\n",
    "import yaml\n",
    "\n",
    "with open('config.yaml', 'r') as f:\n",
    "    config = yaml.safe_load(f.read())\n",
    "    logging.config.dictConfig(config)\n",
    "\n",
    "logger = logging.getLogger(__name__)\n",
    "\n",
    "logger.debug('This is a debug message')"
   ]
  },
  {
   "cell_type": "markdown",
   "id": "b14d75d7",
   "metadata": {},
   "source": [
    "# Data Version Contol (DVC)\n",
    "\n",
    "## What ?\n",
    "\n",
    "Data Version Control, or DVC, is a data and ML experiment management tool that takes advantage of the existing engineering toolset like Git.\n",
    "\n",
    "\n",
    "## Why ?\n",
    "\n",
    "- Build automated pipelines & reproducible experiments\n",
    "- Manage data and model versioning\n",
    "- Organize project code and team collaboration\n",
    "- Visualize metrics & collaborate on ML experiments.\n",
    "\n",
    "## How ?\n",
    "\n",
    "### **Step 1**: Organize repo & Build a prototype\n",
    "### **Step 2**: Create a single configuration file\n",
    "\n",
    "\n"
   ]
  },
  {
   "cell_type": "code",
   "execution_count": null,
   "id": "1baf0a8b",
   "metadata": {
    "ExecuteTime": {
     "end_time": "2022-03-11T18:16:40.819181Z",
     "start_time": "2022-03-11T18:16:40.756358Z"
    }
   },
   "outputs": [],
   "source": [
    "import yaml\n",
    "%cd /workspace/boneage-arc/"
   ]
  },
  {
   "cell_type": "code",
   "execution_count": null,
   "id": "5c340f3b",
   "metadata": {
    "ExecuteTime": {
     "end_time": "2022-03-11T18:16:41.491525Z",
     "start_time": "2022-03-11T18:16:41.476846Z"
    }
   },
   "outputs": [],
   "source": [
    "with open(\"params.yaml\") as conf_file:\n",
    "    config = yaml.safe_load(conf_file)\n",
    "print(config)"
   ]
  },
  {
   "cell_type": "markdown",
   "id": "bee4da6e",
   "metadata": {},
   "source": [
    "### **Step 3**: Move reusable code to .py modules\n"
   ]
  },
  {
   "cell_type": "code",
   "execution_count": null,
   "id": "a78e20b6",
   "metadata": {
    "ExecuteTime": {
     "end_time": "2022-03-10T16:17:55.403886Z",
     "start_time": "2022-03-10T16:17:55.112581Z"
    }
   },
   "outputs": [],
   "source": [
    "from src.stages.data_load import *\n",
    "from src.utils.logs import get_logger\n"
   ]
  },
  {
   "cell_type": "markdown",
   "id": "67091f39",
   "metadata": {},
   "source": [
    "### **Step 4**: Build ML experiment pipeline"
   ]
  },
  {
   "cell_type": "code",
   "execution_count": null,
   "id": "9b8edd67",
   "metadata": {
    "ExecuteTime": {
     "end_time": "2022-03-10T16:17:59.614268Z",
     "start_time": "2022-03-10T16:17:59.568278Z"
    }
   },
   "outputs": [],
   "source": [
    "data_load(config_path = 'params.yaml')\n",
    "#!python -m src.stages.data_load --config=params.yaml"
   ]
  },
  {
   "cell_type": "markdown",
   "id": "ac95bd24",
   "metadata": {},
   "source": [
    "### **Step 5**: Automate pipeline with DVC\n",
    "\n",
    "Install DVC\n",
    "\n",
    "`!pip install dvc`\n",
    "\n",
    "Initialize DVC\n",
    "\n",
    "`!dvc init`\n",
    "\n",
    "\n",
    "Commit Changes\n",
    "\n",
    "`\n",
    " git status\n",
    " git add .\n",
    " git commit -m \"Initialize dvc\"\n",
    "`\n",
    "\n",
    "Run stages\n",
    "\n",
    "Data load\n",
    "`\n",
    "dvc run --force -n data_load \\\n",
    "-d src/stages/data_load.py \\\n",
    "-o data/processed/processed.csv \\\n",
    "-o data/processed/train_processed.csv \\\n",
    "-o data/processed/test_processed.csv \\\n",
    "-o data/processed/rsna_processed.csv \\\n",
    "-p  base,data_load \\\n",
    "python -m src.stages.data_load --config=params.yaml`\n",
    "\n",
    "Data split\n",
    "`\n",
    "dvc run --force -n data_split \\\n",
    "-d src/stages/data_split.py \\\n",
    "-d data/processed/train_processed.csv \\\n",
    "-o data/processed/train_processed1.csv \\\n",
    "-o data/processed/val_processed.csv \\\n",
    "-p  base,data_split \\\n",
    "python -m src.stages.data_split --config=params.yaml`\n",
    "\n",
    "\n",
    "Featurize\n",
    "`\n",
    "dvc run --force -n featurize \\\n",
    "-d src/stages/featurize.py \\\n",
    "-d data/processed/processed.csv \\\n",
    "-o data/processed/featurized.csv \\\n",
    "-o data/processed/norm_params.json \\\n",
    "-p  base,featurize \\\n",
    "python -m src.stages.featurize --config=params.yaml`\n",
    "\n",
    "Train\n",
    "\n",
    "`\n",
    "dvc run --force -n train_monai \\\n",
    "-d src/stages/train_monai.py \\\n",
    "-d data/processed/train_processed1.csv \\\n",
    "-d data/processed/val_processed.csv \\\n",
    "-o output/models/pipeline_models/Monai_Resnet_1.pth \\\n",
    "-p  base,train \\\n",
    "python -m src.stages.train_monai --config=params.yaml\n",
    "`\n",
    "\n",
    "Evaluate\n",
    "\n",
    "`\n",
    "dvc run --force -n evaluate \\\n",
    "-d src/stages/evaluate.py \\\n",
    "-d data/processed/test_processed.csv \\\n",
    "-d data/processed/rsna_processed.csv \\\n",
    "-d output/models/pipeline_models/Monai_Resnet_1.pth \\\n",
    "-o reports/metrics.json \\\n",
    "-p  base,evaluate \\\n",
    "python -m src.stages.evaluate --config=params.yaml\n",
    "`"
   ]
  },
  {
   "cell_type": "markdown",
   "id": "37a3b3c7",
   "metadata": {
    "ExecuteTime": {
     "end_time": "2022-03-09T17:48:25.132764Z",
     "start_time": "2022-03-09T17:48:22.669611Z"
    }
   },
   "source": [
    "### **Step 6**: Reproduce end-to-end pipeline\n",
    "\n",
    "\n",
    "`dvc repro`\n",
    "\n",
    "`dvc repro -f`\n",
    "\n",
    "`dvc repro -s featurize`\n",
    "\n",
    "\n",
    "Update .py file and run `dvc repro`\n",
    "\n",
    "delete an output file and run `dvc repro`\n",
    "\n",
    "change hyperparams in params.yaml aand run `dvc repro`\n"
   ]
  },
  {
   "cell_type": "code",
   "execution_count": null,
   "id": "0e982eca",
   "metadata": {},
   "outputs": [],
   "source": []
  },
  {
   "cell_type": "code",
   "execution_count": null,
   "id": "d1373394",
   "metadata": {},
   "outputs": [],
   "source": []
  },
  {
   "cell_type": "code",
   "execution_count": null,
   "id": "00f161d6",
   "metadata": {},
   "outputs": [],
   "source": []
  },
  {
   "cell_type": "code",
   "execution_count": null,
   "id": "ccc7e137",
   "metadata": {},
   "outputs": [],
   "source": []
  },
  {
   "cell_type": "code",
   "execution_count": null,
   "id": "9d8699a2",
   "metadata": {},
   "outputs": [],
   "source": []
  },
  {
   "cell_type": "code",
   "execution_count": null,
   "id": "806e6453",
   "metadata": {},
   "outputs": [],
   "source": []
  },
  {
   "cell_type": "code",
   "execution_count": null,
   "id": "e44de084",
   "metadata": {},
   "outputs": [],
   "source": []
  },
  {
   "cell_type": "code",
   "execution_count": null,
   "id": "8407e0da",
   "metadata": {},
   "outputs": [],
   "source": []
  },
  {
   "cell_type": "markdown",
   "id": "c42134d3",
   "metadata": {},
   "source": [
    "## Data Management\n",
    "\n",
    "- Reproducible ML experiments requires versionbed data, models and expiriment artifacts.\n",
    "- Meet regulatory compliance and Ethical AI requirements\n",
    "- Avoid manual versioning\n"
   ]
  },
  {
   "cell_type": "markdown",
   "id": "4422803e",
   "metadata": {
    "ExecuteTime": {
     "end_time": "2022-03-10T17:13:14.606959Z",
     "start_time": "2022-03-10T17:13:14.602512Z"
    }
   },
   "source": [
    "\n",
    "\n",
    "### [Getting Started](https://dvc.org/doc/start/data-management)\n",
    "\n",
    "To start tracking a file or directory, use `dvc add`\n",
    "\n",
    "create a file.txt and track with `dvc add` \n",
    "\n",
    "create a dir and track with `dvc add -v`\n",
    "\n",
    "DVC stores information about the added file in a special .dvc file named `file.txt.dvc` — a small text file with a human-readable format. This metadata file is a placeholder for the original data, and can be easily versioned like source code with Git:\n",
    "\n",
    "`git add file.txt.dvc`\n",
    "\n",
    "`git commit -m \"add raww data\"`\n",
    "\n",
    "\n",
    "```\n",
    "Removing '/workspace/boneage-arc/file.txt'\n",
    "Uploading '/workspace/boneage-arc/.dvc/cache/d4/1d8cd98f00b204e9800998ecf8427e' to '/workspace/boneage-arc/file.txt'\n",
    "Saving information to 'file.txt.dvc'.\n",
    "```"
   ]
  },
  {
   "cell_type": "markdown",
   "id": "7fa4127a",
   "metadata": {},
   "source": [
    "### Storing and sharing\n",
    "\n",
    "You can upload DVC-tracked data or model files with dvc push, so they're safely stored remotely. This also means they can be retrieved on other environments later with dvc pull. First, we need to set up a remote storage location:\n",
    "\n",
    "`dvc remote add -d myremote /workspace/temp`\n",
    "\n",
    "`git add .dvc/config`\n",
    "\n",
    "`git commit -m \"Configure remote storage\"`\n",
    "\n",
    "open config file\n",
    "\n",
    "`dvc push -v`\n",
    "\n",
    "### Retrieving\n",
    "\n",
    "Having DVC-tracked data and models stored remotely, it can be downloaded when needed in other copies of this project with dvc pull\n",
    "\n",
    "dvc uploads dependencies and outputs in `dvc.lock` to remote storage\n",
    "\n",
    "`dvc pull`\n",
    "\n",
    "you can delete the cache (.dvc/cache) and data/data.xml to experiment with dvc pull:\n",
    "\n",
    "`rm -rf .dvc/cache`\n",
    "\n",
    "`rm -f data/data.xml`\n",
    "\n",
    "`dvc pull`\n",
    "\n",
    "\n",
    "### Making changes\n",
    "\n",
    "When you make a change to a file or directory, run dvc add again to track the latest version:\n",
    "\n",
    "\n",
    "make some change\n",
    "\n",
    "`dvc add file.txt`\n",
    "\n",
    "`git commit `\n",
    "\n",
    "`dvc push` \n",
    "\n",
    "### Switching between versions\n",
    "\n",
    "![image.png](attachment:image.png)\n",
    "\n",
    "The regular workflow is to use git checkout first (to switch a branch or checkout a .dvc file version) and then run dvc checkout to sync data:\n",
    "\n",
    "`git checkout <...>`\n",
    "\n",
    "`dvc checkout`\n",
    "\n",
    "go back to the original version of the data:\n",
    "\n",
    "`git checkout HEAD~1 file.txt.dvc`\n",
    "\n",
    "`dvc checkout`\n",
    "\n",
    "`git commit file.txt.dvc -m \"Revert dataset updates\"`\n",
    "\n",
    "\n",
    "\n",
    "- update data\n",
    "\n",
    "- track with dvc\n",
    "\n",
    "- commit .dvc\n",
    "\n",
    "- `git tag -a \"v1.0\" -m \"file with some data\"`\n",
    "\n",
    "- push to remote\n",
    "\n",
    "- git log --oneline\n",
    "\n",
    "- git checkout HEAD^1 file.txt.dvc\n",
    "\n",
    "- dvc checkout\n",
    "\n",
    "- commit changes"
   ]
  },
  {
   "cell_type": "markdown",
   "id": "67a5b2a3",
   "metadata": {},
   "source": [
    "### Data Pipelines\n",
    "\n",
    "dvc stage add -n prepare \\\n",
    "                -p prepare.seed,prepare.split \\\n",
    "                -d src/prepare.py -d data/data.xml \\\n",
    "                -o data/prepared \\\n",
    "                python src/prepare.py data/data.xml\n",
    "\n",
    "DVC uses these metafiles to track the data used and produced by the stage, so there's no need to use `dvc add` manually.\n",
    "\n",
    "Once you added a stage, you can run the pipeline with dvc repro. Next, you can use dvc push if you wish to save all the data to remote storage (usually along with git commit to version DVC metafiles).\n",
    "\n",
    "\n",
    "### Dependency graphs (DAGs)\n",
    "\n",
    "`dvc status` command can be used to compare this state with an actual state of the workspace.\n",
    "\n",
    "change params.yaml stage and check diff\n",
    "\n",
    "Visualize the prepare, featurize, train, and evaluate stages of a pipeline as defined in dvc.yaml:\n",
    "\n",
    "`dvc dag`\n",
    "\n",
    "The pipeline can also be seen from the point of view of how stage outputs/dependencies are connected\n",
    "\n",
    "`dvc dag --outs`\n",
    "\n",
    "### Metrics, Parameters, and Plots\n",
    "\n",
    "`\n",
    "dvc run -n evaluate \\\n",
    "          -d src/evaluate.py -d model.pkl -d data/features \\\n",
    "          -M evaluation.json \\\n",
    "          --plots-no-cache evaluation/plots/precision_recall.json \\\n",
    "          --plots-no-cache evaluation/plots/roc.json \\\n",
    "          --plots-no-cache evaluation/plots/confusion_matrix.json \\\n",
    "          --plots evaluation/importance.png \\\n",
    "          python src/evaluate.py model.pkl data/features`\n",
    "          \n",
    "With cache: false, DVC skips caching the output, as we want evaluation.json, precision_recall.json, confusion_matrix.json, and roc.json to be versioned by Git.\n",
    "\n",
    "you can view tracked metrics and plots with DVC.\n",
    "`dvc metrics show`\n",
    "\n",
    "#### Defining stage parameters\n",
    "\n",
    "make changes to param.yaml file\n",
    "\n",
    "`dvc repro`\n",
    "\n",
    "`dvc params diff `\n",
    "\n",
    "`dvc metrics diff `\n",
    "\n",
    "`dvc plots diff `\n",
    "\n",
    "\n"
   ]
  },
  {
   "cell_type": "code",
   "execution_count": null,
   "id": "809b9d23",
   "metadata": {},
   "outputs": [],
   "source": []
  },
  {
   "cell_type": "markdown",
   "id": "461d98ee",
   "metadata": {},
   "source": [
    "## [Experiments](https://dvc.org/doc/start/experiments)\n",
    "\n",
    "\n",
    "If you already have a DVC project, that's great. You can start to use `dvc exp` commands right away to run experiments in your project.\n",
    "\n",
    "Otherwise:\n",
    "` dvc exp init --interactive`\n",
    "\n",
    "\n",
    "Running the experiment with the default project settings requires only the command:\n",
    "\n",
    "`dvc exp run`\n",
    "\n",
    "This runs the command specified in `dvc.yaml` (`python train.py`), and creates models, plots, and metrics in the respective directories. The experiment is then associated with the values found in the parameters file (`params.yaml`) and other dependencies, as well as the metrics produced.\n",
    "\n",
    "You can review the experiment results with `dvc exp show` and see these metrics and results in a nicely formatted table\n",
    "\n",
    "\n",
    "### Running Experiments\n",
    "\n",
    "Option `dvc exp run --set-param` allows to update experimental parameters without modifying the files manually\n",
    "\n",
    "`dvc exp run --set-param train.estimators.Monai_Resnet.lr=0.003`\n",
    "\n",
    "`dvc exp run -S learning_rate=0.001 -S units=128 `\n",
    "\n",
    "\n",
    "___________\n",
    "\n",
    "\n",
    "Instead of running the experiments one-by-one, we can define them to run in a batch. This is especially handy when you have long running experiments.\n",
    "\n",
    "`dvc exp run --queue -S train.estimators.Monai_Resnet.lr=0.004`\n",
    "\n",
    "`dvc exp run --queue -S train.estimators.Monai_Resnet.lr=0.005`\n",
    "\n",
    "`dvc exp run --queue -S train.estimators.Monai_Resnet.lr=0.005`\n",
    "\n",
    "run all queued experiments in parallel. You can specify the number of parallel processes using --jobs:\n",
    "\n",
    "`dvc exp run --run-all --jobs 2`\n",
    "\n",
    "After selecting an experiment from the table, you can create a Git branch that contains the experiment with all its related files.\n",
    "\n",
    "`dvc exp branch exp-17dd9 \"cnn-256\"`\n",
    "\n",
    "You can then checkout and continue working from this branch, or merge the branch into your main branch with the usual Git commands.\n",
    "\n",
    "`dvc exp diff`\n",
    "\n",
    "Use `dvc exp apply` to restore the results of any other experiment instead.\n",
    "\n",
    "`dvc exp apply exp-e6c97`\n",
    "\n",
    "We can inspect what changed in the workspace with Git,\n",
    "\n",
    "`git status`\n",
    "\n",
    "`git diff params.yaml`\n",
    "\n",
    "and with DVC:\n",
    "\n",
    "`dvc status`\n",
    "\n",
    "`dvc diff`\n",
    "\n",
    "\n",
    "To finish making this experiment persistent, we commit the changes to the repo:\n",
    "\n",
    "`git add .`\n",
    "\n",
    "`git commit -m \"persist exp-e6c97\"`\n",
    "\n",
    "\n",
    "### [Reviewing and Comparing Experiments](https://dvc.org/doc/user-guide/experiment-management/comparing-experiments)\n",
    "\n",
    "List experiments in the project\n",
    "\n",
    "If you want to list all the experiments in the repo regardless of their parent commit, use the `dvc exp list --all-commits`\n",
    "\n"
   ]
  },
  {
   "cell_type": "code",
   "execution_count": null,
   "id": "35e4ac86",
   "metadata": {},
   "outputs": [],
   "source": []
  },
  {
   "cell_type": "code",
   "execution_count": null,
   "id": "2032763f",
   "metadata": {},
   "outputs": [],
   "source": []
  },
  {
   "cell_type": "code",
   "execution_count": null,
   "id": "9e344c0c",
   "metadata": {},
   "outputs": [],
   "source": []
  },
  {
   "cell_type": "code",
   "execution_count": null,
   "id": "10a35115",
   "metadata": {},
   "outputs": [],
   "source": []
  },
  {
   "cell_type": "code",
   "execution_count": null,
   "id": "a1f620d5",
   "metadata": {},
   "outputs": [],
   "source": []
  },
  {
   "cell_type": "markdown",
   "id": "db24cf60",
   "metadata": {},
   "source": [
    "# Iterative Studio\n",
    "\n",
    "Iterative Studio works with the data, metrics and hyperparameters that you add to your ML project Git repositories.\n",
    "\n",
    "When you connect to these repositories from Iterative Studio, the project's dvc.yaml is used to identify all the data, metrics and hyperparameters in your experiments. If you are not using DVC, you can also add the metrics and hyperparameters to your Git repositories manually.\n",
    "\n",
    "Iterative Studio then creates a view, which is an interactive, tabular representation of all the identified values."
   ]
  },
  {
   "cell_type": "markdown",
   "id": "c0687205",
   "metadata": {},
   "source": [
    "## Getting started\n",
    "\n",
    "\n",
    "\n",
    "## Prepare Your Repositories\n",
    "\n",
    "- Set up DVC repositories\n",
    "- Specify custom files with your metrics and parameters\n",
    "\n",
    "## Views and Experiments\n",
    "\n",
    "- What Is a View\n",
    "- Create View\n",
    "\n",
    "    - Sign in to your [Iterative Studio](https://studio.iterative.ai/) dashboard using your GitHub.com, GitLab.com or Bitbucket.org account, or your email address.\n",
    "    - Click on Add a View. All the organizations that you have access to will be listed.\n",
    "    - Open the organization whose repository you want to connect to. You can also use the search bar to directly look for a repository.\n",
    "    - Specify additional connection settings if required.\n",
    "    \n",
    "  You can also create multiple views from a single Git repository and apply different settings to them.\n",
    "  \n",
    "  You can create teams with one or more team members, also called collaborators.\n",
    "\n",
    "    Each team will have its own views dashboard, and the views that you create in the team's dashboard will be accessible to all members of the team.\n",
    "\n",
    "    To add more than 2 collaborators in your team, you can upgrade it to the Team or Enterprise plan.\n",
    "\n",
    "\n",
    "\n"
   ]
  },
  {
   "cell_type": "code",
   "execution_count": null,
   "id": "26f4cb82",
   "metadata": {},
   "outputs": [],
   "source": []
  }
 ],
 "metadata": {
  "kernelspec": {
   "display_name": "Python 3",
   "language": "python",
   "name": "python3"
  },
  "language_info": {
   "codemirror_mode": {
    "name": "ipython",
    "version": 3
   },
   "file_extension": ".py",
   "mimetype": "text/x-python",
   "name": "python",
   "nbconvert_exporter": "python",
   "pygments_lexer": "ipython3",
   "version": "3.8.10"
  },
  "toc": {
   "base_numbering": 1,
   "nav_menu": {},
   "number_sections": false,
   "sideBar": true,
   "skip_h1_title": false,
   "title_cell": "Table of Contents",
   "title_sidebar": "Contents",
   "toc_cell": false,
   "toc_position": {
    "height": "calc(100% - 180px)",
    "left": "10px",
    "top": "150px",
    "width": "165px"
   },
   "toc_section_display": true,
   "toc_window_display": true
  },
  "toc-autonumbering": false,
  "toc-showcode": false
 },
 "nbformat": 4,
 "nbformat_minor": 5
}
