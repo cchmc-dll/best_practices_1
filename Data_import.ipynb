{
 "cells": [
  {
   "cell_type": "markdown",
   "id": "da7dcc24-7392-4734-bf05-6dcfe10d2072",
   "metadata": {},
   "source": [
    "# Data Import From MINIO server"
   ]
  },
  {
   "cell_type": "markdown",
   "id": "3e06b314-7996-460d-a060-e457023eadc8",
   "metadata": {},
   "source": [
    "## A. Accessing MINIO Console"
   ]
  },
  {
   "cell_type": "markdown",
   "id": "a816b692-c384-4eff-b79e-600042e61e35",
   "metadata": {},
   "source": [
    "Step 1: Head to this link http://10.1.32.31:9001 on your browser"
   ]
  },
  {
   "cell_type": "markdown",
   "id": "67a4d0cc-dd30-4b2a-bb96-9b08b4e5a595",
   "metadata": {},
   "source": [
    "Step 2: Login using your username and password"
   ]
  },
  {
   "cell_type": "markdown",
   "id": "f80ae2fa-9d52-434c-9358-718123de00b3",
   "metadata": {},
   "source": [
    "## B. Create test bucket in your name and upload few files"
   ]
  },
  {
   "cell_type": "markdown",
   "id": "8916751e-114c-4bf6-b4a8-a6fa1ca2d8a6",
   "metadata": {},
   "source": [
    "<img style=\"width: 80%\" src=\"minio-1.PNG\">"
   ]
  },
  {
   "cell_type": "markdown",
   "id": "3e0463c7-53a2-4d0e-9187-691a266ebc74",
   "metadata": {},
   "source": [
    "<img src='minio-2.PNG'>"
   ]
  },
  {
   "cell_type": "markdown",
   "id": "aac1383b-3666-44c0-b018-d26d0e741c7d",
   "metadata": {},
   "source": [
    "## C. Download data from MINIO to workspace"
   ]
  },
  {
   "cell_type": "markdown",
   "id": "309c6fb0-b71d-411c-aae7-dee0cac62aa7",
   "metadata": {},
   "source": [
    "### 1. Import libraries"
   ]
  },
  {
   "cell_type": "code",
   "execution_count": 2,
   "id": "1adb45cf-c8c7-4252-88fb-f06c22d0308e",
   "metadata": {},
   "outputs": [],
   "source": [
    "from minio import Minio\n",
    "from dotenv import load_dotenv # add this line\n",
    "import os"
   ]
  },
  {
   "cell_type": "markdown",
   "id": "fe030906-39ff-4c6e-95df-5a33e632f3a2",
   "metadata": {},
   "source": [
    "### 2. Create .env file with credentials "
   ]
  },
  {
   "cell_type": "markdown",
   "id": "842fe0f9-1ae1-44ec-876e-d15274ca72b5",
   "metadata": {},
   "source": [
    "#### Run these in the terminal"
   ]
  },
  {
   "cell_type": "markdown",
   "id": "49694eb8-d4e9-4db9-9d50-bc3fc690c675",
   "metadata": {},
   "source": [
    "`echo \"MINIO_ACCESS\"=USERID >> .env`"
   ]
  },
  {
   "cell_type": "markdown",
   "id": "0b44dcc1-1547-41ae-95e6-50b7a0367361",
   "metadata": {},
   "source": [
    "`echo \"MINIO_KEY\"=PWD >> .env`"
   ]
  },
  {
   "cell_type": "markdown",
   "id": "ba0a0625-0a2d-4a9d-973b-ee1451a1581e",
   "metadata": {},
   "source": [
    "### 3. Load credentials securely"
   ]
  },
  {
   "cell_type": "code",
   "execution_count": 3,
   "id": "e5447ad8-e11f-47d8-aeee-ecf856ac6918",
   "metadata": {},
   "outputs": [],
   "source": [
    "load_dotenv() # add this line\n",
    "user = os.getenv('MINIO_ACCESS')\n",
    "key = os.getenv('MINIO_KEY')"
   ]
  },
  {
   "cell_type": "markdown",
   "id": "9903f3b3-e527-4558-8ce8-24ad00a1a1b8",
   "metadata": {},
   "source": [
    "### 4. Initialize minio client"
   ]
  },
  {
   "cell_type": "code",
   "execution_count": 5,
   "id": "5c803068-3340-490a-b22a-22d0edac0a2b",
   "metadata": {},
   "outputs": [],
   "source": [
    "# Create client with access key and secret key with specific region.\n",
    "client1 = Minio(\n",
    "    \"minio-0:9000\",\n",
    "    access_key=user,\n",
    "    secret_key=key,\n",
    "    secure=False\n",
    ")"
   ]
  },
  {
   "cell_type": "markdown",
   "id": "62b3a6c2-0547-4016-bdeb-bb756b9bfdb9",
   "metadata": {},
   "source": [
    "### 5. Load data into workspace"
   ]
  },
  {
   "cell_type": "code",
   "execution_count": 11,
   "id": "e264e263-c435-413f-8555-4a0b66606429",
   "metadata": {},
   "outputs": [
    {
     "name": "stdout",
     "output_type": "stream",
     "text": [
      "0 Bucket:  elan 2022-03-11 04:19:28.004000+00:00\n"
     ]
    }
   ],
   "source": [
    "# Print buckets in data server\n",
    "buckets = client1.list_buckets()\n",
    "for b,bucket in enumerate(buckets):\n",
    "    print(b, \"Bucket: \" ,bucket.name, bucket.creation_date)"
   ]
  },
  {
   "cell_type": "code",
   "execution_count": 10,
   "id": "775e975f-8d1a-45df-a2c2-126819c7af65",
   "metadata": {},
   "outputs": [],
   "source": [
    "# Download your bucket\n",
    "bucketname = 'elan'\n",
    "os.makedirs(bucketname,exist_ok=True)\n",
    "# List objects information.\n",
    "objects = client1.list_objects(bucketname)\n",
    "for o, obj in enumerate(objects):\n",
    "    # Download data of an object.\n",
    "    client1.fget_object(bucketname, obj.object_name, os.path.join(bucketname,obj.object_name))"
   ]
  },
  {
   "cell_type": "markdown",
   "id": "109604dc-684d-459b-9c93-65d5827c1e86",
   "metadata": {},
   "source": [
    "## D. Upload data from workspace to new bucket in MINIO"
   ]
  },
  {
   "cell_type": "markdown",
   "id": "16f19ced-3bc8-48b6-88ae-acf34a5e26ff",
   "metadata": {},
   "source": [
    "### 1. Define function to delete bucket if it already exists"
   ]
  },
  {
   "cell_type": "code",
   "execution_count": 12,
   "id": "4cd74ca8-d3d9-4423-b372-ddbbb7fc1569",
   "metadata": {},
   "outputs": [],
   "source": [
    "from minio.deleteobjects import DeleteObject\n",
    "def remove_nonempty_bucket(client,bucket_name):\n",
    "    if client.bucket_exists(bucket_name):\n",
    "        if len(list(client.list_objects(bucket_name))) > 0:\n",
    "            delete_object_list = map(lambda x: DeleteObject(x.object_name),\n",
    "                                     client.list_objects(bucket_name,recursive=True),)\n",
    "            errors = client.remove_objects(bucket_name, delete_object_list)\n",
    "            for error in errors:\n",
    "                print(\"error occured when deleting object\", error)\n",
    "        client.remove_bucket(bucket_name)\n",
    "        print(\"Bucket \", bucket_name, \" removed!\")\n",
    "    else:\n",
    "        print(\"Bucket \", bucket_name, \" does not exist!\")"
   ]
  },
  {
   "cell_type": "markdown",
   "id": "c71c6332-6483-40da-9eb9-138866e01a9c",
   "metadata": {},
   "source": [
    "### 2. Set new bucket and upload folder"
   ]
  },
  {
   "cell_type": "code",
   "execution_count": 18,
   "id": "1ce80fd1-d2a8-4d3d-ad0e-019346b8758c",
   "metadata": {},
   "outputs": [],
   "source": [
    "new_bucket = \"dummy\"\n",
    "upload_folder = \"elan/\""
   ]
  },
  {
   "cell_type": "markdown",
   "id": "e8e4bc73-dfbd-414c-9645-6f17dcacec00",
   "metadata": {},
   "source": [
    "### 3. Delete bucket if it exists and create empty bucket"
   ]
  },
  {
   "cell_type": "code",
   "execution_count": 19,
   "id": "60cdc754-abfd-414a-9e18-87dab9c3ad71",
   "metadata": {},
   "outputs": [],
   "source": [
    "client = client1\n",
    "buckets = client1.list_buckets()\n",
    "bucketnames = [b.name for b in buckets]\n",
    "if new_bucket in bucketnames:\n",
    "    remove_nonempty_bucket(client,new_bucket)\n",
    "\n",
    "client.make_bucket(new_bucket)"
   ]
  },
  {
   "cell_type": "markdown",
   "id": "d4eeb6af-1a10-4bd4-afce-284074871167",
   "metadata": {},
   "source": [
    "### 4. Upload Data to bucket"
   ]
  },
  {
   "cell_type": "code",
   "execution_count": 20,
   "id": "6ba29a51-9932-44ce-85c2-0db49ad0eeab",
   "metadata": {},
   "outputs": [
    {
     "name": "stdout",
     "output_type": "stream",
     "text": [
      "Upload Done\n"
     ]
    }
   ],
   "source": [
    "files = os.listdir(upload_folder)\n",
    "for f in files:\n",
    "    prefix = f[:2]\n",
    "    result = client.fput_object(\n",
    "    new_bucket, f, os.path.join(upload_folder,f),\n",
    "    metadata={\"prefix\": prefix},\n",
    "    )\n",
    "    #print(\"created {0} object; etag: {1}, version-id: {2}\".format(result.object_name, result.etag, result.version_id,),)\n",
    "print(\"Upload Done\")"
   ]
  },
  {
   "cell_type": "markdown",
   "id": "3cf801e8-e235-4f67-98e4-4ee47dffe418",
   "metadata": {},
   "source": [
    "### 5. Go to MINIO Console and check if data is uploaded"
   ]
  },
  {
   "cell_type": "markdown",
   "id": "d9a8eb93-5cdb-4e26-b442-34854ce9b8c5",
   "metadata": {},
   "source": [
    "<img style=\"width: 80%\" src=\"cap3.PNG\">"
   ]
  }
 ],
 "metadata": {
  "kernelspec": {
   "display_name": "Python 3",
   "language": "python",
   "name": "python3"
  },
  "language_info": {
   "codemirror_mode": {
    "name": "ipython",
    "version": 3
   },
   "file_extension": ".py",
   "mimetype": "text/x-python",
   "name": "python",
   "nbconvert_exporter": "python",
   "pygments_lexer": "ipython3",
   "version": "3.8.10"
  }
 },
 "nbformat": 4,
 "nbformat_minor": 5
}
