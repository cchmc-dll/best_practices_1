{
 "cells": [
  {
   "cell_type": "markdown",
   "id": "da7dcc24-7392-4734-bf05-6dcfe10d2072",
   "metadata": {},
   "source": [
    "# Data Import From MINIO server"
   ]
  },
  {
   "cell_type": "markdown",
   "id": "3e06b314-7996-460d-a060-e457023eadc8",
   "metadata": {},
   "source": [
    "## A. Accessing MINIO Console"
   ]
  },
  {
   "cell_type": "markdown",
   "id": "a816b692-c384-4eff-b79e-600042e61e35",
   "metadata": {},
   "source": [
    "Step 1: Head to this link http://10.1.32.31:9001 on your browser"
   ]
  },
  {
   "cell_type": "markdown",
   "id": "67a4d0cc-dd30-4b2a-bb96-9b08b4e5a595",
   "metadata": {},
   "source": [
    "Step 2: Login using your username and password"
   ]
  },
  {
   "cell_type": "markdown",
   "id": "f80ae2fa-9d52-434c-9358-718123de00b3",
   "metadata": {},
   "source": [
    "## B. Create test bucket in your name and upload few files"
   ]
  },
  {
   "cell_type": "markdown",
   "id": "8916751e-114c-4bf6-b4a8-a6fa1ca2d8a6",
   "metadata": {},
   "source": [
    "<img style=\"width: 60%\" src=\"im/cap1.PNG\">"
   ]
  },
  {
   "cell_type": "markdown",
   "id": "3e0463c7-53a2-4d0e-9187-691a266ebc74",
   "metadata": {},
   "source": [
    "<img style=\"width: 60%\"  src='im/cap2.PNG'>"
   ]
  },
  {
   "cell_type": "markdown",
   "id": "aac1383b-3666-44c0-b018-d26d0e741c7d",
   "metadata": {},
   "source": [
    "## C. Download data from MINIO to workspace"
   ]
  },
  {
   "cell_type": "markdown",
   "id": "309c6fb0-b71d-411c-aae7-dee0cac62aa7",
   "metadata": {},
   "source": [
    "### 1. Import libraries"
   ]
  },
  {
   "cell_type": "code",
   "execution_count": 3,
   "id": "1adb45cf-c8c7-4252-88fb-f06c22d0308e",
   "metadata": {
    "ExecuteTime": {
     "end_time": "2022-07-07T15:55:17.284619Z",
     "start_time": "2022-07-07T15:55:17.182203Z"
    }
   },
   "outputs": [],
   "source": [
    "from minio import Minio\n",
    "from dotenv import load_dotenv # add this line\n",
    "import os"
   ]
  },
  {
   "cell_type": "markdown",
   "id": "fe030906-39ff-4c6e-95df-5a33e632f3a2",
   "metadata": {},
   "source": [
    "### 2. Create .env file with credentials "
   ]
  },
  {
   "cell_type": "markdown",
   "id": "842fe0f9-1ae1-44ec-876e-d15274ca72b5",
   "metadata": {},
   "source": [
    "#### Run these in the terminal"
   ]
  },
  {
   "cell_type": "markdown",
   "id": "49694eb8-d4e9-4db9-9d50-bc3fc690c675",
   "metadata": {},
   "source": [
    "`echo \"MINIO_ACCESS\"=USERID >> .env`"
   ]
  },
  {
   "cell_type": "markdown",
   "id": "0b44dcc1-1547-41ae-95e6-50b7a0367361",
   "metadata": {},
   "source": [
    "`echo \"MINIO_KEY\"=PWD >> .env`"
   ]
  },
  {
   "cell_type": "markdown",
   "id": "ba0a0625-0a2d-4a9d-973b-ee1451a1581e",
   "metadata": {},
   "source": [
    "### 3. Load credentials securely"
   ]
  },
  {
   "cell_type": "code",
   "execution_count": 4,
   "id": "e5447ad8-e11f-47d8-aeee-ecf856ac6918",
   "metadata": {
    "ExecuteTime": {
     "end_time": "2022-07-07T15:55:19.547657Z",
     "start_time": "2022-07-07T15:55:19.541804Z"
    }
   },
   "outputs": [],
   "source": [
    "load_dotenv() # add this line\n",
    "user = os.getenv('MINIO_ACCESS')\n",
    "key = os.getenv('MINIO_KEY')"
   ]
  },
  {
   "cell_type": "code",
   "execution_count": 5,
   "id": "e1d27268-fcf5-4fac-8cbf-8195053c802e",
   "metadata": {
    "ExecuteTime": {
     "end_time": "2022-07-07T15:55:20.219964Z",
     "start_time": "2022-07-07T15:55:20.214844Z"
    }
   },
   "outputs": [],
   "source": [
    "user"
   ]
  },
  {
   "cell_type": "markdown",
   "id": "9903f3b3-e527-4558-8ce8-24ad00a1a1b8",
   "metadata": {},
   "source": [
    "### 4. Initialize minio client"
   ]
  },
  {
   "cell_type": "code",
   "execution_count": 4,
   "id": "5c803068-3340-490a-b22a-22d0edac0a2b",
   "metadata": {},
   "outputs": [],
   "source": [
    "# Create client with access key and secret key with specific region.\n",
    "client1 = Minio(\n",
    "    \"minio-0:9000\",\n",
    "    access_key=user,\n",
    "    secret_key=key,\n",
    "    secure=False\n",
    ")"
   ]
  },
  {
   "cell_type": "markdown",
   "id": "62b3a6c2-0547-4016-bdeb-bb756b9bfdb9",
   "metadata": {},
   "source": [
    "### 5. Load data into workspace"
   ]
  },
  {
   "cell_type": "code",
   "execution_count": 5,
   "id": "e264e263-c435-413f-8555-4a0b66606429",
   "metadata": {},
   "outputs": [
    {
     "name": "stdout",
     "output_type": "stream",
     "text": [
      "0 Bucket:  aish 2022-03-11 19:18:32.851000+00:00\n",
      "1 Bucket:  dummy 2022-03-11 05:29:36.975000+00:00\n",
      "2 Bucket:  elan 2022-03-11 04:19:28.004000+00:00\n",
      "3 Bucket:  ike 2022-03-14 15:12:48.441000+00:00\n",
      "4 Bucket:  madi 2022-03-15 16:38:34.529000+00:00\n",
      "5 Bucket:  neeraja 2022-03-11 19:20:49.062000+00:00\n",
      "6 Bucket:  neerajanew 2022-03-11 19:29:13.226000+00:00\n",
      "7 Bucket:  zach 2022-03-11 19:22:45.234000+00:00\n"
     ]
    }
   ],
   "source": [
    "# Print buckets in data server\n",
    "buckets = client1.list_buckets()\n",
    "for b,bucket in enumerate(buckets):\n",
    "    print(b, \"Bucket: \" ,bucket.name, bucket.creation_date)"
   ]
  },
  {
   "cell_type": "code",
   "execution_count": 29,
   "id": "775e975f-8d1a-45df-a2c2-126819c7af65",
   "metadata": {},
   "outputs": [
    {
     "ename": "S3Error",
     "evalue": "S3 operation failed; code: NoSuchKey, message: Object does not exist, resource: /madi/stage_2_train_images/, request_id: 16DCE4EA50A10A54, host_id: None, bucket_name: madi, object_name: stage_2_train_images/",
     "output_type": "error",
     "traceback": [
      "\u001b[0;31m---------------------------------------------------------------------------\u001b[0m",
      "\u001b[0;31mS3Error\u001b[0m                                   Traceback (most recent call last)",
      "\u001b[0;32m<ipython-input-29-1364fb7bf623>\u001b[0m in \u001b[0;36m<module>\u001b[0;34m\u001b[0m\n\u001b[1;32m     13\u001b[0m \u001b[0;31m#     if not isFile:\u001b[0m\u001b[0;34m\u001b[0m\u001b[0;34m\u001b[0m\u001b[0;34m\u001b[0m\u001b[0m\n\u001b[1;32m     14\u001b[0m \u001b[0;31m#         os.makedirs(out,exist_ok=True)\u001b[0m\u001b[0;34m\u001b[0m\u001b[0;34m\u001b[0m\u001b[0;34m\u001b[0m\u001b[0m\n\u001b[0;32m---> 15\u001b[0;31m     \u001b[0mclient1\u001b[0m\u001b[0;34m.\u001b[0m\u001b[0mfget_object\u001b[0m\u001b[0;34m(\u001b[0m\u001b[0mbucketname\u001b[0m\u001b[0;34m,\u001b[0m \u001b[0mobj\u001b[0m\u001b[0;34m.\u001b[0m\u001b[0mobject_name\u001b[0m\u001b[0;34m,\u001b[0m \u001b[0mout\u001b[0m\u001b[0;34m)\u001b[0m\u001b[0;34m\u001b[0m\u001b[0;34m\u001b[0m\u001b[0m\n\u001b[0m",
      "\u001b[0;32m/opt/conda/lib/python3.8/site-packages/minio/api.py\u001b[0m in \u001b[0;36mfget_object\u001b[0;34m(self, bucket_name, object_name, file_path, request_headers, ssec, version_id, extra_query_params, tmp_file_path)\u001b[0m\n\u001b[1;32m   1067\u001b[0m         \u001b[0mmakedirs\u001b[0m\u001b[0;34m(\u001b[0m\u001b[0mos\u001b[0m\u001b[0;34m.\u001b[0m\u001b[0mpath\u001b[0m\u001b[0;34m.\u001b[0m\u001b[0mdirname\u001b[0m\u001b[0;34m(\u001b[0m\u001b[0mfile_path\u001b[0m\u001b[0;34m)\u001b[0m\u001b[0;34m)\u001b[0m\u001b[0;34m\u001b[0m\u001b[0;34m\u001b[0m\u001b[0m\n\u001b[1;32m   1068\u001b[0m \u001b[0;34m\u001b[0m\u001b[0m\n\u001b[0;32m-> 1069\u001b[0;31m         stat = self.stat_object(\n\u001b[0m\u001b[1;32m   1070\u001b[0m             \u001b[0mbucket_name\u001b[0m\u001b[0;34m,\u001b[0m\u001b[0;34m\u001b[0m\u001b[0;34m\u001b[0m\u001b[0m\n\u001b[1;32m   1071\u001b[0m             \u001b[0mobject_name\u001b[0m\u001b[0;34m,\u001b[0m\u001b[0;34m\u001b[0m\u001b[0;34m\u001b[0m\u001b[0m\n",
      "\u001b[0;32m/opt/conda/lib/python3.8/site-packages/minio/api.py\u001b[0m in \u001b[0;36mstat_object\u001b[0;34m(self, bucket_name, object_name, ssec, version_id, extra_query_params)\u001b[0m\n\u001b[1;32m   1904\u001b[0m         \u001b[0mquery_params\u001b[0m \u001b[0;34m=\u001b[0m \u001b[0mextra_query_params\u001b[0m \u001b[0;32mor\u001b[0m \u001b[0;34m{\u001b[0m\u001b[0;34m}\u001b[0m\u001b[0;34m\u001b[0m\u001b[0;34m\u001b[0m\u001b[0m\n\u001b[1;32m   1905\u001b[0m         \u001b[0mquery_params\u001b[0m\u001b[0;34m.\u001b[0m\u001b[0mupdate\u001b[0m\u001b[0;34m(\u001b[0m\u001b[0;34m{\u001b[0m\u001b[0;34m\"versionId\"\u001b[0m\u001b[0;34m:\u001b[0m \u001b[0mversion_id\u001b[0m\u001b[0;34m}\u001b[0m \u001b[0;32mif\u001b[0m \u001b[0mversion_id\u001b[0m \u001b[0;32melse\u001b[0m \u001b[0;34m{\u001b[0m\u001b[0;34m}\u001b[0m\u001b[0;34m)\u001b[0m\u001b[0;34m\u001b[0m\u001b[0;34m\u001b[0m\u001b[0m\n\u001b[0;32m-> 1906\u001b[0;31m         response = self._execute(\n\u001b[0m\u001b[1;32m   1907\u001b[0m             \u001b[0;34m\"HEAD\"\u001b[0m\u001b[0;34m,\u001b[0m\u001b[0;34m\u001b[0m\u001b[0;34m\u001b[0m\u001b[0m\n\u001b[1;32m   1908\u001b[0m             \u001b[0mbucket_name\u001b[0m\u001b[0;34m,\u001b[0m\u001b[0;34m\u001b[0m\u001b[0;34m\u001b[0m\u001b[0m\n",
      "\u001b[0;32m/opt/conda/lib/python3.8/site-packages/minio/api.py\u001b[0m in \u001b[0;36m_execute\u001b[0;34m(self, method, bucket_name, object_name, body, headers, query_params, preload_content, no_body_trace)\u001b[0m\n\u001b[1;32m    411\u001b[0m \u001b[0;34m\u001b[0m\u001b[0m\n\u001b[1;32m    412\u001b[0m         \u001b[0;32mtry\u001b[0m\u001b[0;34m:\u001b[0m\u001b[0;34m\u001b[0m\u001b[0;34m\u001b[0m\u001b[0m\n\u001b[0;32m--> 413\u001b[0;31m             return self._url_open(\n\u001b[0m\u001b[1;32m    414\u001b[0m                 \u001b[0mmethod\u001b[0m\u001b[0;34m,\u001b[0m\u001b[0;34m\u001b[0m\u001b[0;34m\u001b[0m\u001b[0m\n\u001b[1;32m    415\u001b[0m                 \u001b[0mregion\u001b[0m\u001b[0;34m,\u001b[0m\u001b[0;34m\u001b[0m\u001b[0;34m\u001b[0m\u001b[0m\n",
      "\u001b[0;32m/opt/conda/lib/python3.8/site-packages/minio/api.py\u001b[0m in \u001b[0;36m_url_open\u001b[0;34m(self, method, region, bucket_name, object_name, body, headers, query_params, preload_content, no_body_trace)\u001b[0m\n\u001b[1;32m    394\u001b[0m             \u001b[0mself\u001b[0m\u001b[0;34m.\u001b[0m\u001b[0m_region_map\u001b[0m\u001b[0;34m.\u001b[0m\u001b[0mpop\u001b[0m\u001b[0;34m(\u001b[0m\u001b[0mbucket_name\u001b[0m\u001b[0;34m,\u001b[0m \u001b[0;32mNone\u001b[0m\u001b[0;34m)\u001b[0m\u001b[0;34m\u001b[0m\u001b[0;34m\u001b[0m\u001b[0m\n\u001b[1;32m    395\u001b[0m \u001b[0;34m\u001b[0m\u001b[0m\n\u001b[0;32m--> 396\u001b[0;31m         \u001b[0;32mraise\u001b[0m \u001b[0mresponse_error\u001b[0m\u001b[0;34m\u001b[0m\u001b[0;34m\u001b[0m\u001b[0m\n\u001b[0m\u001b[1;32m    397\u001b[0m \u001b[0;34m\u001b[0m\u001b[0m\n\u001b[1;32m    398\u001b[0m     def _execute(\n",
      "\u001b[0;31mS3Error\u001b[0m: S3 operation failed; code: NoSuchKey, message: Object does not exist, resource: /madi/stage_2_train_images/, request_id: 16DCE4EA50A10A54, host_id: None, bucket_name: madi, object_name: stage_2_train_images/"
     ]
    }
   ],
   "source": [
    "# Download your bucket\n",
    "bucketname = 'madi'\n",
    "os.makedirs(bucketname,exist_ok=True)\n",
    "# List objects information.\n",
    "objects = client1.list_objects(bucketname)\n",
    "#print('Number of objects in bucket: ', len(list(objects)))\n",
    "for o, obj in enumerate(objects): # Download data of an object.\n",
    "#     print(dir(obj))\n",
    "#     print(obj)\n",
    "#     print('processsing: ', o, obj.object_name)\n",
    "    out = os.path.join(bucketname,obj.object_name)\n",
    "#     isFile = os.path.isfile(out)\n",
    "#     if not isFile:\n",
    "#         os.makedirs(out,exist_ok=True)\n",
    "    client1.fget_object(bucketname, obj.object_name, out)"
   ]
  },
  {
   "cell_type": "markdown",
   "id": "109604dc-684d-459b-9c93-65d5827c1e86",
   "metadata": {},
   "source": [
    "## D. Upload data from workspace to new bucket in MINIO"
   ]
  },
  {
   "cell_type": "markdown",
   "id": "16f19ced-3bc8-48b6-88ae-acf34a5e26ff",
   "metadata": {},
   "source": [
    "### 1. Define function to delete bucket if it already exists"
   ]
  },
  {
   "cell_type": "code",
   "execution_count": null,
   "id": "4cd74ca8-d3d9-4423-b372-ddbbb7fc1569",
   "metadata": {},
   "outputs": [],
   "source": [
    "from minio.deleteobjects import DeleteObject\n",
    "def remove_nonempty_bucket(client,bucket_name):\n",
    "    if client.bucket_exists(bucket_name):\n",
    "        if len(list(client.list_objects(bucket_name))) > 0:\n",
    "            delete_object_list = map(lambda x: DeleteObject(x.object_name),\n",
    "                                     client.list_objects(bucket_name,recursive=True),)\n",
    "            errors = client.remove_objects(bucket_name, delete_object_list)\n",
    "            for error in errors:\n",
    "                print(\"error occured when deleting object\", error)\n",
    "        client.remove_bucket(bucket_name)\n",
    "        print(\"Bucket \", bucket_name, \" removed!\")\n",
    "    else:\n",
    "        print(\"Bucket \", bucket_name, \" does not exist!\")"
   ]
  },
  {
   "cell_type": "markdown",
   "id": "c71c6332-6483-40da-9eb9-138866e01a9c",
   "metadata": {},
   "source": [
    "### 2. Set new bucket and upload folder"
   ]
  },
  {
   "cell_type": "code",
   "execution_count": null,
   "id": "1ce80fd1-d2a8-4d3d-ad0e-019346b8758c",
   "metadata": {},
   "outputs": [],
   "source": [
    "new_bucket = \"dummy\"\n",
    "upload_folder = \"elan/\""
   ]
  },
  {
   "cell_type": "markdown",
   "id": "e8e4bc73-dfbd-414c-9645-6f17dcacec00",
   "metadata": {},
   "source": [
    "### 3. Delete bucket if it exists and create empty bucket"
   ]
  },
  {
   "cell_type": "code",
   "execution_count": null,
   "id": "60cdc754-abfd-414a-9e18-87dab9c3ad71",
   "metadata": {},
   "outputs": [],
   "source": [
    "client = client1\n",
    "buckets = client1.list_buckets()\n",
    "bucketnames = [b.name for b in buckets]\n",
    "if new_bucket in bucketnames:\n",
    "    remove_nonempty_bucket(client,new_bucket)\n",
    "\n",
    "client.make_bucket(new_bucket)"
   ]
  },
  {
   "cell_type": "markdown",
   "id": "d4eeb6af-1a10-4bd4-afce-284074871167",
   "metadata": {},
   "source": [
    "### 4. Upload Data to bucket"
   ]
  },
  {
   "cell_type": "code",
   "execution_count": null,
   "id": "6ba29a51-9932-44ce-85c2-0db49ad0eeab",
   "metadata": {},
   "outputs": [],
   "source": [
    "files = os.listdir(upload_folder)\n",
    "for f in files:\n",
    "    prefix = f[:2]\n",
    "    result = client.fput_object(\n",
    "    new_bucket, f, os.path.join(upload_folder,f),\n",
    "    metadata={\"prefix\": prefix},\n",
    "    )\n",
    "    #print(\"created {0} object; etag: {1}, version-id: {2}\".format(result.object_name, result.etag, result.version_id,),)\n",
    "print(\"Upload Done\")"
   ]
  },
  {
   "cell_type": "markdown",
   "id": "3cf801e8-e235-4f67-98e4-4ee47dffe418",
   "metadata": {},
   "source": [
    "### 5. Go to MINIO Console and check if data is uploaded"
   ]
  },
  {
   "cell_type": "markdown",
   "id": "d9a8eb93-5cdb-4e26-b442-34854ce9b8c5",
   "metadata": {},
   "source": [
    "<img style=\"width: 40%\" src=\"im/cap3.PNG\">"
   ]
  },
  {
   "cell_type": "code",
   "execution_count": null,
   "id": "5b7dcfee-3543-4d71-ac08-e6de4b156632",
   "metadata": {},
   "outputs": [],
   "source": []
  }
 ],
 "metadata": {
  "kernelspec": {
   "display_name": "Python 3",
   "language": "python",
   "name": "python3"
  },
  "language_info": {
   "codemirror_mode": {
    "name": "ipython",
    "version": 3
   },
   "file_extension": ".py",
   "mimetype": "text/x-python",
   "name": "python",
   "nbconvert_exporter": "python",
   "pygments_lexer": "ipython3",
   "version": "3.8.10"
  },
  "toc": {
   "base_numbering": 1,
   "nav_menu": {},
   "number_sections": false,
   "sideBar": true,
   "skip_h1_title": false,
   "title_cell": "Table of Contents",
   "title_sidebar": "Contents",
   "toc_cell": false,
   "toc_position": {},
   "toc_section_display": true,
   "toc_window_display": false
  }
 },
 "nbformat": 4,
 "nbformat_minor": 5
}
