{
 "cells": [
  {
   "cell_type": "markdown",
   "metadata": {
    "id": "Sji_Go53ldPD"
   },
   "source": [
    "# Modular cloud native development in Python and Jupyter - demo using padded resizing of 2D images"
   ]
  },
  {
   "cell_type": "markdown",
   "metadata": {
    "id": "aDn7AhnwGZpJ"
   },
   "source": [
    "## A. Set the working directory"
   ]
  },
  {
   "cell_type": "code",
   "execution_count": 2,
   "metadata": {},
   "outputs": [
    {
     "name": "stdout",
     "output_type": "stream",
     "text": [
      "Current working dir:  /workspace/best_practices_1\n"
     ]
    }
   ],
   "source": [
    "import os\n",
    "print('Current working dir: ', os.getcwd())"
   ]
  },
  {
   "cell_type": "markdown",
   "metadata": {},
   "source": [
    "Change directory if it is not in your desired repo/directory"
   ]
  },
  {
   "cell_type": "code",
   "execution_count": null,
   "metadata": {
    "collapsed": true,
    "jupyter": {
     "outputs_hidden": true
    }
   },
   "outputs": [],
   "source": [
    "os.chdir('/workspace/best_practices_1')"
   ]
  },
  {
   "cell_type": "markdown",
   "metadata": {},
   "source": [
    "### 2. Import Libraries and helper functions"
   ]
  },
  {
   "cell_type": "code",
   "execution_count": 7,
   "metadata": {},
   "outputs": [],
   "source": [
    "#%%writefile 'src/resize/resize_pad.py'\n",
    "import cv2\n",
    "import yaml\n",
    "from imutils import paths\n",
    "import argparse\n",
    "import pickle\n",
    "import os\n",
    "#from src.utils import save_object\n",
    "\n",
    "def save_object(obj, filename):\n",
    "    with open(filename, 'wb') as output:  # Overwrites any existing file.\n",
    "        pickle.dump(obj, output, pickle.HIGHEST_PROTOCOL)"
   ]
  },
  {
   "cell_type": "markdown",
   "metadata": {},
   "source": [
    "### 3. Edit Configuration file with inputs needed for the task"
   ]
  },
  {
   "cell_type": "code",
   "execution_count": null,
   "metadata": {
    "scrolled": true
   },
   "outputs": [],
   "source": [
    "config_file = 'src/resize/params_single.yaml'\n",
    "print(config_file)\n",
    "with open(config_file) as conf_file:\n",
    "    config = yaml.safe_load(conf_file)\n",
    "print(config)"
   ]
  },
  {
   "cell_type": "code",
   "execution_count": null,
   "metadata": {},
   "outputs": [],
   "source": [
    "config['data']['data_dir'] = 'data/demo'\n",
    "config['data']['output_dir'] = 'output/demo/resize'\n",
    "config['data']['pkl_dir'] = 'pickles/demo/resize'\n",
    "config['desired_size'] = 224\n",
    "config['output'] = {'format':'png'}\n",
    "#del config['data']['input_csv']\n",
    "#print(config)\n",
    "#data = main(config)"
   ]
  },
  {
   "cell_type": "code",
   "execution_count": null,
   "metadata": {},
   "outputs": [],
   "source": [
    "with open('src/resize/params_single.yaml', 'w') as outfile:\n",
    "    yaml.dump(config, outfile, default_flow_style=False)"
   ]
  },
  {
   "cell_type": "markdown",
   "metadata": {},
   "source": [
    "### 3. Define functions needed to accomplish task on a single datum"
   ]
  },
  {
   "cell_type": "code",
   "execution_count": null,
   "metadata": {
    "id": "9UmAC1RUnJYt"
   },
   "outputs": [],
   "source": [
    "#%%writefile -a 'src/resize/resize_pad.py'\n",
    "def resize_pad(input_image,desired_size,toRGB): \n",
    "        im = input_image\n",
    "        if toRGB:\n",
    "            im = cv2.cvtColor(im, cv2.COLOR_BGR2RGB)\n",
    "        \n",
    "        old_size = im.shape[:2] # old_size is in (height, width) format\n",
    "        ratio = float(desired_size)/max(old_size)\n",
    "        new_size = tuple([int(x*ratio) for x in old_size])\n",
    "        # new_size should be in (width, height) format\n",
    "\n",
    "        im = cv2.resize(im, (new_size[1], new_size[0]))\n",
    "        delta_w = desired_size - new_size[1]\n",
    "        delta_h = desired_size - new_size[0]\n",
    "        top, bottom = delta_h//2, delta_h-(delta_h//2)\n",
    "        left, right = delta_w//2, delta_w-(delta_w//2)\n",
    "        color = [0, 0, 0]\n",
    "        new_im = cv2.copyMakeBorder(im, top, bottom, left, right, cv2.BORDER_CONSTANT,\n",
    "            value=color)\n",
    "        return new_im"
   ]
  },
  {
   "cell_type": "markdown",
   "metadata": {},
   "source": [
    "### 4. Define main function to load and write data for the task"
   ]
  },
  {
   "cell_type": "code",
   "execution_count": null,
   "metadata": {
    "id": "9UmAC1RUnJYt"
   },
   "outputs": [],
   "source": [
    "def main(config): \n",
    "    # Get input\n",
    "    imfiles = [f for f in os.listdir(config['data'][\"data_dir\"]) if not f.startswith('.')]\n",
    "    data = []\n",
    "    \n",
    "    # Process\n",
    "    for f in imfiles:\n",
    "        im = cv2.imread(os.path.join(config['data']['data_dir'],f))\n",
    "        new_im = resize_pad(im,config['desired_size'],config['toRGB'])\n",
    "        data.append(new_im)\n",
    "\n",
    "    # Create Output\n",
    "    if config['output']['format'] == 'png':      \n",
    "        outdir = config['data']['output_dir']\n",
    "        os.makedirs(outdir,exist_ok=True)\n",
    "        for f,d in zip(imfiles,data):\n",
    "            cv2.imwrite(os.path.join(outdir,f), d)\n",
    "    elif config['output']['format'] == 'pkl':\n",
    "        outdir = config['data']['pkl_dir']\n",
    "        os.makedirs(outdir,exist_ok=True)\n",
    "        save_object(data,os.path.join(outdir,'resized_output.pkl'))\n",
    "    \n",
    "    print('resize_pad complete')\n",
    "    return data, imfiles"
   ]
  },
  {
   "cell_type": "markdown",
   "metadata": {},
   "source": [
    "### 5. Debug and iterate until code works "
   ]
  },
  {
   "cell_type": "code",
   "execution_count": null,
   "metadata": {},
   "outputs": [],
   "source": [
    "data, imfiles = main(config)"
   ]
  },
  {
   "cell_type": "markdown",
   "metadata": {},
   "source": [
    "### 6. If code works add command \"%%writefile 'path_to_file.py'\" to section 2 cells, and  \"%%writefile -a 'path_to_file.py'\" to cells in section 3,4 and 6 [cell below] and execute the cells."
   ]
  },
  {
   "cell_type": "markdown",
   "metadata": {},
   "source": [
    "Code below is needed for python module to take config file as input and execute the .py file"
   ]
  },
  {
   "cell_type": "code",
   "execution_count": null,
   "metadata": {
    "scrolled": true
   },
   "outputs": [],
   "source": [
    "%%writefile -a 'src/resize/resize_pad.py'\n",
    "if __name__ == \"__main__\":\n",
    "    parser = argparse.ArgumentParser(description='Configuration file to run resize_pad()')\n",
    "    parser.add_argument('--config', dest='config', required=True)\n",
    "    args = parser.parse_args()\n",
    "    with open(args.config) as conf_file:\n",
    "        config = yaml.safe_load(conf_file)\n",
    "    \n",
    "    print('Output variables data and infiles')\n",
    "    data, infiles = main(config)"
   ]
  },
  {
   "cell_type": "markdown",
   "metadata": {},
   "source": [
    "### 7. Test if module was created correctly by running it in terminal or in bash mode:"
   ]
  },
  {
   "cell_type": "code",
   "execution_count": null,
   "metadata": {},
   "outputs": [],
   "source": [
    "# Test if it works in module format\n",
    "!python3 src/resize/resize_pad.py --config src/resize/params_single.yaml"
   ]
  },
  {
   "cell_type": "markdown",
   "metadata": {},
   "source": [
    "### 8. Create requirements file for packaging a task specific Docker Container"
   ]
  },
  {
   "cell_type": "code",
   "execution_count": null,
   "metadata": {
    "tags": []
   },
   "outputs": [],
   "source": [
    "import pigar"
   ]
  },
  {
   "cell_type": "code",
   "execution_count": null,
   "metadata": {},
   "outputs": [],
   "source": [
    "!pigar -p 'src/resize/requirements.txt' -P 'src/resize'"
   ]
  },
  {
   "cell_type": "markdown",
   "metadata": {},
   "source": [
    "### 9. [Optional] Write a Dockerfile to create a container image for the app/task"
   ]
  },
  {
   "cell_type": "code",
   "execution_count": null,
   "metadata": {},
   "outputs": [],
   "source": [
    "%%writefile -a 'src/resize/resize_pad.py'\n",
    "FROM Python\n",
    "\n",
    "COPY resize/requirements.txt /opt/requriements.txt\n",
    "\n",
    "RUN pip install --no-cache-dir "
   ]
  }
 ],
 "metadata": {
  "accelerator": "GPU",
  "colab": {
   "collapsed_sections": [],
   "name": " Xray-classification-full-pipeline-v7.ipynb",
   "provenance": [],
   "toc_visible": true
  },
  "kernelspec": {
   "display_name": "Python 3",
   "language": "python",
   "name": "python3"
  },
  "language_info": {
   "codemirror_mode": {
    "name": "ipython",
    "version": 3
   },
   "file_extension": ".py",
   "mimetype": "text/x-python",
   "name": "python",
   "nbconvert_exporter": "python",
   "pygments_lexer": "ipython3",
   "version": "3.8.10"
  }
 },
 "nbformat": 4,
 "nbformat_minor": 4
}
