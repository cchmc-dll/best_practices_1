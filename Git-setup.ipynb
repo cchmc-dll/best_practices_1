{
 "cells": [
  {
   "cell_type": "markdown",
   "id": "602db89a-14fe-4c78-b838-c224320a70aa",
   "metadata": {},
   "source": [
    "# GIT Setup and Basics"
   ]
  },
  {
   "cell_type": "markdown",
   "id": "c683b621-32de-42c4-b5d6-24c6a0af2b43",
   "metadata": {},
   "source": [
    "##  A. Perform these setup steps in a terminal"
   ]
  },
  {
   "cell_type": "markdown",
   "id": "4398e511-9ee3-4664-a2fb-2c8397a0262e",
   "metadata": {},
   "source": [
    "### 1. Configure user name"
   ]
  },
  {
   "attachments": {
    "bf728f67-5f1f-4891-be4f-150074b15bc6.png": {
     "image/png": "[encoded data removed]"
    }
   },
   "cell_type": "markdown",
   "id": "39ba6e40-cd95-4a2a-8293-751700e0c3bd",
   "metadata": {},
   "source": [
    "![git0.png](attachment:bf728f67-5f1f-4891-be4f-150074b15bc6.png)<img style=\"width: 40%\" src=\"im/git0.PNG\">"
   ]
  },
  {
   "cell_type": "markdown",
   "id": "a9fa4d11-a65b-440a-bf3a-57e504a80d04",
   "metadata": {},
   "source": [
    "### 2. Setup SSH key"
   ]
  },
  {
   "cell_type": "markdown",
   "id": "e9e294e7-9428-4974-9ef1-b861993aba3e",
   "metadata": {},
   "source": [
    "<img style=\"width: 80%\" src=\"im/git1.PNG\">"
   ]
  },
  {
   "cell_type": "markdown",
   "id": "f656d51e-f7fe-45c5-8293-b6151c288f7b",
   "metadata": {},
   "source": [
    "IF *.pub does not exist, generate it using the following command, with your email id"
   ]
  },
  {
   "cell_type": "markdown",
   "id": "dc67dff6-ba5a-46eb-8b30-9798f6f831e3",
   "metadata": {},
   "source": [
    "<img style=\"width: 60%\" src=\"im/git3.PNG\">"
   ]
  },
  {
   "cell_type": "markdown",
   "id": "faa10d31-4275-4bbd-87b7-ec1d4a57123b",
   "metadata": {},
   "source": [
    "### 3. Upload public key to GITHUB"
   ]
  },
  {
   "cell_type": "markdown",
   "id": "d3ec8d6f-5ca8-478e-af9c-c9450317baa3",
   "metadata": {},
   "source": [
    "Copy the output of the following command:\n",
    "\n",
    "<img style=\"width: 30%\" src=\"im/git4.PNG\">"
   ]
  },
  {
   "cell_type": "markdown",
   "id": "f3c9e1cf-fdec-4e71-945b-c268b5ce7ca7",
   "metadata": {},
   "source": [
    "Go to settings on your GITHUB account:\n",
    "\n",
    "<img style=\"width: 20%\" src=\"im/git5.PNG\">"
   ]
  },
  {
   "cell_type": "markdown",
   "id": "09bd7c56-4673-4939-9a7c-259117325c54",
   "metadata": {},
   "source": [
    "Paste them under new SSH key:\n",
    "\n",
    "<img style=\"width: 20%\" src=\"im/git6.PNG\">"
   ]
  },
  {
   "cell_type": "markdown",
   "id": "95dfcf5b-6191-4889-b90a-065b48c08a8d",
   "metadata": {},
   "source": [
    "<img style=\"width: 20%\" src=\"im/git7.PNG\">"
   ]
  },
  {
   "cell_type": "markdown",
   "id": "49999665-6b65-46fb-955b-9cb9be818fcb",
   "metadata": {},
   "source": [
    "run `chmod 600 ~/.ssh/config`"
   ]
  },
  {
   "cell_type": "markdown",
   "id": "c81ba050-824f-416a-b0c6-04194ac47de4",
   "metadata": {},
   "source": [
    "Finally run `ssh -T git@github.com`"
   ]
  },
  {
   "cell_type": "markdown",
   "id": "3a6e893e-2477-48e0-91f9-067d477390c4",
   "metadata": {},
   "source": [
    "## Basic Operations:"
   ]
  },
  {
   "cell_type": "markdown",
   "id": "e78706e6-eca0-4a91-96cd-1f30added248",
   "metadata": {},
   "source": [
    "### 1. Set remote "
   ]
  },
  {
   "cell_type": "markdown",
   "id": "70ce45a6-c573-4262-9ef3-ce26d3d1e854",
   "metadata": {},
   "source": [
    "`git remote set-url origin git@github.com:cchmc-dll/best_practices_1.git`"
   ]
  },
  {
   "cell_type": "markdown",
   "id": "2a0dd1de-d3e0-42d3-9942-339223b92fa2",
   "metadata": {},
   "source": [
    "### 2. Fetch all branches in remote"
   ]
  },
  {
   "cell_type": "markdown",
   "id": "ff6b4df6-80e4-4ece-b5c0-f5556f1e5c6e",
   "metadata": {},
   "source": [
    "`git fetch`"
   ]
  },
  {
   "cell_type": "markdown",
   "id": "34ef8299-eb76-4782-8003-e4c2135f02ec",
   "metadata": {},
   "source": [
    "### 3. Show all branches:"
   ]
  },
  {
   "cell_type": "markdown",
   "id": "1c412fb9-e719-4728-bea2-6307e198f940",
   "metadata": {},
   "source": [
    "`git branch -a`"
   ]
  },
  {
   "cell_type": "markdown",
   "id": "87f4d5d2-1600-4da5-b640-d6944e042868",
   "metadata": {},
   "source": [
    "Use `ESC + :q` to exit VIM"
   ]
  },
  {
   "cell_type": "markdown",
   "id": "3f0d89d0-52fa-4968-970d-1fa74c3550fb",
   "metadata": {},
   "source": [
    "### 4. Switch to new branch:"
   ]
  },
  {
   "cell_type": "markdown",
   "id": "eae4fcca-2d9d-4e4b-a23d-595115fa21ef",
   "metadata": {},
   "source": [
    "`git switch -c demo origin/demo`"
   ]
  },
  {
   "cell_type": "markdown",
   "id": "e461f688-53b5-4900-8f01-daf3fa25fb3d",
   "metadata": {},
   "source": [
    "### 5. Create new local branch:"
   ]
  },
  {
   "cell_type": "markdown",
   "id": "0b8fa52d-b2fd-422d-a920-c32fa9b59889",
   "metadata": {},
   "source": [
    "`git branch test`"
   ]
  },
  {
   "cell_type": "markdown",
   "id": "6f8fc62f-d676-4442-b251-7edb502936a4",
   "metadata": {},
   "source": [
    "### 6. Switch to new branch:"
   ]
  },
  {
   "cell_type": "markdown",
   "id": "5e055796-9705-4b17-9c05-4df4fe3eb4b2",
   "metadata": {},
   "source": [
    "`git switch test-yourname`"
   ]
  },
  {
   "cell_type": "markdown",
   "id": "e34cbc60-a3c7-45d6-b195-c62bda4b7cbd",
   "metadata": {},
   "source": [
    "### 7. Make changes in the repo and stage them:"
   ]
  },
  {
   "cell_type": "markdown",
   "id": "33e705f0-f423-4004-b392-5ff1203ed1ca",
   "metadata": {},
   "source": [
    "Create a file in your name:\n",
    "`echo MYNAMEFILE >> name.txt`"
   ]
  },
  {
   "cell_type": "markdown",
   "id": "67a59f25-9430-4f4e-9faf-f1b53652289b",
   "metadata": {},
   "source": [
    "`git add .`"
   ]
  },
  {
   "cell_type": "markdown",
   "id": "0353af07-bfc7-4468-92cc-0efaabbc5185",
   "metadata": {},
   "source": [
    "### 8. Commit Changes:"
   ]
  },
  {
   "cell_type": "markdown",
   "id": "48aa4433-9f70-4741-aaf7-4e67d258a670",
   "metadata": {},
   "source": [
    "`git commit -m \"First Test Commit\"`"
   ]
  },
  {
   "cell_type": "markdown",
   "id": "8c58ffe3-02c8-414d-9162-9faff6220f5f",
   "metadata": {},
   "source": [
    "### 9. Push changes to remote:"
   ]
  },
  {
   "cell_type": "markdown",
   "id": "df5781f5-c3e4-4c8b-ae3d-44423158acca",
   "metadata": {},
   "source": [
    "`git push -u origin test-yourname`"
   ]
  },
  {
   "cell_type": "markdown",
   "id": "9b8b6a54-02ba-484f-8030-20bf7435b787",
   "metadata": {},
   "source": [
    "### 10. Merge to latest branch"
   ]
  },
  {
   "cell_type": "markdown",
   "id": "5bf33ec6-d5b5-4cae-b7bb-eb3a4c1bd2a4",
   "metadata": {},
   "source": [
    "Switch back to your local demo branch\n",
    "`git switch demo`"
   ]
  },
  {
   "cell_type": "markdown",
   "id": "c5bca17e-d2a5-499f-a3c1-32e28a209f56",
   "metadata": {},
   "source": [
    "Create a file in your nick name: `echo MYNICKNAMEFILE >> nickname.txt`"
   ]
  },
  {
   "cell_type": "markdown",
   "id": "ee0265b5-eb10-4d13-be75-a1fe3f7523a4",
   "metadata": {},
   "source": [
    "`git add nickname.txt`"
   ]
  },
  {
   "cell_type": "markdown",
   "id": "27c32bc4-6a18-432d-a631-250fb52de9c7",
   "metadata": {},
   "source": [
    "`git commit -m \"added nick\"`"
   ]
  },
  {
   "cell_type": "markdown",
   "id": "d3791be2-ef43-4cd0-9b69-676bd8495af1",
   "metadata": {},
   "source": [
    "Merge with test-yourname branch"
   ]
  },
  {
   "cell_type": "markdown",
   "id": "24b55721-c332-4684-806b-52e00c0f6895",
   "metadata": {},
   "source": [
    "`git merge -m \"message\" test-yourname`"
   ]
  },
  {
   "cell_type": "markdown",
   "id": "c224d1b1-1d0b-43f8-b447-5f862722fe19",
   "metadata": {},
   "source": [
    "### 11. Get a specific file from another branch"
   ]
  },
  {
   "cell_type": "markdown",
   "id": "5f1ae415-221a-406a-8d7f-ac3704fdea08",
   "metadata": {},
   "source": [
    "`git checkout otherbranch myfile.txt`"
   ]
  },
  {
   "cell_type": "markdown",
   "id": "1b082b3c-ee68-4462-b644-c8f1a99ebee0",
   "metadata": {},
   "source": [
    "### 12. Try using Git plugins in Jupyter - Understand the features before using them for serious commits"
   ]
  },
  {
   "cell_type": "code",
   "execution_count": null,
   "id": "00bc0e56-e2d5-4eed-aec9-88f0d5a29c81",
   "metadata": {},
   "outputs": [],
   "source": []
  }
 ],
 "metadata": {
  "kernelspec": {
   "display_name": "Python 3",
   "language": "python",
   "name": "python3"
  },
  "language_info": {
   "codemirror_mode": {
    "name": "ipython",
    "version": 3
   },
   "file_extension": ".py",
   "mimetype": "text/x-python",
   "name": "python",
   "nbconvert_exporter": "python",
   "pygments_lexer": "ipython3",
   "version": "3.8.10"
  }
 },
 "nbformat": 4,
 "nbformat_minor": 5
}
