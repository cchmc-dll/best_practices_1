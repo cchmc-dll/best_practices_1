{
 "cells": [
  {
   "cell_type": "markdown",
   "id": "602db89a-14fe-4c78-b838-c224320a70aa",
   "metadata": {},
   "source": [
    "# GIT Setup and Basics"
   ]
  },
  {
   "cell_type": "markdown",
   "id": "c683b621-32de-42c4-b5d6-24c6a0af2b43",
   "metadata": {},
   "source": [
    "##  A. Perform these setup steps in a terminal"
   ]
  },
  {
   "cell_type": "markdown",
   "id": "4398e511-9ee3-4664-a2fb-2c8397a0262e",
   "metadata": {},
   "source": [
    "### 1. Configure user name"
   ]
  },
  {
   "cell_type": "markdown",
   "id": "39ba6e40-cd95-4a2a-8293-751700e0c3bd",
   "metadata": {},
   "source": [
    "<img style=\"width: 40%\" src=\"im/git0.PNG\">"
   ]
  },
  {
   "cell_type": "markdown",
   "id": "a9fa4d11-a65b-440a-bf3a-57e504a80d04",
   "metadata": {},
   "source": [
    "### 2. Setup SSH key"
   ]
  },
  {
   "cell_type": "markdown",
   "id": "e9e294e7-9428-4974-9ef1-b861993aba3e",
   "metadata": {},
   "source": [
    "<img style=\"width: 40%\" src=\"im/git1.PNG\">"
   ]
  },
  {
   "cell_type": "markdown",
   "id": "f656d51e-f7fe-45c5-8293-b6151c288f7b",
   "metadata": {},
   "source": [
    "IF *.pub does not exist, generate it using the following command, with your email id"
   ]
  },
  {
   "cell_type": "markdown",
   "id": "dc67dff6-ba5a-46eb-8b30-9798f6f831e3",
   "metadata": {},
   "source": [
    "<img style=\"width: 40%\" src=\"im/git3.PNG\">"
   ]
  },
  {
   "cell_type": "markdown",
   "id": "faa10d31-4275-4bbd-87b7-ec1d4a57123b",
   "metadata": {},
   "source": [
    "### 3. Upload public key to GITHUB"
   ]
  },
  {
   "cell_type": "markdown",
   "id": "d3ec8d6f-5ca8-478e-af9c-c9450317baa3",
   "metadata": {},
   "source": [
    "Copy the output of the following command:\n",
    "\n",
    "<img style=\"width: 30%\" src=\"im/git4.PNG\">"
   ]
  },
  {
   "cell_type": "markdown",
   "id": "f3c9e1cf-fdec-4e71-945b-c268b5ce7ca7",
   "metadata": {},
   "source": [
    "Go to settings on your GITHUB account:\n",
    "\n",
    "<img style=\"width: 20%\" src=\"im/git5.PNG\">"
   ]
  },
  {
   "cell_type": "markdown",
   "id": "09bd7c56-4673-4939-9a7c-259117325c54",
   "metadata": {},
   "source": [
    "Paste them under new SSH key:\n",
    "\n",
    "<img style=\"width: 20%\" src=\"im/git6.PNG\">"
   ]
  },
  {
   "cell_type": "markdown",
   "id": "95dfcf5b-6191-4889-b90a-065b48c08a8d",
   "metadata": {},
   "source": [
    "<img style=\"width: 20%\" src=\"im/git7.PNG\">"
   ]
  },
  {
   "cell_type": "markdown",
   "id": "c81ba050-824f-416a-b0c6-04194ac47de4",
   "metadata": {},
   "source": [
    "Finally run `ssh -T git@github.com`"
   ]
  },
  {
   "cell_type": "markdown",
   "id": "3a6e893e-2477-48e0-91f9-067d477390c4",
   "metadata": {},
   "source": [
    "## Basic Operations:"
   ]
  },
  {
   "cell_type": "markdown",
   "id": "e78706e6-eca0-4a91-96cd-1f30added248",
   "metadata": {},
   "source": [
    "### 1. Set remote "
   ]
  },
  {
   "cell_type": "markdown",
   "id": "70ce45a6-c573-4262-9ef3-ce26d3d1e854",
   "metadata": {},
   "source": [
    "`git remote set-url origin git@github.com:cchmc-dll/best_practices_1.git`"
   ]
  },
  {
   "cell_type": "markdown",
   "id": "2a0dd1de-d3e0-42d3-9942-339223b92fa2",
   "metadata": {},
   "source": [
    "### 2. Fetch all branches in remote"
   ]
  },
  {
   "cell_type": "markdown",
   "id": "ff6b4df6-80e4-4ece-b5c0-f5556f1e5c6e",
   "metadata": {},
   "source": [
    "`git fetch`"
   ]
  },
  {
   "cell_type": "markdown",
   "id": "0302b6e9-e51d-4025-a510-146eae0edb07",
   "metadata": {},
   "source": [
    "3. Show all remote branches:\n",
    "git remote -v -a"
   ]
  },
  {
   "cell_type": "code",
   "execution_count": null,
   "id": "fac22334-e361-4592-8a6e-f0520a9719ef",
   "metadata": {},
   "outputs": [],
   "source": [
    "4. Show local branches:"
   ]
  },
  {
   "cell_type": "code",
   "execution_count": null,
   "id": "298ec79a-4c48-4ca1-9db2-583bff7f87fd",
   "metadata": {},
   "outputs": [],
   "source": [
    "5. Create new branch:"
   ]
  },
  {
   "cell_type": "code",
   "execution_count": null,
   "id": "66c0ed1b-c38f-4fe2-8d9f-c338e1e820a2",
   "metadata": {},
   "outputs": [],
   "source": [
    "6. Switch to new branch:"
   ]
  },
  {
   "cell_type": "code",
   "execution_count": null,
   "id": "ec3d9a4b-2ded-4dae-bf89-24f4e2d50f90",
   "metadata": {},
   "outputs": [],
   "source": [
    "7. Add changes"
   ]
  },
  {
   "cell_type": "code",
   "execution_count": null,
   "id": "63ef2f41-843b-488f-834e-ab429205e9d7",
   "metadata": {},
   "outputs": [],
   "source": [
    "8. Commit changes"
   ]
  },
  {
   "cell_type": "code",
   "execution_count": null,
   "id": "f3cf621e-2be5-4894-b113-c6fb32b1d420",
   "metadata": {},
   "outputs": [],
   "source": [
    "9. Show history"
   ]
  },
  {
   "cell_type": "code",
   "execution_count": null,
   "id": "b56e73ea-a0eb-40bb-9ae8-e7543359f60b",
   "metadata": {},
   "outputs": [],
   "source": [
    "10. Go to previous commit"
   ]
  },
  {
   "cell_type": "code",
   "execution_count": null,
   "id": "75a5cd07-5f6d-458e-9236-124b366e1584",
   "metadata": {},
   "outputs": [],
   "source": [
    "11. Push changes to remote"
   ]
  },
  {
   "cell_type": "code",
   "execution_count": null,
   "id": "79a3ee65-3e3d-442c-8cd2-6278268da46c",
   "metadata": {},
   "outputs": [],
   "source": [
    "git push -u origin your_branch"
   ]
  }
 ],
 "metadata": {
  "kernelspec": {
   "display_name": "Python 3",
   "language": "python",
   "name": "python3"
  },
  "language_info": {
   "codemirror_mode": {
    "name": "ipython",
    "version": 3
   },
   "file_extension": ".py",
   "mimetype": "text/x-python",
   "name": "python",
   "nbconvert_exporter": "python",
   "pygments_lexer": "ipython3",
   "version": "3.8.10"
  }
 },
 "nbformat": 4,
 "nbformat_minor": 5
}
