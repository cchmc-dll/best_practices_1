{
 "cells": [
  {
   "cell_type": "markdown",
   "id": "4225b65b",
   "metadata": {},
   "source": [
    "# The Logging Module\n",
    "\n",
    "Logging is a very useful tool in a programmer’s toolbox. \n",
    "\n",
    "It can help you develop a better understanding of the flow of a program and discover scenarios that you might not even have thought of while developing. \n",
    "\n"
   ]
  },
  {
   "cell_type": "code",
   "execution_count": 1,
   "id": "d5867589",
   "metadata": {
    "ExecuteTime": {
     "end_time": "2022-03-10T21:55:10.734011Z",
     "start_time": "2022-03-10T21:55:10.730183Z"
    }
   },
   "outputs": [],
   "source": [
    "import logging"
   ]
  },
  {
   "cell_type": "markdown",
   "id": "e8dca82b",
   "metadata": {},
   "source": [
    "With the logging module imported, you can use something called a “logger” to log messages that you want to see."
   ]
  },
  {
   "cell_type": "code",
   "execution_count": 2,
   "id": "c13816a0",
   "metadata": {
    "ExecuteTime": {
     "end_time": "2022-03-10T21:55:18.504623Z",
     "start_time": "2022-03-10T21:55:18.493129Z"
    }
   },
   "outputs": [
    {
     "name": "stderr",
     "output_type": "stream",
     "text": [
      "WARNING:root:This is a warning message\n",
      "ERROR:root:This is an error message\n",
      "CRITICAL:root:This is a critical message\n"
     ]
    }
   ],
   "source": [
    "logging.debug('This is a debug message')\n",
    "logging.info('This is an info message')\n",
    "logging.warning('This is a warning message')\n",
    "logging.error('This is an error message')\n",
    "logging.critical('This is a critical message')"
   ]
  },
  {
   "cell_type": "markdown",
   "id": "23ab85b9",
   "metadata": {},
   "source": [
    "The output shows the severity level before each message along with root, which is the name the logging module gives to its default logger "
   ]
  },
  {
   "cell_type": "markdown",
   "id": "aa2cca99",
   "metadata": {},
   "source": [
    "## Basic Configurations\n",
    "\n",
    "Some of the commonly used parameters for basicConfig() are the following:\n",
    "\n",
    "- level: The root logger will be set to the specified severity level.\n",
    "- filename: This specifies the file.\n",
    "- filemode: If filename is given, the file is opened in this mode. The default is a, which means append.\n",
    "- format: This is the format of the log message."
   ]
  },
  {
   "cell_type": "code",
   "execution_count": 1,
   "id": "7e1c81d9",
   "metadata": {
    "ExecuteTime": {
     "end_time": "2022-03-10T22:03:02.431139Z",
     "start_time": "2022-03-10T22:03:02.420643Z"
    },
    "scrolled": true
   },
   "outputs": [
    {
     "name": "stderr",
     "output_type": "stream",
     "text": [
      "DEBUG:root:This will get logged\n"
     ]
    }
   ],
   "source": [
    "import logging\n",
    "logging.basicConfig(level=logging.DEBUG)\n",
    "logging.debug('This will get logged')"
   ]
  },
  {
   "cell_type": "markdown",
   "id": "dd45438c",
   "metadata": {},
   "source": [
    "For logging to a file rather than the console, filename and filemode can be used, and you can decide the format of the message using format. The following example shows the usage of all three:"
   ]
  },
  {
   "cell_type": "code",
   "execution_count": 1,
   "id": "36c69058",
   "metadata": {
    "ExecuteTime": {
     "end_time": "2022-03-10T22:04:16.198551Z",
     "start_time": "2022-03-10T22:04:16.188698Z"
    }
   },
   "outputs": [],
   "source": [
    "import logging\n",
    "logging.basicConfig(filename='app.log', filemode='w', format='%(name)s - %(levelname)s - %(message)s')\n",
    "logging.warning('This will get logged to a file')"
   ]
  },
  {
   "cell_type": "markdown",
   "id": "1955aeb7",
   "metadata": {},
   "source": [
    "## Formatting the Output\n",
    "\n",
    "Format can take a string with LogRecord attributes in any arrangement you like. The entire list of available attributes can be found [here](URL 'https://docs.python.org/3/library/logging.html#logrecord-attributes')"
   ]
  },
  {
   "cell_type": "code",
   "execution_count": 1,
   "id": "4ca417c2",
   "metadata": {
    "ExecuteTime": {
     "end_time": "2022-03-10T22:05:11.923493Z",
     "start_time": "2022-03-10T22:05:11.914904Z"
    }
   },
   "outputs": [
    {
     "name": "stderr",
     "output_type": "stream",
     "text": [
      "81793-WARNING-This is a Warning\n"
     ]
    }
   ],
   "source": [
    "import logging\n",
    "\n",
    "logging.basicConfig(format='%(process)d-%(levelname)s-%(message)s')\n",
    "logging.warning('This is a Warning')"
   ]
  },
  {
   "cell_type": "code",
   "execution_count": 1,
   "id": "46ec39fc",
   "metadata": {
    "ExecuteTime": {
     "end_time": "2022-03-10T22:05:53.389336Z",
     "start_time": "2022-03-10T22:05:53.379382Z"
    }
   },
   "outputs": [
    {
     "name": "stderr",
     "output_type": "stream",
     "text": [
      "2022-03-10 22:05:53,382 - Admin logged in\n"
     ]
    }
   ],
   "source": [
    "import logging\n",
    "\n",
    "logging.basicConfig(format='%(asctime)s - %(message)s', level=logging.INFO)\n",
    "logging.info('Admin logged in')"
   ]
  },
  {
   "cell_type": "code",
   "execution_count": 2,
   "id": "f5e89c4a",
   "metadata": {
    "ExecuteTime": {
     "end_time": "2022-03-10T22:05:57.551744Z",
     "start_time": "2022-03-10T22:05:57.540893Z"
    }
   },
   "outputs": [
    {
     "name": "stderr",
     "output_type": "stream",
     "text": [
      "2022-03-10 22:05:57,545 - Admin logged out\n"
     ]
    }
   ],
   "source": [
    "import logging\n",
    "\n",
    "logging.basicConfig(format='%(asctime)s - %(message)s', datefmt='%d-%b-%y %H:%M:%S')\n",
    "logging.warning('Admin logged out')"
   ]
  },
  {
   "cell_type": "markdown",
   "id": "6e73a796",
   "metadata": {},
   "source": [
    "## Logging Variable Data"
   ]
  },
  {
   "cell_type": "code",
   "execution_count": null,
   "id": "c2e18836",
   "metadata": {
    "ExecuteTime": {
     "end_time": "2022-03-07T20:38:53.579140Z",
     "start_time": "2022-03-07T20:38:53.571046Z"
    }
   },
   "outputs": [],
   "source": [
    "import logging\n",
    "\n",
    "name = 'John'\n",
    "\n",
    "logging.error('%s raised an error', name)\n",
    "#logging.error(f'{name} raised an error')"
   ]
  },
  {
   "cell_type": "markdown",
   "id": "69ce58e3",
   "metadata": {},
   "source": [
    "## Capturing Stack Traces\n",
    "\n",
    "The logging module also allows you to capture the full stack traces in an application. Exception information can be captured if the exc_info parameter is passed as True"
   ]
  },
  {
   "cell_type": "code",
   "execution_count": null,
   "id": "12fb2f42",
   "metadata": {
    "ExecuteTime": {
     "end_time": "2022-03-07T20:38:54.051540Z",
     "start_time": "2022-03-07T20:38:54.042176Z"
    }
   },
   "outputs": [],
   "source": [
    "import logging\n",
    "\n",
    "a = 5\n",
    "b = 0\n",
    "\n",
    "try:\n",
    "    c = a / b\n",
    "except Exception as e:\n",
    "    logging.error(\"Exception occurred\", exc_info=True)\n",
    "    #logging.exception(\"Exception occurred\")"
   ]
  },
  {
   "cell_type": "markdown",
   "id": "283d94e4",
   "metadata": {},
   "source": [
    "## Classes and Functions\n",
    "\n",
    "The most commonly used classes defined in the logging module are the following:\n",
    "\n",
    "- **Logger**: This is the class whose objects will be used in the application code directly to call the functions.\n",
    "\n",
    "- **LogRecord**: Loggers automatically create LogRecord objects that have all the information related to the event being logged, like the name of the logger, the function, the line number, the message, and more.\n",
    "\n",
    "- **Handler**: Handlers send the LogRecord to the required output destination, like the console or a file. Handler is a base for subclasses like StreamHandler, FileHandler, SMTPHandler, HTTPHandler, and more. These subclasses send the logging outputs to corresponding destinations, like sys.stdout or a disk file.\n",
    "\n",
    "- **Formatter**: This is where you specify the format of the output by specifying a string format that lists out the attributes that the output should contain."
   ]
  },
  {
   "cell_type": "code",
   "execution_count": null,
   "id": "4c280b02",
   "metadata": {
    "ExecuteTime": {
     "end_time": "2022-03-07T20:38:54.554437Z",
     "start_time": "2022-03-07T20:38:54.546561Z"
    }
   },
   "outputs": [],
   "source": [
    "import logging\n",
    "\n",
    "logger = logging.getLogger('example_logger')\n",
    "logger.warning('This is a warning')"
   ]
  },
  {
   "cell_type": "markdown",
   "id": "288b2431",
   "metadata": {},
   "source": [
    "Unlike the root logger, a custom logger can’t be configured using basicConfig(). You have to configure it using Handlers and Formatters:"
   ]
  },
  {
   "cell_type": "markdown",
   "id": "6d88c2c5",
   "metadata": {},
   "source": [
    "## Using Handlers\n",
    "\n",
    "Handlers send the log messages to configured destinations like the standard output stream or a file or over HTTP or to your email via SMTP.\n",
    "\n",
    "Like loggers, you can also set the severity level in handlers. This is useful if you want to set multiple handlers for the same logger but want different severity levels for each of them."
   ]
  },
  {
   "cell_type": "code",
   "execution_count": null,
   "id": "cbe9f768",
   "metadata": {
    "ExecuteTime": {
     "end_time": "2022-03-07T20:38:55.037984Z",
     "start_time": "2022-03-07T20:38:55.018879Z"
    }
   },
   "outputs": [],
   "source": [
    "# logging_example.py\n",
    "\n",
    "import logging\n",
    "\n",
    "# Create a custom logger\n",
    "logger = logging.getLogger(__name__)\n",
    "\n",
    "# Create handlers\n",
    "c_handler = logging.StreamHandler()\n",
    "f_handler = logging.FileHandler('file.log')\n",
    "c_handler.setLevel(logging.WARNING)\n",
    "f_handler.setLevel(logging.ERROR)\n",
    "\n",
    "# Create formatters and add it to handlers\n",
    "c_format = logging.Formatter('%(name)s - %(levelname)s - %(message)s')\n",
    "f_format = logging.Formatter('%(asctime)s - %(name)s - %(levelname)s - %(message)s')\n",
    "c_handler.setFormatter(c_format)\n",
    "f_handler.setFormatter(f_format)\n",
    "\n",
    "# Add handlers to the logger\n",
    "logger.addHandler(c_handler)\n",
    "logger.addHandler(f_handler)\n",
    "\n",
    "logger.warning('This is a warning')\n",
    "logger.error('This is an error')"
   ]
  },
  {
   "cell_type": "markdown",
   "id": "70fc3e23",
   "metadata": {},
   "source": [
    "The name of the logger corresponding to the __name__ variable is logged as __main__, which is the name Python assigns to the module where execution starts. "
   ]
  },
  {
   "cell_type": "markdown",
   "id": "3da4ce93",
   "metadata": {},
   "source": [
    "## Loading from Yaml file\n"
   ]
  },
  {
   "cell_type": "code",
   "execution_count": null,
   "id": "54d4c424",
   "metadata": {
    "ExecuteTime": {
     "end_time": "2022-03-09T17:27:00.819525Z",
     "start_time": "2022-03-09T17:27:00.724625Z"
    }
   },
   "outputs": [],
   "source": [
    "import logging\n",
    "import logging.config\n",
    "import yaml\n",
    "\n",
    "with open('config.yaml', 'r') as f:\n",
    "    config = yaml.safe_load(f.read())\n",
    "    logging.config.dictConfig(config)\n",
    "\n",
    "logger = logging.getLogger(__name__)\n",
    "\n",
    "logger.debug('This is a debug message')"
   ]
  },
  {
   "cell_type": "markdown",
   "id": "b14d75d7",
   "metadata": {},
   "source": [
    "# Data Version Contol (DVC)\n",
    "\n",
    "## What ?\n",
    "\n",
    "Data Version Control, or DVC, is a data and ML experiment management tool that takes advantage of the existing engineering toolset like Git.\n",
    "\n",
    "\n",
    "## Why ?\n",
    "\n",
    "- Build automated pipelines & reproducible experiments\n",
    "- Manage data and model versioning\n",
    "- Organize project code and team collaboration\n",
    "- Visualize metrics & collaborate on ML experiments.\n",
    "\n",
    "## How ?\n",
    "\n",
    "### **Step 1**: Organize repo & Build a prototype\n",
    "### **Step 2**: Create a single configuration file\n",
    "\n",
    "\n"
   ]
  },
  {
   "cell_type": "code",
   "execution_count": null,
   "id": "1baf0a8b",
   "metadata": {
    "ExecuteTime": {
     "end_time": "2022-03-10T16:17:52.943830Z",
     "start_time": "2022-03-10T16:17:52.873940Z"
    }
   },
   "outputs": [],
   "source": [
    "import yaml\n",
    "%cd /workspace/boneage-arc/"
   ]
  },
  {
   "cell_type": "code",
   "execution_count": null,
   "id": "5c340f3b",
   "metadata": {
    "ExecuteTime": {
     "end_time": "2022-03-10T16:17:53.714646Z",
     "start_time": "2022-03-10T16:17:53.697258Z"
    }
   },
   "outputs": [],
   "source": [
    "with open(\"params.yaml\") as conf_file:\n",
    "    config = yaml.safe_load(conf_file)\n",
    "print(config)"
   ]
  },
  {
   "cell_type": "markdown",
   "id": "bee4da6e",
   "metadata": {},
   "source": [
    "### **Step 3**: Move reusable code to .py modules\n"
   ]
  },
  {
   "cell_type": "code",
   "execution_count": null,
   "id": "a78e20b6",
   "metadata": {
    "ExecuteTime": {
     "end_time": "2022-03-10T16:17:55.403886Z",
     "start_time": "2022-03-10T16:17:55.112581Z"
    }
   },
   "outputs": [],
   "source": [
    "from src.stages.data_load import *\n",
    "from src.utils.logs import get_logger\n"
   ]
  },
  {
   "cell_type": "markdown",
   "id": "67091f39",
   "metadata": {},
   "source": [
    "### **Step 4**: Build ML experiment pipeline"
   ]
  },
  {
   "cell_type": "code",
   "execution_count": null,
   "id": "9b8edd67",
   "metadata": {
    "ExecuteTime": {
     "end_time": "2022-03-10T16:17:59.614268Z",
     "start_time": "2022-03-10T16:17:59.568278Z"
    }
   },
   "outputs": [],
   "source": [
    "data_load(config_path = 'params.yaml')\n",
    "#!python -m src.stages.data_load --config=params.yaml"
   ]
  },
  {
   "cell_type": "markdown",
   "id": "ac95bd24",
   "metadata": {},
   "source": [
    "### **Step 5**: Automate pipeline with DVC\n",
    "\n",
    "Install DVC\n",
    "\n",
    "`!pip install dvc`\n",
    "\n",
    "Initialize DVC\n",
    "\n",
    "`!dvc init`\n",
    "\n",
    "\n",
    "Commit Changes\n",
    "\n",
    "`\n",
    " git status\n",
    " git add .\n",
    " git commit -m \"Initialize dvc\"\n",
    "`\n",
    "\n",
    "Run stages\n",
    "\n",
    "Data load\n",
    "`\n",
    "dvc run -n data_load \\\n",
    "-d src/stages/data_load.py \\\n",
    "-o data/processed/processed.csv \\\n",
    "-p  base,data_load \\\n",
    "python -m src.stages.data_load --config=params.yaml`\n",
    "\n",
    "Featurize\n",
    "`\n",
    "dvc run -n featurize \\\n",
    "-d src/stages/featurize.py \\\n",
    "-d data/processed/processed.csv \\\n",
    "-o data/processed/featurized.csv \\\n",
    "-o data/processed/norms_params.json \\\n",
    "-p  base,featurize \\\n",
    "python -m src.stages.featurize --config=params.yaml`"
   ]
  },
  {
   "cell_type": "markdown",
   "id": "5bb59cc3",
   "metadata": {
    "ExecuteTime": {
     "end_time": "2022-03-09T17:48:25.132764Z",
     "start_time": "2022-03-09T17:48:22.669611Z"
    }
   },
   "source": [
    "### **Step 6**: Reproduce end-to-end pipeline\n",
    "\n",
    "\n",
    "`dvc repro`\n",
    "\n",
    "`dvc repro -f`\n",
    "\n",
    "`dvc repro -s featurize`\n",
    "\n",
    "\n",
    "Update .py file and run `dvc repro`\n",
    "\n",
    "delete an output file and run `dvc repro`\n",
    "\n",
    "change hyperparams in params.yaml aand run `dvc repro`\n"
   ]
  },
  {
   "cell_type": "markdown",
   "id": "320d2303",
   "metadata": {},
   "source": [
    "## Versioning Data & Models\n",
    "\n",
    "- Reproducible ML experiments requires versionbed data, models and expiriment artifacts.\n",
    "- Meet regulatory compliance and Ethical AI requirements\n",
    "- Avoid manual versioning\n"
   ]
  },
  {
   "cell_type": "markdown",
   "id": "1a1045e7",
   "metadata": {
    "ExecuteTime": {
     "end_time": "2022-03-10T17:13:14.606959Z",
     "start_time": "2022-03-10T17:13:14.602512Z"
    }
   },
   "source": [
    "### How ?\n",
    "\n",
    "create a file.txt and track with `dvc add` \n",
    "\n",
    "create a dir and track with `dvc add -v`\n",
    "\n",
    "```\n",
    "Removing '/workspace/boneage-arc/file.txt'\n",
    "Uploading '/workspace/boneage-arc/.dvc/cache/d4/1d8cd98f00b204e9800998ecf8427e' to '/workspace/boneage-arc/file.txt'\n",
    "Saving information to 'file.txt.dvc'.\n",
    "```"
   ]
  },
  {
   "cell_type": "markdown",
   "id": "094915b6",
   "metadata": {},
   "source": [
    "### Remote storage\n",
    "\n",
    "`dvc remote add -d myremote /workspace/temp`\n",
    "\n",
    "open config file\n",
    "\n",
    "`dvc push -v`\n",
    "\n",
    "\n",
    "dvc uploads dependencies and outputs in `dvc.lock` to remote storage\n",
    "\n",
    "`dvc pull`"
   ]
  },
  {
   "cell_type": "markdown",
   "id": "90179a34",
   "metadata": {},
   "source": [
    "### Switching Versions\n",
    "\n",
    "create a file.txt and track with `dvc add` \n",
    "\n",
    "delete and file and retrieve it from local storage with `dvc checkout`\n",
    "\n",
    "___________\n",
    "\n",
    "update data\n",
    "track with dvc\n",
    "commit changes\n",
    "push to remote\n",
    "\n",
    "\n",
    "git log --oneline\n",
    "git checkout HEAD^1 file.txt.dvc\n",
    "dvc checkout\n",
    "commit changes"
   ]
  },
  {
   "cell_type": "code",
   "execution_count": null,
   "id": "85adb3f4",
   "metadata": {},
   "outputs": [],
   "source": []
  }
 ],
 "metadata": {
  "kernelspec": {
   "display_name": "Python 3",
   "language": "python",
   "name": "python3"
  },
  "language_info": {
   "codemirror_mode": {
    "name": "ipython",
    "version": 3
   },
   "file_extension": ".py",
   "mimetype": "text/x-python",
   "name": "python",
   "nbconvert_exporter": "python",
   "pygments_lexer": "ipython3",
   "version": "3.8.10"
  },
  "toc": {
   "base_numbering": 1,
   "nav_menu": {},
   "number_sections": false,
   "sideBar": true,
   "skip_h1_title": false,
   "title_cell": "Table of Contents",
   "title_sidebar": "Contents",
   "toc_cell": false,
   "toc_position": {},
   "toc_section_display": true,
   "toc_window_display": true
  }
 },
 "nbformat": 4,
 "nbformat_minor": 5
}