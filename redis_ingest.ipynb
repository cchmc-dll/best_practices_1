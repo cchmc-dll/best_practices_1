{
 "cells": [
  {
   "cell_type": "markdown",
   "id": "da7dcc24-7392-4734-bf05-6dcfe10d2072",
   "metadata": {},
   "source": [
    "# Data Ingest to Redis Database"
   ]
  },
  {
   "cell_type": "code",
   "execution_count": 1,
   "id": "9eae1347",
   "metadata": {
    "ExecuteTime": {
     "end_time": "2022-04-12T03:37:28.397633Z",
     "start_time": "2022-04-12T03:37:28.336621Z"
    }
   },
   "outputs": [
    {
     "name": "stdout",
     "output_type": "stream",
     "text": [
      "{\"name\": \"Jane\", \"Age\": 33, \"Location\": \"Chawton\"}\n"
     ]
    }
   ],
   "source": [
    "# Redis json\n",
    "import redis\n",
    "import json \n",
    "\n",
    "client = redis.Redis(host='10.19.10.19', port=6379, db=0)\n",
    "\n",
    "jane = {\n",
    "     'name': \"Jane\", \n",
    "     'Age': 33, \n",
    "     'Location': \"Chawton\"\n",
    "   }\n",
    "\n",
    "client.json().set('person:1', '$', json.dumps(jane))\n",
    "result = client.json().get('person:1')\n",
    "print(result)"
   ]
  },
  {
   "cell_type": "code",
   "execution_count": 6,
   "id": "5d0e24ba",
   "metadata": {
    "ExecuteTime": {
     "end_time": "2022-04-12T03:55:53.911633Z",
     "start_time": "2022-04-12T03:55:53.902603Z"
    }
   },
   "outputs": [],
   "source": [
    "# Redis Graph\n",
    "import redis\n",
    "\n",
    "r = redis.StrictRedis(host='10.19.10.19', port=6379, db=0)\n",
    "reply = r.execute_command('GRAPH.QUERY', 'social', \"CREATE (:person {name:'roi', age:33, gender:'male', status:'married'}) \" )\n",
    "#reply = r.execute_command('GRAPH.QUERY', 'MotoGP', \"CREATE (:Rider {name:'Valentino Rossi'})-[:rides]->(:Team {name:'Yamaha'}), (:Rider {name:'Dani Pedrosa'})-[:rides]->(:Team {name:'Honda'}), (:Rider {name:'Andrea Dovizioso'})-[:rides]->(:Team {name:'Ducati'})\")"
   ]
  },
  {
   "cell_type": "code",
   "execution_count": null,
   "id": "5b7dcfee-3543-4d71-ac08-e6de4b156632",
   "metadata": {},
   "outputs": [],
   "source": []
  }
 ],
 "metadata": {
  "kernelspec": {
   "display_name": "Python 3",
   "language": "python",
   "name": "python3"
  },
  "language_info": {
   "codemirror_mode": {
    "name": "ipython",
    "version": 3
   },
   "file_extension": ".py",
   "mimetype": "text/x-python",
   "name": "python",
   "nbconvert_exporter": "python",
   "pygments_lexer": "ipython3",
   "version": "3.8.10"
  },
  "toc": {
   "base_numbering": 1,
   "nav_menu": {},
   "number_sections": false,
   "sideBar": true,
   "skip_h1_title": false,
   "title_cell": "Table of Contents",
   "title_sidebar": "Contents",
   "toc_cell": false,
   "toc_position": {},
   "toc_section_display": true,
   "toc_window_display": false
  }
 },
 "nbformat": 4,
 "nbformat_minor": 5
}
