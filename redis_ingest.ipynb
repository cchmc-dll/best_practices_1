{
 "cells": [
  {
   "cell_type": "markdown",
   "id": "da7dcc24-7392-4734-bf05-6dcfe10d2072",
   "metadata": {},
   "source": [
    "# Data Ingest to Redis Database"
   ]
  },
  {
   "cell_type": "code",
   "execution_count": 2,
   "id": "9a48748c",
   "metadata": {
    "ExecuteTime": {
     "end_time": "2022-05-05T15:30:57.038990Z",
     "start_time": "2022-05-05T15:30:57.016321Z"
    }
   },
   "outputs": [
    {
     "ename": "AttributeError",
     "evalue": "'Redis' object has no attribute 'json'",
     "output_type": "error",
     "traceback": [
      "\u001b[0;31m---------------------------------------------------------------------------\u001b[0m",
      "\u001b[0;31mAttributeError\u001b[0m                            Traceback (most recent call last)",
      "\u001b[0;32m<ipython-input-2-d2a5e583a184>\u001b[0m in \u001b[0;36m<module>\u001b[0;34m\u001b[0m\n\u001b[1;32m     11\u001b[0m    }\n\u001b[1;32m     12\u001b[0m \u001b[0;34m\u001b[0m\u001b[0m\n\u001b[0;32m---> 13\u001b[0;31m \u001b[0mclient\u001b[0m\u001b[0;34m.\u001b[0m\u001b[0mjson\u001b[0m\u001b[0;34m(\u001b[0m\u001b[0;34m)\u001b[0m\u001b[0;34m.\u001b[0m\u001b[0mset\u001b[0m\u001b[0;34m(\u001b[0m\u001b[0;34m'person:1'\u001b[0m\u001b[0;34m,\u001b[0m \u001b[0;34m'$'\u001b[0m\u001b[0;34m,\u001b[0m \u001b[0mjson\u001b[0m\u001b[0;34m.\u001b[0m\u001b[0mdumps\u001b[0m\u001b[0;34m(\u001b[0m\u001b[0mjane\u001b[0m\u001b[0;34m)\u001b[0m\u001b[0;34m)\u001b[0m\u001b[0;34m\u001b[0m\u001b[0;34m\u001b[0m\u001b[0m\n\u001b[0m\u001b[1;32m     14\u001b[0m \u001b[0mresult\u001b[0m \u001b[0;34m=\u001b[0m \u001b[0mclient\u001b[0m\u001b[0;34m.\u001b[0m\u001b[0mjson\u001b[0m\u001b[0;34m(\u001b[0m\u001b[0;34m)\u001b[0m\u001b[0;34m.\u001b[0m\u001b[0mget\u001b[0m\u001b[0;34m(\u001b[0m\u001b[0;34m'person:1'\u001b[0m\u001b[0;34m)\u001b[0m\u001b[0;34m\u001b[0m\u001b[0;34m\u001b[0m\u001b[0m\n\u001b[1;32m     15\u001b[0m \u001b[0mprint\u001b[0m\u001b[0;34m(\u001b[0m\u001b[0mresult\u001b[0m\u001b[0;34m)\u001b[0m\u001b[0;34m\u001b[0m\u001b[0;34m\u001b[0m\u001b[0m\n",
      "\u001b[0;31mAttributeError\u001b[0m: 'Redis' object has no attribute 'json'"
     ]
    }
   ],
   "source": [
    "# Redis json\n",
    "import redis\n",
    "import json \n",
    "\n",
    "client = redis.Redis(host='10.19.10.19', port=6379, db=0)\n",
    "\n",
    "jane = {\n",
    "     'name': \"Jane\", \n",
    "     'Age': 33, \n",
    "     'Location': \"Chawton\"\n",
    "   }\n",
    "\n",
    "client.json().set('person:1', '$', json.dumps(jane))\n",
    "result = client.json().get('person:1')\n",
    "print(result)"
   ]
  },
  {
   "cell_type": "code",
   "execution_count": 6,
   "id": "abf709bf",
   "metadata": {
    "ExecuteTime": {
     "end_time": "2022-04-12T03:55:53.911633Z",
     "start_time": "2022-04-12T03:55:53.902603Z"
    }
   },
   "outputs": [],
   "source": [
    "# Redis Graph\n",
    "import redis\n",
    "\n",
    "r = redis.StrictRedis(host='10.19.10.19', port=6379, db=0)\n",
    "reply = r.execute_command('GRAPH.QUERY', 'social', \"CREATE (:person {name:'roi', age:33, gender:'male', status:'married'}) \" )\n",
    "#reply = r.execute_command('GRAPH.QUERY', 'MotoGP', \"CREATE (:Rider {name:'Valentino Rossi'})-[:rides]->(:Team {name:'Yamaha'}), (:Rider {name:'Dani Pedrosa'})-[:rides]->(:Team {name:'Honda'}), (:Rider {name:'Andrea Dovizioso'})-[:rides]->(:Team {name:'Ducati'})\")"
   ]
  },
  {
   "cell_type": "code",
   "execution_count": 7,
   "id": "5b7dcfee-3543-4d71-ac08-e6de4b156632",
   "metadata": {
    "ExecuteTime": {
     "end_time": "2022-04-13T00:50:21.968358Z",
     "start_time": "2022-04-13T00:50:21.935668Z"
    }
   },
   "outputs": [
    {
     "data": {
      "text/plain": [
       "True"
      ]
     },
     "execution_count": 7,
     "metadata": {},
     "output_type": "execute_result"
    }
   ],
   "source": [
    "# Redis Timeseries\n",
    "import redis\n",
    " \n",
    "r = redis.StrictRedis(host='10.19.10.19', port=6379, db=0)\n",
    "\n",
    "r.ts().create(2, retension_msecs=5) "
   ]
  },
  {
   "cell_type": "code",
   "execution_count": null,
   "id": "e96cabbd",
   "metadata": {},
   "outputs": [],
   "source": []
  }
 ],
 "metadata": {
  "kernelspec": {
   "display_name": "Python 3",
   "language": "python",
   "name": "python3"
  },
  "language_info": {
   "codemirror_mode": {
    "name": "ipython",
    "version": 3
   },
   "file_extension": ".py",
   "mimetype": "text/x-python",
   "name": "python",
   "nbconvert_exporter": "python",
   "pygments_lexer": "ipython3",
   "version": "3.8.10"
  },
  "toc": {
   "base_numbering": 1,
   "nav_menu": {},
   "number_sections": false,
   "sideBar": true,
   "skip_h1_title": false,
   "title_cell": "Table of Contents",
   "title_sidebar": "Contents",
   "toc_cell": false,
   "toc_position": {},
   "toc_section_display": true,
   "toc_window_display": false
  }
 },
 "nbformat": 4,
 "nbformat_minor": 5
}
