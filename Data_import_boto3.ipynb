{
 "cells": [
  {
   "cell_type": "markdown",
   "id": "da7dcc24-7392-4734-bf05-6dcfe10d2072",
   "metadata": {},
   "source": [
    "# Data Import From MINIO server"
   ]
  },
  {
   "cell_type": "markdown",
   "id": "3e06b314-7996-460d-a060-e457023eadc8",
   "metadata": {},
   "source": [
    "## A. Accessing MINIO Console"
   ]
  },
  {
   "cell_type": "markdown",
   "id": "a816b692-c384-4eff-b79e-600042e61e35",
   "metadata": {},
   "source": [
    "Step 1: Head to this link http://10.1.32.31:9001 on your browser"
   ]
  },
  {
   "cell_type": "markdown",
   "id": "67a4d0cc-dd30-4b2a-bb96-9b08b4e5a595",
   "metadata": {},
   "source": [
    "Step 2: Login using your username and password"
   ]
  },
  {
   "cell_type": "markdown",
   "id": "f80ae2fa-9d52-434c-9358-718123de00b3",
   "metadata": {},
   "source": [
    "## B. Create test bucket in your name and upload few files"
   ]
  },
  {
   "cell_type": "markdown",
   "id": "8916751e-114c-4bf6-b4a8-a6fa1ca2d8a6",
   "metadata": {},
   "source": [
    "<img style=\"width: 60%\" src=\"im/cap1.PNG\">"
   ]
  },
  {
   "cell_type": "markdown",
   "id": "3e0463c7-53a2-4d0e-9187-691a266ebc74",
   "metadata": {},
   "source": [
    "<img style=\"width: 60%\"  src='im/cap2.PNG'>"
   ]
  },
  {
   "cell_type": "markdown",
   "id": "aac1383b-3666-44c0-b018-d26d0e741c7d",
   "metadata": {},
   "source": [
    "## C. Download data from MINIO to workspace"
   ]
  },
  {
   "cell_type": "markdown",
   "id": "309c6fb0-b71d-411c-aae7-dee0cac62aa7",
   "metadata": {},
   "source": [
    "### 1. Import libraries"
   ]
  },
  {
   "cell_type": "code",
   "execution_count": 1,
   "id": "1adb45cf-c8c7-4252-88fb-f06c22d0308e",
   "metadata": {
    "ExecuteTime": {
     "end_time": "2022-04-08T14:03:03.257002Z",
     "start_time": "2022-04-08T14:03:03.158214Z"
    }
   },
   "outputs": [],
   "source": [
    "from minio import Minio\n",
    "from dotenv import load_dotenv # add this line\n",
    "import os"
   ]
  },
  {
   "cell_type": "code",
   "execution_count": 2,
   "id": "f8517e8d-b64d-4c57-b000-e10c367bd3d1",
   "metadata": {
    "ExecuteTime": {
     "end_time": "2022-04-08T14:03:03.266884Z",
     "start_time": "2022-04-08T14:03:03.259957Z"
    }
   },
   "outputs": [
    {
     "data": {
      "text/plain": [
       "'/workspace/best_practices_1'"
      ]
     },
     "execution_count": 2,
     "metadata": {},
     "output_type": "execute_result"
    }
   ],
   "source": [
    "os.getcwd()"
   ]
  },
  {
   "cell_type": "markdown",
   "id": "fe030906-39ff-4c6e-95df-5a33e632f3a2",
   "metadata": {},
   "source": [
    "### 2. Create .env file with credentials "
   ]
  },
  {
   "cell_type": "markdown",
   "id": "842fe0f9-1ae1-44ec-876e-d15274ca72b5",
   "metadata": {},
   "source": [
    "#### Run these in the terminal"
   ]
  },
  {
   "cell_type": "markdown",
   "id": "49694eb8-d4e9-4db9-9d50-bc3fc690c675",
   "metadata": {},
   "source": [
    "`echo \"MINIO_ACCESS\"=USERID >> .env`"
   ]
  },
  {
   "cell_type": "markdown",
   "id": "0b44dcc1-1547-41ae-95e6-50b7a0367361",
   "metadata": {},
   "source": [
    "`echo \"MINIO_KEY\"=PWD >> .env`"
   ]
  },
  {
   "cell_type": "markdown",
   "id": "ba0a0625-0a2d-4a9d-973b-ee1451a1581e",
   "metadata": {},
   "source": [
    "### 3. Load credentials securely"
   ]
  },
  {
   "cell_type": "code",
   "execution_count": 3,
   "id": "e5447ad8-e11f-47d8-aeee-ecf856ac6918",
   "metadata": {
    "ExecuteTime": {
     "end_time": "2022-04-08T14:03:03.275032Z",
     "start_time": "2022-04-08T14:03:03.269990Z"
    }
   },
   "outputs": [],
   "source": [
    "load_dotenv() # add this line\n",
    "user = os.getenv('MINIO_ACCESS')\n",
    "key = os.getenv('MINIO_KEY')"
   ]
  },
  {
   "cell_type": "code",
   "execution_count": 4,
   "id": "e1d27268-fcf5-4fac-8cbf-8195053c802e",
   "metadata": {
    "ExecuteTime": {
     "end_time": "2022-04-08T14:03:03.281001Z",
     "start_time": "2022-04-08T14:03:03.277421Z"
    }
   },
   "outputs": [
    {
     "data": {
      "text/plain": [
       "'elan'"
      ]
     },
     "execution_count": 4,
     "metadata": {},
     "output_type": "execute_result"
    }
   ],
   "source": [
    "user"
   ]
  },
  {
   "cell_type": "markdown",
   "id": "9903f3b3-e527-4558-8ce8-24ad00a1a1b8",
   "metadata": {},
   "source": [
    "### 4. Initialize s3 client"
   ]
  },
  {
   "cell_type": "code",
   "execution_count": 5,
   "id": "5c803068-3340-490a-b22a-22d0edac0a2b",
   "metadata": {
    "ExecuteTime": {
     "end_time": "2022-04-08T14:03:03.592644Z",
     "start_time": "2022-04-08T14:03:03.283183Z"
    }
   },
   "outputs": [],
   "source": [
    "import boto3\n",
    "s3 = boto3.resource('s3',\n",
    "                endpoint_url=\"http://minio-0:9000\",\n",
    "                aws_access_key_id=user,\n",
    "                aws_secret_access_key=key)"
   ]
  },
  {
   "cell_type": "markdown",
   "id": "62b3a6c2-0547-4016-bdeb-bb756b9bfdb9",
   "metadata": {},
   "source": [
    "### 5. Load data into workspace"
   ]
  },
  {
   "cell_type": "code",
   "execution_count": 6,
   "id": "e264e263-c435-413f-8555-4a0b66606429",
   "metadata": {
    "ExecuteTime": {
     "end_time": "2022-04-08T14:03:03.645698Z",
     "start_time": "2022-04-08T14:03:03.595228Z"
    }
   },
   "outputs": [
    {
     "name": "stdout",
     "output_type": "stream",
     "text": [
      "0 Bucket:  abdominal-segmentation 2022-03-31 18:25:31.536000+00:00\n",
      "1 Bucket:  aish 2022-03-29 16:20:21.187000+00:00\n",
      "2 Bucket:  dvcremote 2022-03-30 20:22:13.544000+00:00\n",
      "3 Bucket:  elan 2022-03-22 20:04:49.117000+00:00\n",
      "4 Bucket:  heart-segmentation 2022-03-30 14:14:40.987000+00:00\n",
      "5 Bucket:  ike 2022-03-14 15:12:48.441000+00:00\n",
      "6 Bucket:  lda-object-detection 2022-04-01 23:07:26.180000+00:00\n",
      "7 Bucket:  madi 2022-03-29 18:52:05.070000+00:00\n",
      "8 Bucket:  monailabel 2022-03-22 20:34:59.637000+00:00\n",
      "9 Bucket:  neeraja 2022-03-11 19:20:49.062000+00:00\n",
      "10 Bucket:  neerajanew 2022-03-11 19:29:13.226000+00:00\n",
      "11 Bucket:  pathology 2022-03-31 15:40:42.341000+00:00\n",
      "12 Bucket:  pathologytest 2022-03-24 19:28:11.765000+00:00\n",
      "13 Bucket:  utilities 2022-03-25 19:53:29.863000+00:00\n",
      "14 Bucket:  zach 2022-03-11 19:22:45.234000+00:00\n"
     ]
    }
   ],
   "source": [
    "# Print buckets in data server\n",
    "buckets = s3.buckets.all()\n",
    "for b,bucket in enumerate(buckets):\n",
    "    print(b, \"Bucket: \" ,bucket.name, bucket.creation_date)"
   ]
  },
  {
   "cell_type": "code",
   "execution_count": 12,
   "id": "3eacb17a-8002-4210-92f3-1fae56b8bebc",
   "metadata": {
    "ExecuteTime": {
     "end_time": "2022-04-04T14:14:02.814841Z",
     "start_time": "2022-04-04T14:14:02.791688Z"
    }
   },
   "outputs": [],
   "source": [
    "from multiprocessing.pool import Pool, ThreadPool\n",
    "from multiprocessing import cpu_count\n",
    "from tqdm import tqdm"
   ]
  },
  {
   "cell_type": "code",
   "execution_count": 23,
   "id": "2d29c834-b51c-448c-a054-11ddf3181057",
   "metadata": {
    "ExecuteTime": {
     "end_time": "2022-04-04T14:34:34.657385Z",
     "start_time": "2022-04-04T14:34:34.636941Z"
    }
   },
   "outputs": [],
   "source": [
    "def download_file(objkey):\n",
    "    dir_path = os.path.join(download_dir, os.path.dirname(objkey))\n",
    "    if not os.path.exists(dir_path):\n",
    "        # print('Creating dir: ', dir_path)\n",
    "        os.makedirs(dir_path, exist_ok=True)\n",
    "    filename = os.path.join(dir_path, os.path.basename(objkey))\n",
    "    bucket.download_file(objkey, filename)  # save to same path\n",
    "\n",
    "\n",
    "def downloadDirectoryFroms3(remoteDirectoryName, objectcount=None, suffix=None):\n",
    "    print(\n",
    "        \"Attempting to download bucket, \", bucketname, \" folder, \", remoteDirectoryName, ' | counting objects: '\n",
    "    )\n",
    "    objkeys = [obj.key for obj in tqdm(bucket.objects.filter(Prefix=remoteDirectoryName))]\n",
    "\n",
    "    if objectcount:\n",
    "        objkeys = objkeys[:objectcount]\n",
    "\n",
    "    if suffix:\n",
    "        objkeys = [o for o in objkeys if o.endswith(suffix)]\n",
    "    \n",
    "    print('Downloading ', len(objkeys),' Objects ...')\n",
    "    \n",
    "    pool = Pool(processes=int(cpu_count()/3))\n",
    "    pool.imap_unordered(download_file, tqdm(objkeys,total=len(objkeys)))\n",
    "    pool.close()\n",
    "    pool.join()\n",
    "\n",
    "\n",
    "#     for obj in bucket.objects.filter(Prefix = remoteDirectoryName):\n",
    "#         dir_path = os.path.join(bucketName, os.path.dirname(obj.key))\n",
    "#         if not os.path.exists(dir_path):\n",
    "#             print('Creating dir: ', dir_path)\n",
    "#             os.makedirs(dir_path,exist_ok=True)\n",
    "#         filename = os.path.join(dir_path,os.path.basename(obj.key))\n",
    "#         bucket.download_file(obj.key, filename) # save to same path"
   ]
  },
  {
   "cell_type": "markdown",
   "id": "eedb48a6-d798-4d0c-be41-f332f22af77f",
   "metadata": {},
   "source": [
    "### Download your bucket"
   ]
  },
  {
   "cell_type": "code",
   "execution_count": 24,
   "id": "772e5ec4",
   "metadata": {
    "ExecuteTime": {
     "end_time": "2022-04-04T14:34:36.549348Z",
     "start_time": "2022-04-04T14:34:36.544681Z"
    }
   },
   "outputs": [],
   "source": [
    "# Directory to download your bucket to in the workspace\n",
    "download_dir = '/workspace/lda/data'"
   ]
  },
  {
   "cell_type": "code",
   "execution_count": 25,
   "id": "775e975f-8d1a-45df-a2c2-126819c7af65",
   "metadata": {
    "ExecuteTime": {
     "end_time": "2022-04-04T14:35:05.182718Z",
     "start_time": "2022-04-04T14:34:38.234628Z"
    }
   },
   "outputs": [
    {
     "name": "stdout",
     "output_type": "stream",
     "text": [
      "Enter minio bucket name: lda-object-detection\n"
     ]
    },
    {
     "name": "stderr",
     "output_type": "stream",
     "text": [
      "\r",
      "0it [00:00, ?it/s]"
     ]
    },
    {
     "name": "stdout",
     "output_type": "stream",
     "text": [
      "Attempting to download bucket,  lda-object-detection  folder,    | counting objects: \n"
     ]
    },
    {
     "name": "stderr",
     "output_type": "stream",
     "text": [
      "19000it [00:19, 983.43it/s] \n"
     ]
    },
    {
     "ename": "KeyboardInterrupt",
     "evalue": "",
     "output_type": "error",
     "traceback": [
      "\u001b[0;31m---------------------------------------------------------------------------\u001b[0m",
      "\u001b[0;31mKeyboardInterrupt\u001b[0m                         Traceback (most recent call last)",
      "\u001b[0;32m<timed exec>\u001b[0m in \u001b[0;36m<module>\u001b[0;34m\u001b[0m\n",
      "\u001b[0;32m<ipython-input-23-d82c7d525115>\u001b[0m in \u001b[0;36mdownloadDirectoryFroms3\u001b[0;34m(remoteDirectoryName, objectcount, suffix)\u001b[0m\n\u001b[1;32m     12\u001b[0m         \u001b[0;34m\"Attempting to download bucket, \"\u001b[0m\u001b[0;34m,\u001b[0m \u001b[0mbucketname\u001b[0m\u001b[0;34m,\u001b[0m \u001b[0;34m\" folder, \"\u001b[0m\u001b[0;34m,\u001b[0m \u001b[0mremoteDirectoryName\u001b[0m\u001b[0;34m,\u001b[0m \u001b[0;34m' | counting objects: '\u001b[0m\u001b[0;34m\u001b[0m\u001b[0;34m\u001b[0m\u001b[0m\n\u001b[1;32m     13\u001b[0m     )\n\u001b[0;32m---> 14\u001b[0;31m     \u001b[0mobjkeys\u001b[0m \u001b[0;34m=\u001b[0m \u001b[0;34m[\u001b[0m\u001b[0mobj\u001b[0m\u001b[0;34m.\u001b[0m\u001b[0mkey\u001b[0m \u001b[0;32mfor\u001b[0m \u001b[0mobj\u001b[0m \u001b[0;32min\u001b[0m \u001b[0mtqdm\u001b[0m\u001b[0;34m(\u001b[0m\u001b[0mbucket\u001b[0m\u001b[0;34m.\u001b[0m\u001b[0mobjects\u001b[0m\u001b[0;34m.\u001b[0m\u001b[0mfilter\u001b[0m\u001b[0;34m(\u001b[0m\u001b[0mPrefix\u001b[0m\u001b[0;34m=\u001b[0m\u001b[0mremoteDirectoryName\u001b[0m\u001b[0;34m)\u001b[0m\u001b[0;34m)\u001b[0m\u001b[0;34m]\u001b[0m\u001b[0;34m\u001b[0m\u001b[0;34m\u001b[0m\u001b[0m\n\u001b[0m\u001b[1;32m     15\u001b[0m \u001b[0;34m\u001b[0m\u001b[0m\n\u001b[1;32m     16\u001b[0m     \u001b[0;32mif\u001b[0m \u001b[0mobjectcount\u001b[0m\u001b[0;34m:\u001b[0m\u001b[0;34m\u001b[0m\u001b[0;34m\u001b[0m\u001b[0m\n",
      "\u001b[0;32m<ipython-input-23-d82c7d525115>\u001b[0m in \u001b[0;36m<listcomp>\u001b[0;34m(.0)\u001b[0m\n\u001b[1;32m     12\u001b[0m         \u001b[0;34m\"Attempting to download bucket, \"\u001b[0m\u001b[0;34m,\u001b[0m \u001b[0mbucketname\u001b[0m\u001b[0;34m,\u001b[0m \u001b[0;34m\" folder, \"\u001b[0m\u001b[0;34m,\u001b[0m \u001b[0mremoteDirectoryName\u001b[0m\u001b[0;34m,\u001b[0m \u001b[0;34m' | counting objects: '\u001b[0m\u001b[0;34m\u001b[0m\u001b[0;34m\u001b[0m\u001b[0m\n\u001b[1;32m     13\u001b[0m     )\n\u001b[0;32m---> 14\u001b[0;31m     \u001b[0mobjkeys\u001b[0m \u001b[0;34m=\u001b[0m \u001b[0;34m[\u001b[0m\u001b[0mobj\u001b[0m\u001b[0;34m.\u001b[0m\u001b[0mkey\u001b[0m \u001b[0;32mfor\u001b[0m \u001b[0mobj\u001b[0m \u001b[0;32min\u001b[0m \u001b[0mtqdm\u001b[0m\u001b[0;34m(\u001b[0m\u001b[0mbucket\u001b[0m\u001b[0;34m.\u001b[0m\u001b[0mobjects\u001b[0m\u001b[0;34m.\u001b[0m\u001b[0mfilter\u001b[0m\u001b[0;34m(\u001b[0m\u001b[0mPrefix\u001b[0m\u001b[0;34m=\u001b[0m\u001b[0mremoteDirectoryName\u001b[0m\u001b[0;34m)\u001b[0m\u001b[0;34m)\u001b[0m\u001b[0;34m]\u001b[0m\u001b[0;34m\u001b[0m\u001b[0;34m\u001b[0m\u001b[0m\n\u001b[0m\u001b[1;32m     15\u001b[0m \u001b[0;34m\u001b[0m\u001b[0m\n\u001b[1;32m     16\u001b[0m     \u001b[0;32mif\u001b[0m \u001b[0mobjectcount\u001b[0m\u001b[0;34m:\u001b[0m\u001b[0;34m\u001b[0m\u001b[0;34m\u001b[0m\u001b[0m\n",
      "\u001b[0;32m/opt/conda/lib/python3.8/site-packages/tqdm/std.py\u001b[0m in \u001b[0;36m__iter__\u001b[0;34m(self)\u001b[0m\n\u001b[1;32m   1176\u001b[0m \u001b[0;34m\u001b[0m\u001b[0m\n\u001b[1;32m   1177\u001b[0m         \u001b[0;32mtry\u001b[0m\u001b[0;34m:\u001b[0m\u001b[0;34m\u001b[0m\u001b[0;34m\u001b[0m\u001b[0m\n\u001b[0;32m-> 1178\u001b[0;31m             \u001b[0;32mfor\u001b[0m \u001b[0mobj\u001b[0m \u001b[0;32min\u001b[0m \u001b[0miterable\u001b[0m\u001b[0;34m:\u001b[0m\u001b[0;34m\u001b[0m\u001b[0;34m\u001b[0m\u001b[0m\n\u001b[0m\u001b[1;32m   1179\u001b[0m                 \u001b[0;32myield\u001b[0m \u001b[0mobj\u001b[0m\u001b[0;34m\u001b[0m\u001b[0;34m\u001b[0m\u001b[0m\n\u001b[1;32m   1180\u001b[0m                 \u001b[0;31m# Update and possibly print the progressbar.\u001b[0m\u001b[0;34m\u001b[0m\u001b[0;34m\u001b[0m\u001b[0;34m\u001b[0m\u001b[0m\n",
      "\u001b[0;32m/opt/conda/lib/python3.8/site-packages/boto3/resources/collection.py\u001b[0m in \u001b[0;36m__iter__\u001b[0;34m(self)\u001b[0m\n\u001b[1;32m     81\u001b[0m \u001b[0;34m\u001b[0m\u001b[0m\n\u001b[1;32m     82\u001b[0m         \u001b[0mcount\u001b[0m \u001b[0;34m=\u001b[0m \u001b[0;36m0\u001b[0m\u001b[0;34m\u001b[0m\u001b[0;34m\u001b[0m\u001b[0m\n\u001b[0;32m---> 83\u001b[0;31m         \u001b[0;32mfor\u001b[0m \u001b[0mpage\u001b[0m \u001b[0;32min\u001b[0m \u001b[0mself\u001b[0m\u001b[0;34m.\u001b[0m\u001b[0mpages\u001b[0m\u001b[0;34m(\u001b[0m\u001b[0;34m)\u001b[0m\u001b[0;34m:\u001b[0m\u001b[0;34m\u001b[0m\u001b[0;34m\u001b[0m\u001b[0m\n\u001b[0m\u001b[1;32m     84\u001b[0m             \u001b[0;32mfor\u001b[0m \u001b[0mitem\u001b[0m \u001b[0;32min\u001b[0m \u001b[0mpage\u001b[0m\u001b[0;34m:\u001b[0m\u001b[0;34m\u001b[0m\u001b[0;34m\u001b[0m\u001b[0m\n\u001b[1;32m     85\u001b[0m                 \u001b[0;32myield\u001b[0m \u001b[0mitem\u001b[0m\u001b[0;34m\u001b[0m\u001b[0;34m\u001b[0m\u001b[0m\n",
      "\u001b[0;32m/opt/conda/lib/python3.8/site-packages/boto3/resources/collection.py\u001b[0m in \u001b[0;36mpages\u001b[0;34m(self)\u001b[0m\n\u001b[1;32m    164\u001b[0m         \u001b[0;31m# we start processing and yielding individual items.\u001b[0m\u001b[0;34m\u001b[0m\u001b[0;34m\u001b[0m\u001b[0;34m\u001b[0m\u001b[0m\n\u001b[1;32m    165\u001b[0m         \u001b[0mcount\u001b[0m \u001b[0;34m=\u001b[0m \u001b[0;36m0\u001b[0m\u001b[0;34m\u001b[0m\u001b[0;34m\u001b[0m\u001b[0m\n\u001b[0;32m--> 166\u001b[0;31m         \u001b[0;32mfor\u001b[0m \u001b[0mpage\u001b[0m \u001b[0;32min\u001b[0m \u001b[0mpages\u001b[0m\u001b[0;34m:\u001b[0m\u001b[0;34m\u001b[0m\u001b[0;34m\u001b[0m\u001b[0m\n\u001b[0m\u001b[1;32m    167\u001b[0m             \u001b[0mpage_items\u001b[0m \u001b[0;34m=\u001b[0m \u001b[0;34m[\u001b[0m\u001b[0;34m]\u001b[0m\u001b[0;34m\u001b[0m\u001b[0;34m\u001b[0m\u001b[0m\n\u001b[1;32m    168\u001b[0m             \u001b[0;32mfor\u001b[0m \u001b[0mitem\u001b[0m \u001b[0;32min\u001b[0m \u001b[0mself\u001b[0m\u001b[0;34m.\u001b[0m\u001b[0m_handler\u001b[0m\u001b[0;34m(\u001b[0m\u001b[0mself\u001b[0m\u001b[0;34m.\u001b[0m\u001b[0m_parent\u001b[0m\u001b[0;34m,\u001b[0m \u001b[0mparams\u001b[0m\u001b[0;34m,\u001b[0m \u001b[0mpage\u001b[0m\u001b[0;34m)\u001b[0m\u001b[0;34m:\u001b[0m\u001b[0;34m\u001b[0m\u001b[0;34m\u001b[0m\u001b[0m\n",
      "\u001b[0;32m/opt/conda/lib/python3.8/site-packages/botocore/paginate.py\u001b[0m in \u001b[0;36m__iter__\u001b[0;34m(self)\u001b[0m\n\u001b[1;32m    253\u001b[0m         \u001b[0mself\u001b[0m\u001b[0;34m.\u001b[0m\u001b[0m_inject_starting_params\u001b[0m\u001b[0;34m(\u001b[0m\u001b[0mcurrent_kwargs\u001b[0m\u001b[0;34m)\u001b[0m\u001b[0;34m\u001b[0m\u001b[0;34m\u001b[0m\u001b[0m\n\u001b[1;32m    254\u001b[0m         \u001b[0;32mwhile\u001b[0m \u001b[0;32mTrue\u001b[0m\u001b[0;34m:\u001b[0m\u001b[0;34m\u001b[0m\u001b[0;34m\u001b[0m\u001b[0m\n\u001b[0;32m--> 255\u001b[0;31m             \u001b[0mresponse\u001b[0m \u001b[0;34m=\u001b[0m \u001b[0mself\u001b[0m\u001b[0;34m.\u001b[0m\u001b[0m_make_request\u001b[0m\u001b[0;34m(\u001b[0m\u001b[0mcurrent_kwargs\u001b[0m\u001b[0;34m)\u001b[0m\u001b[0;34m\u001b[0m\u001b[0;34m\u001b[0m\u001b[0m\n\u001b[0m\u001b[1;32m    256\u001b[0m             \u001b[0mparsed\u001b[0m \u001b[0;34m=\u001b[0m \u001b[0mself\u001b[0m\u001b[0;34m.\u001b[0m\u001b[0m_extract_parsed_response\u001b[0m\u001b[0;34m(\u001b[0m\u001b[0mresponse\u001b[0m\u001b[0;34m)\u001b[0m\u001b[0;34m\u001b[0m\u001b[0;34m\u001b[0m\u001b[0m\n\u001b[1;32m    257\u001b[0m             \u001b[0;32mif\u001b[0m \u001b[0mfirst_request\u001b[0m\u001b[0;34m:\u001b[0m\u001b[0;34m\u001b[0m\u001b[0;34m\u001b[0m\u001b[0m\n",
      "\u001b[0;32m/opt/conda/lib/python3.8/site-packages/botocore/paginate.py\u001b[0m in \u001b[0;36m_make_request\u001b[0;34m(self, current_kwargs)\u001b[0m\n\u001b[1;32m    332\u001b[0m \u001b[0;34m\u001b[0m\u001b[0m\n\u001b[1;32m    333\u001b[0m     \u001b[0;32mdef\u001b[0m \u001b[0m_make_request\u001b[0m\u001b[0;34m(\u001b[0m\u001b[0mself\u001b[0m\u001b[0;34m,\u001b[0m \u001b[0mcurrent_kwargs\u001b[0m\u001b[0;34m)\u001b[0m\u001b[0;34m:\u001b[0m\u001b[0;34m\u001b[0m\u001b[0;34m\u001b[0m\u001b[0m\n\u001b[0;32m--> 334\u001b[0;31m         \u001b[0;32mreturn\u001b[0m \u001b[0mself\u001b[0m\u001b[0;34m.\u001b[0m\u001b[0m_method\u001b[0m\u001b[0;34m(\u001b[0m\u001b[0;34m**\u001b[0m\u001b[0mcurrent_kwargs\u001b[0m\u001b[0;34m)\u001b[0m\u001b[0;34m\u001b[0m\u001b[0;34m\u001b[0m\u001b[0m\n\u001b[0m\u001b[1;32m    335\u001b[0m \u001b[0;34m\u001b[0m\u001b[0m\n\u001b[1;32m    336\u001b[0m     \u001b[0;32mdef\u001b[0m \u001b[0m_extract_parsed_response\u001b[0m\u001b[0;34m(\u001b[0m\u001b[0mself\u001b[0m\u001b[0;34m,\u001b[0m \u001b[0mresponse\u001b[0m\u001b[0;34m)\u001b[0m\u001b[0;34m:\u001b[0m\u001b[0;34m\u001b[0m\u001b[0;34m\u001b[0m\u001b[0m\n",
      "\u001b[0;32m/opt/conda/lib/python3.8/site-packages/botocore/client.py\u001b[0m in \u001b[0;36m_api_call\u001b[0;34m(self, *args, **kwargs)\u001b[0m\n\u001b[1;32m    389\u001b[0m                     \"%s() only accepts keyword arguments.\" % py_operation_name)\n\u001b[1;32m    390\u001b[0m             \u001b[0;31m# The \"self\" in this scope is referring to the BaseClient.\u001b[0m\u001b[0;34m\u001b[0m\u001b[0;34m\u001b[0m\u001b[0;34m\u001b[0m\u001b[0m\n\u001b[0;32m--> 391\u001b[0;31m             \u001b[0;32mreturn\u001b[0m \u001b[0mself\u001b[0m\u001b[0;34m.\u001b[0m\u001b[0m_make_api_call\u001b[0m\u001b[0;34m(\u001b[0m\u001b[0moperation_name\u001b[0m\u001b[0;34m,\u001b[0m \u001b[0mkwargs\u001b[0m\u001b[0;34m)\u001b[0m\u001b[0;34m\u001b[0m\u001b[0;34m\u001b[0m\u001b[0m\n\u001b[0m\u001b[1;32m    392\u001b[0m \u001b[0;34m\u001b[0m\u001b[0m\n\u001b[1;32m    393\u001b[0m         \u001b[0m_api_call\u001b[0m\u001b[0;34m.\u001b[0m\u001b[0m__name__\u001b[0m \u001b[0;34m=\u001b[0m \u001b[0mstr\u001b[0m\u001b[0;34m(\u001b[0m\u001b[0mpy_operation_name\u001b[0m\u001b[0;34m)\u001b[0m\u001b[0;34m\u001b[0m\u001b[0;34m\u001b[0m\u001b[0m\n",
      "\u001b[0;32m/opt/conda/lib/python3.8/site-packages/botocore/client.py\u001b[0m in \u001b[0;36m_make_api_call\u001b[0;34m(self, operation_name, api_params)\u001b[0m\n\u001b[1;32m    703\u001b[0m             \u001b[0mhttp\u001b[0m\u001b[0;34m,\u001b[0m \u001b[0mparsed_response\u001b[0m \u001b[0;34m=\u001b[0m \u001b[0mevent_response\u001b[0m\u001b[0;34m\u001b[0m\u001b[0;34m\u001b[0m\u001b[0m\n\u001b[1;32m    704\u001b[0m         \u001b[0;32melse\u001b[0m\u001b[0;34m:\u001b[0m\u001b[0;34m\u001b[0m\u001b[0;34m\u001b[0m\u001b[0m\n\u001b[0;32m--> 705\u001b[0;31m             http, parsed_response = self._make_request(\n\u001b[0m\u001b[1;32m    706\u001b[0m                 operation_model, request_dict, request_context)\n\u001b[1;32m    707\u001b[0m \u001b[0;34m\u001b[0m\u001b[0m\n",
      "\u001b[0;32m/opt/conda/lib/python3.8/site-packages/botocore/client.py\u001b[0m in \u001b[0;36m_make_request\u001b[0;34m(self, operation_model, request_dict, request_context)\u001b[0m\n\u001b[1;32m    723\u001b[0m     \u001b[0;32mdef\u001b[0m \u001b[0m_make_request\u001b[0m\u001b[0;34m(\u001b[0m\u001b[0mself\u001b[0m\u001b[0;34m,\u001b[0m \u001b[0moperation_model\u001b[0m\u001b[0;34m,\u001b[0m \u001b[0mrequest_dict\u001b[0m\u001b[0;34m,\u001b[0m \u001b[0mrequest_context\u001b[0m\u001b[0;34m)\u001b[0m\u001b[0;34m:\u001b[0m\u001b[0;34m\u001b[0m\u001b[0;34m\u001b[0m\u001b[0m\n\u001b[1;32m    724\u001b[0m         \u001b[0;32mtry\u001b[0m\u001b[0;34m:\u001b[0m\u001b[0;34m\u001b[0m\u001b[0;34m\u001b[0m\u001b[0m\n\u001b[0;32m--> 725\u001b[0;31m             \u001b[0;32mreturn\u001b[0m \u001b[0mself\u001b[0m\u001b[0;34m.\u001b[0m\u001b[0m_endpoint\u001b[0m\u001b[0;34m.\u001b[0m\u001b[0mmake_request\u001b[0m\u001b[0;34m(\u001b[0m\u001b[0moperation_model\u001b[0m\u001b[0;34m,\u001b[0m \u001b[0mrequest_dict\u001b[0m\u001b[0;34m)\u001b[0m\u001b[0;34m\u001b[0m\u001b[0;34m\u001b[0m\u001b[0m\n\u001b[0m\u001b[1;32m    726\u001b[0m         \u001b[0;32mexcept\u001b[0m \u001b[0mException\u001b[0m \u001b[0;32mas\u001b[0m \u001b[0me\u001b[0m\u001b[0;34m:\u001b[0m\u001b[0;34m\u001b[0m\u001b[0;34m\u001b[0m\u001b[0m\n\u001b[1;32m    727\u001b[0m             self.meta.events.emit(\n",
      "\u001b[0;32m/opt/conda/lib/python3.8/site-packages/botocore/endpoint.py\u001b[0m in \u001b[0;36mmake_request\u001b[0;34m(self, operation_model, request_dict)\u001b[0m\n\u001b[1;32m    102\u001b[0m         logger.debug(\"Making request for %s with params: %s\",\n\u001b[1;32m    103\u001b[0m                      operation_model, request_dict)\n\u001b[0;32m--> 104\u001b[0;31m         \u001b[0;32mreturn\u001b[0m \u001b[0mself\u001b[0m\u001b[0;34m.\u001b[0m\u001b[0m_send_request\u001b[0m\u001b[0;34m(\u001b[0m\u001b[0mrequest_dict\u001b[0m\u001b[0;34m,\u001b[0m \u001b[0moperation_model\u001b[0m\u001b[0;34m)\u001b[0m\u001b[0;34m\u001b[0m\u001b[0;34m\u001b[0m\u001b[0m\n\u001b[0m\u001b[1;32m    105\u001b[0m \u001b[0;34m\u001b[0m\u001b[0m\n\u001b[1;32m    106\u001b[0m     \u001b[0;32mdef\u001b[0m \u001b[0mcreate_request\u001b[0m\u001b[0;34m(\u001b[0m\u001b[0mself\u001b[0m\u001b[0;34m,\u001b[0m \u001b[0mparams\u001b[0m\u001b[0;34m,\u001b[0m \u001b[0moperation_model\u001b[0m\u001b[0;34m=\u001b[0m\u001b[0;32mNone\u001b[0m\u001b[0;34m)\u001b[0m\u001b[0;34m:\u001b[0m\u001b[0;34m\u001b[0m\u001b[0;34m\u001b[0m\u001b[0m\n",
      "\u001b[0;32m/opt/conda/lib/python3.8/site-packages/botocore/endpoint.py\u001b[0m in \u001b[0;36m_send_request\u001b[0;34m(self, request_dict, operation_model)\u001b[0m\n\u001b[1;32m    134\u001b[0m         \u001b[0mrequest\u001b[0m \u001b[0;34m=\u001b[0m \u001b[0mself\u001b[0m\u001b[0;34m.\u001b[0m\u001b[0mcreate_request\u001b[0m\u001b[0;34m(\u001b[0m\u001b[0mrequest_dict\u001b[0m\u001b[0;34m,\u001b[0m \u001b[0moperation_model\u001b[0m\u001b[0;34m)\u001b[0m\u001b[0;34m\u001b[0m\u001b[0;34m\u001b[0m\u001b[0m\n\u001b[1;32m    135\u001b[0m         \u001b[0mcontext\u001b[0m \u001b[0;34m=\u001b[0m \u001b[0mrequest_dict\u001b[0m\u001b[0;34m[\u001b[0m\u001b[0;34m'context'\u001b[0m\u001b[0;34m]\u001b[0m\u001b[0;34m\u001b[0m\u001b[0;34m\u001b[0m\u001b[0m\n\u001b[0;32m--> 136\u001b[0;31m         success_response, exception = self._get_response(\n\u001b[0m\u001b[1;32m    137\u001b[0m             request, operation_model, context)\n\u001b[1;32m    138\u001b[0m         while self._needs_retry(attempts, operation_model, request_dict,\n",
      "\u001b[0;32m/opt/conda/lib/python3.8/site-packages/botocore/endpoint.py\u001b[0m in \u001b[0;36m_get_response\u001b[0;34m(self, request, operation_model, context)\u001b[0m\n\u001b[1;32m    165\u001b[0m         \u001b[0;31m# If an exception occurs then the success_response is None.\u001b[0m\u001b[0;34m\u001b[0m\u001b[0;34m\u001b[0m\u001b[0;34m\u001b[0m\u001b[0m\n\u001b[1;32m    166\u001b[0m         \u001b[0;31m# If no exception occurs then exception is None.\u001b[0m\u001b[0;34m\u001b[0m\u001b[0;34m\u001b[0m\u001b[0;34m\u001b[0m\u001b[0m\n\u001b[0;32m--> 167\u001b[0;31m         success_response, exception = self._do_get_response(\n\u001b[0m\u001b[1;32m    168\u001b[0m             request, operation_model)\n\u001b[1;32m    169\u001b[0m         kwargs_to_emit = {\n",
      "\u001b[0;32m/opt/conda/lib/python3.8/site-packages/botocore/endpoint.py\u001b[0m in \u001b[0;36m_do_get_response\u001b[0;34m(self, request, operation_model)\u001b[0m\n\u001b[1;32m    199\u001b[0m             \u001b[0mhttp_response\u001b[0m \u001b[0;34m=\u001b[0m \u001b[0mfirst_non_none_response\u001b[0m\u001b[0;34m(\u001b[0m\u001b[0mresponses\u001b[0m\u001b[0;34m)\u001b[0m\u001b[0;34m\u001b[0m\u001b[0;34m\u001b[0m\u001b[0m\n\u001b[1;32m    200\u001b[0m             \u001b[0;32mif\u001b[0m \u001b[0mhttp_response\u001b[0m \u001b[0;32mis\u001b[0m \u001b[0;32mNone\u001b[0m\u001b[0;34m:\u001b[0m\u001b[0;34m\u001b[0m\u001b[0;34m\u001b[0m\u001b[0m\n\u001b[0;32m--> 201\u001b[0;31m                 \u001b[0mhttp_response\u001b[0m \u001b[0;34m=\u001b[0m \u001b[0mself\u001b[0m\u001b[0;34m.\u001b[0m\u001b[0m_send\u001b[0m\u001b[0;34m(\u001b[0m\u001b[0mrequest\u001b[0m\u001b[0;34m)\u001b[0m\u001b[0;34m\u001b[0m\u001b[0;34m\u001b[0m\u001b[0m\n\u001b[0m\u001b[1;32m    202\u001b[0m         \u001b[0;32mexcept\u001b[0m \u001b[0mHTTPClientError\u001b[0m \u001b[0;32mas\u001b[0m \u001b[0me\u001b[0m\u001b[0;34m:\u001b[0m\u001b[0;34m\u001b[0m\u001b[0;34m\u001b[0m\u001b[0m\n\u001b[1;32m    203\u001b[0m             \u001b[0;32mreturn\u001b[0m \u001b[0;34m(\u001b[0m\u001b[0;32mNone\u001b[0m\u001b[0;34m,\u001b[0m \u001b[0me\u001b[0m\u001b[0;34m)\u001b[0m\u001b[0;34m\u001b[0m\u001b[0;34m\u001b[0m\u001b[0m\n",
      "\u001b[0;32m/opt/conda/lib/python3.8/site-packages/botocore/endpoint.py\u001b[0m in \u001b[0;36m_send\u001b[0;34m(self, request)\u001b[0m\n\u001b[1;32m    268\u001b[0m \u001b[0;34m\u001b[0m\u001b[0m\n\u001b[1;32m    269\u001b[0m     \u001b[0;32mdef\u001b[0m \u001b[0m_send\u001b[0m\u001b[0;34m(\u001b[0m\u001b[0mself\u001b[0m\u001b[0;34m,\u001b[0m \u001b[0mrequest\u001b[0m\u001b[0;34m)\u001b[0m\u001b[0;34m:\u001b[0m\u001b[0;34m\u001b[0m\u001b[0;34m\u001b[0m\u001b[0m\n\u001b[0;32m--> 270\u001b[0;31m         \u001b[0;32mreturn\u001b[0m \u001b[0mself\u001b[0m\u001b[0;34m.\u001b[0m\u001b[0mhttp_session\u001b[0m\u001b[0;34m.\u001b[0m\u001b[0msend\u001b[0m\u001b[0;34m(\u001b[0m\u001b[0mrequest\u001b[0m\u001b[0;34m)\u001b[0m\u001b[0;34m\u001b[0m\u001b[0;34m\u001b[0m\u001b[0m\n\u001b[0m\u001b[1;32m    271\u001b[0m \u001b[0;34m\u001b[0m\u001b[0m\n\u001b[1;32m    272\u001b[0m \u001b[0;34m\u001b[0m\u001b[0m\n",
      "\u001b[0;32m/opt/conda/lib/python3.8/site-packages/botocore/httpsession.py\u001b[0m in \u001b[0;36msend\u001b[0;34m(self, request)\u001b[0m\n\u001b[1;32m    383\u001b[0m \u001b[0;34m\u001b[0m\u001b[0m\n\u001b[1;32m    384\u001b[0m             \u001b[0mrequest_target\u001b[0m \u001b[0;34m=\u001b[0m \u001b[0mself\u001b[0m\u001b[0;34m.\u001b[0m\u001b[0m_get_request_target\u001b[0m\u001b[0;34m(\u001b[0m\u001b[0mrequest\u001b[0m\u001b[0;34m.\u001b[0m\u001b[0murl\u001b[0m\u001b[0;34m,\u001b[0m \u001b[0mproxy_url\u001b[0m\u001b[0;34m)\u001b[0m\u001b[0;34m\u001b[0m\u001b[0;34m\u001b[0m\u001b[0m\n\u001b[0;32m--> 385\u001b[0;31m             urllib_response = conn.urlopen(\n\u001b[0m\u001b[1;32m    386\u001b[0m                 \u001b[0mmethod\u001b[0m\u001b[0;34m=\u001b[0m\u001b[0mrequest\u001b[0m\u001b[0;34m.\u001b[0m\u001b[0mmethod\u001b[0m\u001b[0;34m,\u001b[0m\u001b[0;34m\u001b[0m\u001b[0;34m\u001b[0m\u001b[0m\n\u001b[1;32m    387\u001b[0m                 \u001b[0murl\u001b[0m\u001b[0;34m=\u001b[0m\u001b[0mrequest_target\u001b[0m\u001b[0;34m,\u001b[0m\u001b[0;34m\u001b[0m\u001b[0;34m\u001b[0m\u001b[0m\n",
      "\u001b[0;32m/opt/conda/lib/python3.8/site-packages/urllib3/connectionpool.py\u001b[0m in \u001b[0;36murlopen\u001b[0;34m(self, method, url, body, headers, retries, redirect, assert_same_host, timeout, pool_timeout, release_conn, chunked, body_pos, **response_kw)\u001b[0m\n\u001b[1;32m    697\u001b[0m \u001b[0;34m\u001b[0m\u001b[0m\n\u001b[1;32m    698\u001b[0m             \u001b[0;31m# Make the request on the httplib connection object.\u001b[0m\u001b[0;34m\u001b[0m\u001b[0;34m\u001b[0m\u001b[0;34m\u001b[0m\u001b[0m\n\u001b[0;32m--> 699\u001b[0;31m             httplib_response = self._make_request(\n\u001b[0m\u001b[1;32m    700\u001b[0m                 \u001b[0mconn\u001b[0m\u001b[0;34m,\u001b[0m\u001b[0;34m\u001b[0m\u001b[0;34m\u001b[0m\u001b[0m\n\u001b[1;32m    701\u001b[0m                 \u001b[0mmethod\u001b[0m\u001b[0;34m,\u001b[0m\u001b[0;34m\u001b[0m\u001b[0;34m\u001b[0m\u001b[0m\n",
      "\u001b[0;32m/opt/conda/lib/python3.8/site-packages/urllib3/connectionpool.py\u001b[0m in \u001b[0;36m_make_request\u001b[0;34m(self, conn, method, url, timeout, chunked, **httplib_request_kw)\u001b[0m\n\u001b[1;32m    443\u001b[0m                     \u001b[0;31m# Python 3 (including for exceptions like SystemExit).\u001b[0m\u001b[0;34m\u001b[0m\u001b[0;34m\u001b[0m\u001b[0;34m\u001b[0m\u001b[0m\n\u001b[1;32m    444\u001b[0m                     \u001b[0;31m# Otherwise it looks like a bug in the code.\u001b[0m\u001b[0;34m\u001b[0m\u001b[0;34m\u001b[0m\u001b[0;34m\u001b[0m\u001b[0m\n\u001b[0;32m--> 445\u001b[0;31m                     \u001b[0msix\u001b[0m\u001b[0;34m.\u001b[0m\u001b[0mraise_from\u001b[0m\u001b[0;34m(\u001b[0m\u001b[0me\u001b[0m\u001b[0;34m,\u001b[0m \u001b[0;32mNone\u001b[0m\u001b[0;34m)\u001b[0m\u001b[0;34m\u001b[0m\u001b[0;34m\u001b[0m\u001b[0m\n\u001b[0m\u001b[1;32m    446\u001b[0m         \u001b[0;32mexcept\u001b[0m \u001b[0;34m(\u001b[0m\u001b[0mSocketTimeout\u001b[0m\u001b[0;34m,\u001b[0m \u001b[0mBaseSSLError\u001b[0m\u001b[0;34m,\u001b[0m \u001b[0mSocketError\u001b[0m\u001b[0;34m)\u001b[0m \u001b[0;32mas\u001b[0m \u001b[0me\u001b[0m\u001b[0;34m:\u001b[0m\u001b[0;34m\u001b[0m\u001b[0;34m\u001b[0m\u001b[0m\n\u001b[1;32m    447\u001b[0m             \u001b[0mself\u001b[0m\u001b[0;34m.\u001b[0m\u001b[0m_raise_timeout\u001b[0m\u001b[0;34m(\u001b[0m\u001b[0merr\u001b[0m\u001b[0;34m=\u001b[0m\u001b[0me\u001b[0m\u001b[0;34m,\u001b[0m \u001b[0murl\u001b[0m\u001b[0;34m=\u001b[0m\u001b[0murl\u001b[0m\u001b[0;34m,\u001b[0m \u001b[0mtimeout_value\u001b[0m\u001b[0;34m=\u001b[0m\u001b[0mread_timeout\u001b[0m\u001b[0;34m)\u001b[0m\u001b[0;34m\u001b[0m\u001b[0;34m\u001b[0m\u001b[0m\n",
      "\u001b[0;32m/opt/conda/lib/python3.8/site-packages/urllib3/packages/six.py\u001b[0m in \u001b[0;36mraise_from\u001b[0;34m(value, from_value)\u001b[0m\n",
      "\u001b[0;32m/opt/conda/lib/python3.8/site-packages/urllib3/connectionpool.py\u001b[0m in \u001b[0;36m_make_request\u001b[0;34m(self, conn, method, url, timeout, chunked, **httplib_request_kw)\u001b[0m\n\u001b[1;32m    438\u001b[0m                 \u001b[0;31m# Python 3\u001b[0m\u001b[0;34m\u001b[0m\u001b[0;34m\u001b[0m\u001b[0;34m\u001b[0m\u001b[0m\n\u001b[1;32m    439\u001b[0m                 \u001b[0;32mtry\u001b[0m\u001b[0;34m:\u001b[0m\u001b[0;34m\u001b[0m\u001b[0;34m\u001b[0m\u001b[0m\n\u001b[0;32m--> 440\u001b[0;31m                     \u001b[0mhttplib_response\u001b[0m \u001b[0;34m=\u001b[0m \u001b[0mconn\u001b[0m\u001b[0;34m.\u001b[0m\u001b[0mgetresponse\u001b[0m\u001b[0;34m(\u001b[0m\u001b[0;34m)\u001b[0m\u001b[0;34m\u001b[0m\u001b[0;34m\u001b[0m\u001b[0m\n\u001b[0m\u001b[1;32m    441\u001b[0m                 \u001b[0;32mexcept\u001b[0m \u001b[0mBaseException\u001b[0m \u001b[0;32mas\u001b[0m \u001b[0me\u001b[0m\u001b[0;34m:\u001b[0m\u001b[0;34m\u001b[0m\u001b[0;34m\u001b[0m\u001b[0m\n\u001b[1;32m    442\u001b[0m                     \u001b[0;31m# Remove the TypeError from the exception chain in\u001b[0m\u001b[0;34m\u001b[0m\u001b[0;34m\u001b[0m\u001b[0;34m\u001b[0m\u001b[0m\n",
      "\u001b[0;32m/opt/conda/lib/python3.8/http/client.py\u001b[0m in \u001b[0;36mgetresponse\u001b[0;34m(self)\u001b[0m\n\u001b[1;32m   1342\u001b[0m         \u001b[0;32mtry\u001b[0m\u001b[0;34m:\u001b[0m\u001b[0;34m\u001b[0m\u001b[0;34m\u001b[0m\u001b[0m\n\u001b[1;32m   1343\u001b[0m             \u001b[0;32mtry\u001b[0m\u001b[0;34m:\u001b[0m\u001b[0;34m\u001b[0m\u001b[0;34m\u001b[0m\u001b[0m\n\u001b[0;32m-> 1344\u001b[0;31m                 \u001b[0mresponse\u001b[0m\u001b[0;34m.\u001b[0m\u001b[0mbegin\u001b[0m\u001b[0;34m(\u001b[0m\u001b[0;34m)\u001b[0m\u001b[0;34m\u001b[0m\u001b[0;34m\u001b[0m\u001b[0m\n\u001b[0m\u001b[1;32m   1345\u001b[0m             \u001b[0;32mexcept\u001b[0m \u001b[0mConnectionError\u001b[0m\u001b[0;34m:\u001b[0m\u001b[0;34m\u001b[0m\u001b[0;34m\u001b[0m\u001b[0m\n\u001b[1;32m   1346\u001b[0m                 \u001b[0mself\u001b[0m\u001b[0;34m.\u001b[0m\u001b[0mclose\u001b[0m\u001b[0;34m(\u001b[0m\u001b[0;34m)\u001b[0m\u001b[0;34m\u001b[0m\u001b[0;34m\u001b[0m\u001b[0m\n",
      "\u001b[0;32m/opt/conda/lib/python3.8/http/client.py\u001b[0m in \u001b[0;36mbegin\u001b[0;34m(self)\u001b[0m\n\u001b[1;32m    305\u001b[0m         \u001b[0;31m# read until we get a non-100 response\u001b[0m\u001b[0;34m\u001b[0m\u001b[0;34m\u001b[0m\u001b[0;34m\u001b[0m\u001b[0m\n\u001b[1;32m    306\u001b[0m         \u001b[0;32mwhile\u001b[0m \u001b[0;32mTrue\u001b[0m\u001b[0;34m:\u001b[0m\u001b[0;34m\u001b[0m\u001b[0;34m\u001b[0m\u001b[0m\n\u001b[0;32m--> 307\u001b[0;31m             \u001b[0mversion\u001b[0m\u001b[0;34m,\u001b[0m \u001b[0mstatus\u001b[0m\u001b[0;34m,\u001b[0m \u001b[0mreason\u001b[0m \u001b[0;34m=\u001b[0m \u001b[0mself\u001b[0m\u001b[0;34m.\u001b[0m\u001b[0m_read_status\u001b[0m\u001b[0;34m(\u001b[0m\u001b[0;34m)\u001b[0m\u001b[0;34m\u001b[0m\u001b[0;34m\u001b[0m\u001b[0m\n\u001b[0m\u001b[1;32m    308\u001b[0m             \u001b[0;32mif\u001b[0m \u001b[0mstatus\u001b[0m \u001b[0;34m!=\u001b[0m \u001b[0mCONTINUE\u001b[0m\u001b[0;34m:\u001b[0m\u001b[0;34m\u001b[0m\u001b[0;34m\u001b[0m\u001b[0m\n\u001b[1;32m    309\u001b[0m                 \u001b[0;32mbreak\u001b[0m\u001b[0;34m\u001b[0m\u001b[0;34m\u001b[0m\u001b[0m\n",
      "\u001b[0;32m/opt/conda/lib/python3.8/http/client.py\u001b[0m in \u001b[0;36m_read_status\u001b[0;34m(self)\u001b[0m\n\u001b[1;32m    266\u001b[0m \u001b[0;34m\u001b[0m\u001b[0m\n\u001b[1;32m    267\u001b[0m     \u001b[0;32mdef\u001b[0m \u001b[0m_read_status\u001b[0m\u001b[0;34m(\u001b[0m\u001b[0mself\u001b[0m\u001b[0;34m)\u001b[0m\u001b[0;34m:\u001b[0m\u001b[0;34m\u001b[0m\u001b[0;34m\u001b[0m\u001b[0m\n\u001b[0;32m--> 268\u001b[0;31m         \u001b[0mline\u001b[0m \u001b[0;34m=\u001b[0m \u001b[0mstr\u001b[0m\u001b[0;34m(\u001b[0m\u001b[0mself\u001b[0m\u001b[0;34m.\u001b[0m\u001b[0mfp\u001b[0m\u001b[0;34m.\u001b[0m\u001b[0mreadline\u001b[0m\u001b[0;34m(\u001b[0m\u001b[0m_MAXLINE\u001b[0m \u001b[0;34m+\u001b[0m \u001b[0;36m1\u001b[0m\u001b[0;34m)\u001b[0m\u001b[0;34m,\u001b[0m \u001b[0;34m\"iso-8859-1\"\u001b[0m\u001b[0;34m)\u001b[0m\u001b[0;34m\u001b[0m\u001b[0;34m\u001b[0m\u001b[0m\n\u001b[0m\u001b[1;32m    269\u001b[0m         \u001b[0;32mif\u001b[0m \u001b[0mlen\u001b[0m\u001b[0;34m(\u001b[0m\u001b[0mline\u001b[0m\u001b[0;34m)\u001b[0m \u001b[0;34m>\u001b[0m \u001b[0m_MAXLINE\u001b[0m\u001b[0;34m:\u001b[0m\u001b[0;34m\u001b[0m\u001b[0;34m\u001b[0m\u001b[0m\n\u001b[1;32m    270\u001b[0m             \u001b[0;32mraise\u001b[0m \u001b[0mLineTooLong\u001b[0m\u001b[0;34m(\u001b[0m\u001b[0;34m\"status line\"\u001b[0m\u001b[0;34m)\u001b[0m\u001b[0;34m\u001b[0m\u001b[0;34m\u001b[0m\u001b[0m\n",
      "\u001b[0;32m/opt/conda/lib/python3.8/socket.py\u001b[0m in \u001b[0;36mreadinto\u001b[0;34m(self, b)\u001b[0m\n\u001b[1;32m    667\u001b[0m         \u001b[0;32mwhile\u001b[0m \u001b[0;32mTrue\u001b[0m\u001b[0;34m:\u001b[0m\u001b[0;34m\u001b[0m\u001b[0;34m\u001b[0m\u001b[0m\n\u001b[1;32m    668\u001b[0m             \u001b[0;32mtry\u001b[0m\u001b[0;34m:\u001b[0m\u001b[0;34m\u001b[0m\u001b[0;34m\u001b[0m\u001b[0m\n\u001b[0;32m--> 669\u001b[0;31m                 \u001b[0;32mreturn\u001b[0m \u001b[0mself\u001b[0m\u001b[0;34m.\u001b[0m\u001b[0m_sock\u001b[0m\u001b[0;34m.\u001b[0m\u001b[0mrecv_into\u001b[0m\u001b[0;34m(\u001b[0m\u001b[0mb\u001b[0m\u001b[0;34m)\u001b[0m\u001b[0;34m\u001b[0m\u001b[0;34m\u001b[0m\u001b[0m\n\u001b[0m\u001b[1;32m    670\u001b[0m             \u001b[0;32mexcept\u001b[0m \u001b[0mtimeout\u001b[0m\u001b[0;34m:\u001b[0m\u001b[0;34m\u001b[0m\u001b[0;34m\u001b[0m\u001b[0m\n\u001b[1;32m    671\u001b[0m                 \u001b[0mself\u001b[0m\u001b[0;34m.\u001b[0m\u001b[0m_timeout_occurred\u001b[0m \u001b[0;34m=\u001b[0m \u001b[0;32mTrue\u001b[0m\u001b[0;34m\u001b[0m\u001b[0;34m\u001b[0m\u001b[0m\n",
      "\u001b[0;31mKeyboardInterrupt\u001b[0m: "
     ]
    }
   ],
   "source": [
    "%%time\n",
    "bucketname = input('Enter minio bucket name: ')\n",
    "bucket = s3.Bucket(bucketname)\n",
    "\n",
    "## Parameters\n",
    "#remoteDirectoryName - Folder name from the bucket - leave this blank ('') if you want all folders\n",
    "#objectcount - Number of objects you want downloaded, for large data, test with a smaller number of objects first.\n",
    "#               Set this to None for all objects\n",
    "#suffix - If you want only objects with a certain extension downloaded like '.dcm' or '.svs'\n",
    "#       - None if you want all objects\n",
    "\n",
    "downloadDirectoryFroms3(remoteDirectoryName='',objectcount=10,suffix=None)\n",
    "print(download_dir ,' now has ', len(os.listdir(download_dir)), ' files')\n",
    "#downloadDirectoryFroms3_single(s3,bucketname,'')"
   ]
  },
  {
   "cell_type": "markdown",
   "id": "109604dc-684d-459b-9c93-65d5827c1e86",
   "metadata": {},
   "source": [
    "## D. Upload data from workspace to bucket in MINIO using s3"
   ]
  },
  {
   "cell_type": "markdown",
   "id": "16f19ced-3bc8-48b6-88ae-acf34a5e26ff",
   "metadata": {},
   "source": [
    "### 1. Define function to delete bucket if it already exists"
   ]
  },
  {
   "cell_type": "code",
   "execution_count": 16,
   "id": "abd89158-3ec1-47fc-9f41-8a9300f46347",
   "metadata": {},
   "outputs": [],
   "source": [
    "from botocore.client import ClientError"
   ]
  },
  {
   "cell_type": "code",
   "execution_count": 75,
   "id": "4cd74ca8-d3d9-4423-b372-ddbbb7fc1569",
   "metadata": {},
   "outputs": [],
   "source": [
    "def delete_bucket(s3, bucketname):\n",
    "    try:\n",
    "        s3.meta.client.head_bucket(Bucket=bucketname)\n",
    "        bucket = s3.Bucket(bucketname)\n",
    "        response = bucket.objects.all().delete()\n",
    "        #print('Deleted bucket objects: \\n',response)\n",
    "        response = bucket.delete(\n",
    "            ExpectedBucketOwner='string'\n",
    "        )\n",
    "        print('Deleted bucket: \\n',bucketname)\n",
    "    except ClientError:\n",
    "        print('Bucket does not exist')"
   ]
  },
  {
   "cell_type": "markdown",
   "id": "c71c6332-6483-40da-9eb9-138866e01a9c",
   "metadata": {},
   "source": [
    "### 2. Set new bucket and upload folder - bucket name should be only small letters, no symbols"
   ]
  },
  {
   "cell_type": "code",
   "execution_count": 113,
   "id": "1ce80fd1-d2a8-4d3d-ad0e-019346b8758c",
   "metadata": {},
   "outputs": [],
   "source": [
    "new_bucket = \"monailabel\"\n",
    "upload_folder = \"monailabel\""
   ]
  },
  {
   "cell_type": "markdown",
   "id": "e8e4bc73-dfbd-414c-9645-6f17dcacec00",
   "metadata": {},
   "source": [
    "### 3. Delete bucket if it exists and create empty bucket - Only for test purposes - don't delete project data buckets!"
   ]
  },
  {
   "cell_type": "code",
   "execution_count": 114,
   "id": "60cdc754-abfd-414a-9e18-87dab9c3ad71",
   "metadata": {},
   "outputs": [
    {
     "name": "stdout",
     "output_type": "stream",
     "text": [
      "Deleted bucket: \n",
      " monailabel\n"
     ]
    }
   ],
   "source": [
    "delete_bucket(s3,new_bucket)"
   ]
  },
  {
   "cell_type": "markdown",
   "id": "d4eeb6af-1a10-4bd4-afce-284074871167",
   "metadata": {},
   "source": [
    "### 4. Upload Data to bucket"
   ]
  },
  {
   "cell_type": "code",
   "execution_count": 115,
   "id": "0d9200ff-4812-4763-9d31-6babb205a999",
   "metadata": {},
   "outputs": [],
   "source": [
    "from multiprocessing.pool import ThreadPool \n",
    "bucket = s3.Bucket(new_bucket)"
   ]
  },
  {
   "cell_type": "code",
   "execution_count": 116,
   "id": "19912133-70df-4b40-846e-df8bf5657935",
   "metadata": {},
   "outputs": [],
   "source": [
    "folderpath = upload_folder\n",
    "def upload_file(full_path):\n",
    "    with open(full_path, 'rb') as data:\n",
    "            bucket.put_object(Key=full_path[len(folderpath)+1:], Body=data)"
   ]
  },
  {
   "cell_type": "code",
   "execution_count": 117,
   "id": "f2ff5c4e-db88-42cd-8ce5-cd7e225f2326",
   "metadata": {},
   "outputs": [],
   "source": [
    "def upload_files(s3,bucketname,folderpath):\n",
    "    if not bucket.creation_date:\n",
    "        s3.create_bucket(Bucket=bucketname)\n",
    "    all_paths = []\n",
    "    for subdir, dirs, files in os.walk(folderpath):\n",
    "        full_paths = [os.path.join(subdir, file) for file in files]\n",
    "        all_paths = all_paths + full_paths\n",
    "        \n",
    "    pool = ThreadPool(processes=2*len(all_paths))\n",
    "    pool.map(upload_file,all_paths)\n",
    "    #pool.join()\n",
    "    pool.close()"
   ]
  },
  {
   "cell_type": "code",
   "execution_count": 118,
   "id": "6ba29a51-9932-44ce-85c2-0db49ad0eeab",
   "metadata": {},
   "outputs": [
    {
     "name": "stdout",
     "output_type": "stream",
     "text": [
      "Upload Done\n",
      "CPU times: user 17.3 s, sys: 20.4 s, total: 37.7 s\n",
      "Wall time: 16 s\n"
     ]
    }
   ],
   "source": [
    "%%time\n",
    "\n",
    "upload_files(s3,new_bucket,upload_folder)\n",
    "\n",
    "print(\"Upload Done\")"
   ]
  },
  {
   "cell_type": "markdown",
   "id": "3cf801e8-e235-4f67-98e4-4ee47dffe418",
   "metadata": {},
   "source": [
    "### 5. Go to MINIO Console and check if data is uploaded"
   ]
  },
  {
   "cell_type": "markdown",
   "id": "d9a8eb93-5cdb-4e26-b442-34854ce9b8c5",
   "metadata": {},
   "source": [
    "<img style=\"width: 40%\" src=\"im/cap3.PNG\">"
   ]
  },
  {
   "cell_type": "code",
   "execution_count": null,
   "id": "5b7dcfee-3543-4d71-ac08-e6de4b156632",
   "metadata": {},
   "outputs": [],
   "source": []
  }
 ],
 "metadata": {
  "kernelspec": {
   "display_name": "Python 3",
   "language": "python",
   "name": "python3"
  },
  "language_info": {
   "codemirror_mode": {
    "name": "ipython",
    "version": 3
   },
   "file_extension": ".py",
   "mimetype": "text/x-python",
   "name": "python",
   "nbconvert_exporter": "python",
   "pygments_lexer": "ipython3",
   "version": "3.8.10"
  },
  "toc": {
   "base_numbering": 1,
   "nav_menu": {},
   "number_sections": false,
   "sideBar": true,
   "skip_h1_title": false,
   "title_cell": "Table of Contents",
   "title_sidebar": "Contents",
   "toc_cell": false,
   "toc_position": {},
   "toc_section_display": true,
   "toc_window_display": false
  }
 },
 "nbformat": 4,
 "nbformat_minor": 5
}
