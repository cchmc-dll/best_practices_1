{
 "cells": [
  {
   "cell_type": "markdown",
   "id": "da7dcc24-7392-4734-bf05-6dcfe10d2072",
   "metadata": {},
   "source": [
    "# Data Import From MINIO server"
   ]
  },
  {
   "cell_type": "markdown",
   "id": "3e06b314-7996-460d-a060-e457023eadc8",
   "metadata": {},
   "source": [
    "## A. Accessing MINIO Console"
   ]
  },
  {
   "cell_type": "markdown",
   "id": "a816b692-c384-4eff-b79e-600042e61e35",
   "metadata": {},
   "source": [
    "Step 1: Head to this link http://10.1.32.31:9001 on your browser"
   ]
  },
  {
   "cell_type": "markdown",
   "id": "67a4d0cc-dd30-4b2a-bb96-9b08b4e5a595",
   "metadata": {},
   "source": [
    "Step 2: Login using your username and password"
   ]
  },
  {
   "cell_type": "markdown",
   "id": "f80ae2fa-9d52-434c-9358-718123de00b3",
   "metadata": {},
   "source": [
    "## B. Create test bucket in your name and upload few files"
   ]
  },
  {
   "cell_type": "markdown",
   "id": "8916751e-114c-4bf6-b4a8-a6fa1ca2d8a6",
   "metadata": {},
   "source": [
    "<img style=\"width: 60%\" src=\"im/cap1.PNG\">"
   ]
  },
  {
   "cell_type": "markdown",
   "id": "3e0463c7-53a2-4d0e-9187-691a266ebc74",
   "metadata": {},
   "source": [
    "<img style=\"width: 60%\"  src='im/cap2.PNG'>"
   ]
  },
  {
   "cell_type": "markdown",
   "id": "aac1383b-3666-44c0-b018-d26d0e741c7d",
   "metadata": {},
   "source": [
    "## C. Download data from MINIO to workspace"
   ]
  },
  {
   "cell_type": "markdown",
   "id": "309c6fb0-b71d-411c-aae7-dee0cac62aa7",
   "metadata": {},
   "source": [
    "### 1. Import libraries"
   ]
  },
  {
   "cell_type": "code",
   "execution_count": 24,
   "id": "1adb45cf-c8c7-4252-88fb-f06c22d0308e",
   "metadata": {
    "ExecuteTime": {
     "end_time": "2022-03-24T19:29:28.797248Z",
     "start_time": "2022-03-24T19:29:28.793823Z"
    }
   },
   "outputs": [],
   "source": [
    "from minio import Minio\n",
    "from dotenv import load_dotenv # add this line\n",
    "import os"
   ]
  },
  {
   "cell_type": "code",
   "execution_count": 25,
   "id": "f8517e8d-b64d-4c57-b000-e10c367bd3d1",
   "metadata": {
    "ExecuteTime": {
     "end_time": "2022-03-24T19:29:29.720814Z",
     "start_time": "2022-03-24T19:29:29.715708Z"
    }
   },
   "outputs": [
    {
     "data": {
      "text/plain": [
       "'/workspace'"
      ]
     },
     "execution_count": 25,
     "metadata": {},
     "output_type": "execute_result"
    }
   ],
   "source": [
    "os.getcwd()"
   ]
  },
  {
   "cell_type": "markdown",
   "id": "fe030906-39ff-4c6e-95df-5a33e632f3a2",
   "metadata": {},
   "source": [
    "### 2. Create .env file with credentials "
   ]
  },
  {
   "cell_type": "markdown",
   "id": "842fe0f9-1ae1-44ec-876e-d15274ca72b5",
   "metadata": {},
   "source": [
    "#### Run these in the terminal"
   ]
  },
  {
   "cell_type": "markdown",
   "id": "49694eb8-d4e9-4db9-9d50-bc3fc690c675",
   "metadata": {},
   "source": [
    "`echo \"MINIO_ACCESS\"=USERID >> .env`"
   ]
  },
  {
   "cell_type": "markdown",
   "id": "0b44dcc1-1547-41ae-95e6-50b7a0367361",
   "metadata": {},
   "source": [
    "`echo \"MINIO_KEY\"=PWD >> .env`"
   ]
  },
  {
   "cell_type": "markdown",
   "id": "ba0a0625-0a2d-4a9d-973b-ee1451a1581e",
   "metadata": {},
   "source": [
    "### 3. Load credentials securely"
   ]
  },
  {
   "cell_type": "code",
   "execution_count": 26,
   "id": "e5447ad8-e11f-47d8-aeee-ecf856ac6918",
   "metadata": {
    "ExecuteTime": {
     "end_time": "2022-03-24T19:29:34.025957Z",
     "start_time": "2022-03-24T19:29:34.013194Z"
    }
   },
   "outputs": [],
   "source": [
    "load_dotenv() # add this line\n",
    "user = os.getenv('MINIO_ACCESS')\n",
    "key = os.getenv('MINIO_KEY')"
   ]
  },
  {
   "cell_type": "code",
   "execution_count": 27,
   "id": "e1d27268-fcf5-4fac-8cbf-8195053c802e",
   "metadata": {
    "ExecuteTime": {
     "end_time": "2022-03-24T19:29:34.166156Z",
     "start_time": "2022-03-24T19:29:34.161624Z"
    }
   },
   "outputs": [
    {
     "data": {
      "text/plain": [
       "'elan'"
      ]
     },
     "execution_count": 27,
     "metadata": {},
     "output_type": "execute_result"
    }
   ],
   "source": [
    "user"
   ]
  },
  {
   "cell_type": "markdown",
   "id": "9903f3b3-e527-4558-8ce8-24ad00a1a1b8",
   "metadata": {},
   "source": [
    "### 4. Initialize s3 client"
   ]
  },
  {
   "cell_type": "code",
   "execution_count": 28,
   "id": "5c803068-3340-490a-b22a-22d0edac0a2b",
   "metadata": {
    "ExecuteTime": {
     "end_time": "2022-03-24T19:29:38.345671Z",
     "start_time": "2022-03-24T19:29:38.331847Z"
    }
   },
   "outputs": [],
   "source": [
    "import boto3\n",
    "s3 = boto3.resource('s3',\n",
    "                endpoint_url=\"http://minio-0:9000\",\n",
    "                aws_access_key_id=user,\n",
    "                aws_secret_access_key=key)"
   ]
  },
  {
   "cell_type": "markdown",
   "id": "62b3a6c2-0547-4016-bdeb-bb756b9bfdb9",
   "metadata": {},
   "source": [
    "### 5. Load data into workspace"
   ]
  },
  {
   "cell_type": "code",
   "execution_count": 29,
   "id": "e264e263-c435-413f-8555-4a0b66606429",
   "metadata": {
    "ExecuteTime": {
     "end_time": "2022-03-24T19:29:40.535107Z",
     "start_time": "2022-03-24T19:29:40.510815Z"
    }
   },
   "outputs": [
    {
     "name": "stdout",
     "output_type": "stream",
     "text": [
      "0 Bucket:  aish 2022-03-29 16:20:21.187000+00:00\n",
      "1 Bucket:  dvcremote 2022-03-29 20:06:57.020000+00:00\n",
      "2 Bucket:  elan 2022-03-22 20:04:49.117000+00:00\n",
      "3 Bucket:  heart-segmentation 2022-03-30 14:14:40.987000+00:00\n",
      "4 Bucket:  ike 2022-03-14 15:12:48.441000+00:00\n",
      "5 Bucket:  lda-object-detection 2022-03-30 00:50:23.137000+00:00\n",
      "6 Bucket:  madi 2022-03-29 18:52:05.070000+00:00\n",
      "7 Bucket:  monailabel 2022-03-22 20:34:59.637000+00:00\n",
      "8 Bucket:  neeraja 2022-03-11 19:20:49.062000+00:00\n",
      "9 Bucket:  neerajanew 2022-03-11 19:29:13.226000+00:00\n",
      "10 Bucket:  pathology 2022-03-28 18:26:09.536000+00:00\n",
      "11 Bucket:  pathologytest 2022-03-24 19:28:11.765000+00:00\n",
      "12 Bucket:  utilities 2022-03-25 19:53:29.863000+00:00\n",
      "13 Bucket:  zach 2022-03-11 19:22:45.234000+00:00\n"
     ]
    }
   ],
   "source": [
    "# Print buckets in data server\n",
    "buckets = s3.buckets.all()\n",
    "for b,bucket in enumerate(buckets):\n",
    "    print(b, \"Bucket: \" ,bucket.name, bucket.creation_date)"
   ]
  },
  {
   "cell_type": "code",
   "execution_count": 33,
   "id": "3eacb17a-8002-4210-92f3-1fae56b8bebc",
   "metadata": {
    "ExecuteTime": {
     "end_time": "2022-03-24T19:31:01.504733Z",
     "start_time": "2022-03-24T19:31:01.501761Z"
    }
   },
   "outputs": [],
   "source": [
    "from multiprocessing.pool import ThreadPool "
   ]
  },
  {
   "cell_type": "code",
   "execution_count": 39,
   "id": "2d29c834-b51c-448c-a054-11ddf3181057",
   "metadata": {
    "ExecuteTime": {
     "end_time": "2022-03-24T19:31:01.892411Z",
     "start_time": "2022-03-24T19:31:01.868463Z"
    }
   },
   "outputs": [],
   "source": [
    "def download_file(objkey):\n",
    "    dir_path = os.path.join(bucketname, os.path.dirname(objkey))\n",
    "    if not os.path.exists(dir_path):\n",
    "        #print('Creating dir: ', dir_path)\n",
    "        os.makedirs(dir_path,exist_ok=True)\n",
    "    filename = os.path.join(dir_path,os.path.basename(objkey))\n",
    "    bucket.download_file(objkey, filename) # save to same path\n",
    "\n",
    "def downloadDirectoryFroms3(remoteDirectoryName,objectcount=None,suffix=None):\n",
    "    print('Attempting to download bucket, ', bucketname, ' folder, ', remoteDirectoryName)\n",
    "    objkeys = [obj.key for obj in bucket.objects.filter(Prefix = remoteDirectoryName)]\n",
    "    \n",
    "    if objectcount:\n",
    "        objkeys = objkeys[:objectcount]\n",
    "        \n",
    "    if suffix:\n",
    "        objkeys = [o for o in objkeys if o.endswith(suffix)]\n",
    "    \n",
    "    pool = ThreadPool(processes=2*len(objkeys))\n",
    "    pool.map(download_file,objkeys)\n",
    "    pool.close()\n",
    "#     for obj in bucket.objects.filter(Prefix = remoteDirectoryName):\n",
    "#         dir_path = os.path.join(bucketName, os.path.dirname(obj.key))\n",
    "#         if not os.path.exists(dir_path):\n",
    "#             print('Creating dir: ', dir_path)\n",
    "#             os.makedirs(dir_path,exist_ok=True)\n",
    "#         filename = os.path.join(dir_path,os.path.basename(obj.key))\n",
    "#         bucket.download_file(obj.key, filename) # save to same path"
   ]
  },
  {
   "cell_type": "markdown",
   "id": "eedb48a6-d798-4d0c-be41-f332f22af77f",
   "metadata": {},
   "source": [
    "### Download your bucket"
   ]
  },
  {
   "cell_type": "code",
   "execution_count": 41,
   "id": "772e5ec4",
   "metadata": {
    "ExecuteTime": {
     "end_time": "2022-03-24T19:30:51.115039Z",
     "start_time": "2022-03-24T19:30:51.110741Z"
    }
   },
   "outputs": [],
   "source": [
    "os.chdir('/workspace/LDA_Object_Detection/data/csv')"
   ]
  },
  {
   "cell_type": "code",
   "execution_count": 43,
   "id": "775e975f-8d1a-45df-a2c2-126819c7af65",
   "metadata": {
    "ExecuteTime": {
     "end_time": "2022-03-24T19:31:19.023187Z",
     "start_time": "2022-03-24T19:31:05.988843Z"
    }
   },
   "outputs": [
    {
     "name": "stdin",
     "output_type": "stream",
     "text": [
      "Enter bucket name lda-object-detection\n"
     ]
    },
    {
     "name": "stdout",
     "output_type": "stream",
     "text": [
      "Attempting to download bucket,  lda-object-detection  folder,  \n",
      "CPU times: user 1.29 s, sys: 71.1 ms, total: 1.36 s\n",
      "Wall time: 20.7 s\n"
     ]
    }
   ],
   "source": [
    "%%time\n",
    "bucketname = input('Enter bucket name')\n",
    "bucket = s3.Bucket(bucketname)\n",
    "os.makedirs(bucketname,exist_ok=True)\n",
    "downloadDirectoryFroms3('',suffix='.csv')\n",
    "#downloadDirectoryFroms3_single(s3,bucketname,'')"
   ]
  },
  {
   "cell_type": "markdown",
   "id": "109604dc-684d-459b-9c93-65d5827c1e86",
   "metadata": {},
   "source": [
    "## D. Upload data from workspace to bucket in MINIO using s3"
   ]
  },
  {
   "cell_type": "markdown",
   "id": "16f19ced-3bc8-48b6-88ae-acf34a5e26ff",
   "metadata": {},
   "source": [
    "### 1. Define function to delete bucket if it already exists"
   ]
  },
  {
   "cell_type": "code",
   "execution_count": 16,
   "id": "abd89158-3ec1-47fc-9f41-8a9300f46347",
   "metadata": {},
   "outputs": [],
   "source": [
    "from botocore.client import ClientError"
   ]
  },
  {
   "cell_type": "code",
   "execution_count": 75,
   "id": "4cd74ca8-d3d9-4423-b372-ddbbb7fc1569",
   "metadata": {},
   "outputs": [],
   "source": [
    "def delete_bucket(s3, bucketname):\n",
    "    try:\n",
    "        s3.meta.client.head_bucket(Bucket=bucketname)\n",
    "        bucket = s3.Bucket(bucketname)\n",
    "        response = bucket.objects.all().delete()\n",
    "        #print('Deleted bucket objects: \\n',response)\n",
    "        response = bucket.delete(\n",
    "            ExpectedBucketOwner='string'\n",
    "        )\n",
    "        print('Deleted bucket: \\n',bucketname)\n",
    "    except ClientError:\n",
    "        print('Bucket does not exist')"
   ]
  },
  {
   "cell_type": "markdown",
   "id": "c71c6332-6483-40da-9eb9-138866e01a9c",
   "metadata": {},
   "source": [
    "### 2. Set new bucket and upload folder - bucket name should be only small letters, no symbols"
   ]
  },
  {
   "cell_type": "code",
   "execution_count": 113,
   "id": "1ce80fd1-d2a8-4d3d-ad0e-019346b8758c",
   "metadata": {},
   "outputs": [],
   "source": [
    "new_bucket = \"monailabel\"\n",
    "upload_folder = \"monailabel\""
   ]
  },
  {
   "cell_type": "markdown",
   "id": "e8e4bc73-dfbd-414c-9645-6f17dcacec00",
   "metadata": {},
   "source": [
    "### 3. Delete bucket if it exists and create empty bucket - Only for test purposes - don't delete project data buckets!"
   ]
  },
  {
   "cell_type": "code",
   "execution_count": 114,
   "id": "60cdc754-abfd-414a-9e18-87dab9c3ad71",
   "metadata": {},
   "outputs": [
    {
     "name": "stdout",
     "output_type": "stream",
     "text": [
      "Deleted bucket: \n",
      " monailabel\n"
     ]
    }
   ],
   "source": [
    "delete_bucket(s3,new_bucket)"
   ]
  },
  {
   "cell_type": "markdown",
   "id": "d4eeb6af-1a10-4bd4-afce-284074871167",
   "metadata": {},
   "source": [
    "### 4. Upload Data to bucket"
   ]
  },
  {
   "cell_type": "code",
   "execution_count": 115,
   "id": "0d9200ff-4812-4763-9d31-6babb205a999",
   "metadata": {},
   "outputs": [],
   "source": [
    "from multiprocessing.pool import ThreadPool \n",
    "bucket = s3.Bucket(new_bucket)"
   ]
  },
  {
   "cell_type": "code",
   "execution_count": 116,
   "id": "19912133-70df-4b40-846e-df8bf5657935",
   "metadata": {},
   "outputs": [],
   "source": [
    "folderpath = upload_folder\n",
    "def upload_file(full_path):\n",
    "    with open(full_path, 'rb') as data:\n",
    "            bucket.put_object(Key=full_path[len(folderpath)+1:], Body=data)"
   ]
  },
  {
   "cell_type": "code",
   "execution_count": 117,
   "id": "f2ff5c4e-db88-42cd-8ce5-cd7e225f2326",
   "metadata": {},
   "outputs": [],
   "source": [
    "def upload_files(s3,bucketname,folderpath):\n",
    "    if not bucket.creation_date:\n",
    "        s3.create_bucket(Bucket=bucketname)\n",
    "    all_paths = []\n",
    "    for subdir, dirs, files in os.walk(folderpath):\n",
    "        full_paths = [os.path.join(subdir, file) for file in files]\n",
    "        all_paths = all_paths + full_paths\n",
    "        \n",
    "    pool = ThreadPool(processes=2*len(all_paths))\n",
    "    pool.map(upload_file,all_paths)\n",
    "    #pool.join()\n",
    "    pool.close()"
   ]
  },
  {
   "cell_type": "code",
   "execution_count": 118,
   "id": "6ba29a51-9932-44ce-85c2-0db49ad0eeab",
   "metadata": {},
   "outputs": [
    {
     "name": "stdout",
     "output_type": "stream",
     "text": [
      "Upload Done\n",
      "CPU times: user 17.3 s, sys: 20.4 s, total: 37.7 s\n",
      "Wall time: 16 s\n"
     ]
    }
   ],
   "source": [
    "%%time\n",
    "\n",
    "upload_files(s3,new_bucket,upload_folder)\n",
    "\n",
    "print(\"Upload Done\")"
   ]
  },
  {
   "cell_type": "markdown",
   "id": "3cf801e8-e235-4f67-98e4-4ee47dffe418",
   "metadata": {},
   "source": [
    "### 5. Go to MINIO Console and check if data is uploaded"
   ]
  },
  {
   "cell_type": "markdown",
   "id": "d9a8eb93-5cdb-4e26-b442-34854ce9b8c5",
   "metadata": {},
   "source": [
    "<img style=\"width: 40%\" src=\"im/cap3.PNG\">"
   ]
  },
  {
   "cell_type": "code",
   "execution_count": null,
   "id": "5b7dcfee-3543-4d71-ac08-e6de4b156632",
   "metadata": {},
   "outputs": [],
   "source": []
  }
 ],
 "metadata": {
  "kernelspec": {
   "display_name": "Python 3",
   "language": "python",
   "name": "python3"
  },
  "language_info": {
   "codemirror_mode": {
    "name": "ipython",
    "version": 3
   },
   "file_extension": ".py",
   "mimetype": "text/x-python",
   "name": "python",
   "nbconvert_exporter": "python",
   "pygments_lexer": "ipython3",
   "version": "3.8.10"
  },
  "toc": {
   "base_numbering": 1,
   "nav_menu": {},
   "number_sections": false,
   "sideBar": true,
   "skip_h1_title": false,
   "title_cell": "Table of Contents",
   "title_sidebar": "Contents",
   "toc_cell": false,
   "toc_position": {},
   "toc_section_display": true,
   "toc_window_display": false
  }
 },
 "nbformat": 4,
 "nbformat_minor": 5
}
