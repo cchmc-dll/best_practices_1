{
 "cells": [
  {
   "cell_type": "markdown",
   "id": "da7dcc24-7392-4734-bf05-6dcfe10d2072",
   "metadata": {},
   "source": [
    "# Data Import From MINIO server"
   ]
  },
  {
   "cell_type": "markdown",
   "id": "3e06b314-7996-460d-a060-e457023eadc8",
   "metadata": {},
   "source": [
    "## A. Accessing MINIO Console"
   ]
  },
  {
   "cell_type": "markdown",
   "id": "a816b692-c384-4eff-b79e-600042e61e35",
   "metadata": {},
   "source": [
    "Step 1: Head to this link http://10.1.32.31:9001 on your browser"
   ]
  },
  {
   "cell_type": "markdown",
   "id": "67a4d0cc-dd30-4b2a-bb96-9b08b4e5a595",
   "metadata": {},
   "source": [
    "Step 2: Login using your username and password"
   ]
  },
  {
   "cell_type": "markdown",
   "id": "f80ae2fa-9d52-434c-9358-718123de00b3",
   "metadata": {},
   "source": [
    "## B. Create test bucket in your name and upload few files"
   ]
  },
  {
   "cell_type": "markdown",
   "id": "8916751e-114c-4bf6-b4a8-a6fa1ca2d8a6",
   "metadata": {},
   "source": [
    "<img style=\"width: 60%\" src=\"im/cap1.PNG\">"
   ]
  },
  {
   "cell_type": "markdown",
   "id": "3e0463c7-53a2-4d0e-9187-691a266ebc74",
   "metadata": {},
   "source": [
    "<img style=\"width: 60%\"  src='im/cap2.PNG'>"
   ]
  },
  {
   "cell_type": "markdown",
   "id": "aac1383b-3666-44c0-b018-d26d0e741c7d",
   "metadata": {},
   "source": [
    "## C. Download data from MINIO to workspace"
   ]
  },
  {
   "cell_type": "markdown",
   "id": "309c6fb0-b71d-411c-aae7-dee0cac62aa7",
   "metadata": {},
   "source": [
    "### 1. Import libraries"
   ]
  },
  {
   "cell_type": "code",
   "execution_count": 1,
   "id": "1adb45cf-c8c7-4252-88fb-f06c22d0308e",
   "metadata": {
    "ExecuteTime": {
     "end_time": "2022-05-12T20:09:15.247086Z",
     "start_time": "2022-05-12T20:09:15.243497Z"
    }
   },
   "outputs": [],
   "source": [
    "from minio import Minio\n",
    "from dotenv import load_dotenv # add this line\n",
    "import os"
   ]
  },
  {
   "cell_type": "code",
   "execution_count": 2,
   "id": "f8517e8d-b64d-4c57-b000-e10c367bd3d1",
   "metadata": {
    "ExecuteTime": {
     "end_time": "2022-05-12T20:09:15.264663Z",
     "start_time": "2022-05-12T20:09:15.249807Z"
    }
   },
   "outputs": [
    {
     "data": {
      "text/plain": [
       "'/workspace/best_practices_1'"
      ]
     },
     "execution_count": 2,
     "metadata": {},
     "output_type": "execute_result"
    }
   ],
   "source": [
    "os.getcwd()"
   ]
  },
  {
   "cell_type": "markdown",
   "id": "fe030906-39ff-4c6e-95df-5a33e632f3a2",
   "metadata": {},
   "source": [
    "### 2. Create .env file with credentials "
   ]
  },
  {
   "cell_type": "markdown",
   "id": "842fe0f9-1ae1-44ec-876e-d15274ca72b5",
   "metadata": {},
   "source": [
    "#### Run these in the terminal"
   ]
  },
  {
   "cell_type": "markdown",
   "id": "49694eb8-d4e9-4db9-9d50-bc3fc690c675",
   "metadata": {},
   "source": [
    "`echo \"MINIO_ACCESS\"=USERID >> .env`"
   ]
  },
  {
   "cell_type": "markdown",
   "id": "0b44dcc1-1547-41ae-95e6-50b7a0367361",
   "metadata": {},
   "source": [
    "`echo \"MINIO_KEY\"=PWD >> .env`"
   ]
  },
  {
   "cell_type": "markdown",
   "id": "ba0a0625-0a2d-4a9d-973b-ee1451a1581e",
   "metadata": {},
   "source": [
    "### 3. Load credentials securely"
   ]
  },
  {
   "cell_type": "code",
   "execution_count": 3,
   "id": "e5447ad8-e11f-47d8-aeee-ecf856ac6918",
   "metadata": {
    "ExecuteTime": {
     "end_time": "2022-05-12T20:09:15.273493Z",
     "start_time": "2022-05-12T20:09:15.267838Z"
    }
   },
   "outputs": [],
   "source": [
    "load_dotenv() # add this line\n",
    "user = os.getenv('MINIO_ACCESS')\n",
    "key = os.getenv('MINIO_KEY')"
   ]
  },
  {
   "cell_type": "code",
   "execution_count": 4,
   "id": "e1d27268-fcf5-4fac-8cbf-8195053c802e",
   "metadata": {
    "ExecuteTime": {
     "end_time": "2022-05-12T20:09:15.280710Z",
     "start_time": "2022-05-12T20:09:15.276511Z"
    }
   },
   "outputs": [
    {
     "data": {
      "text/plain": [
       "'elan'"
      ]
     },
     "execution_count": 4,
     "metadata": {},
     "output_type": "execute_result"
    }
   ],
   "source": [
    "user"
   ]
  },
  {
   "cell_type": "markdown",
   "id": "9903f3b3-e527-4558-8ce8-24ad00a1a1b8",
   "metadata": {},
   "source": [
    "### 4. Initialize s3 client"
   ]
  },
  {
   "cell_type": "code",
   "execution_count": 5,
   "id": "5c803068-3340-490a-b22a-22d0edac0a2b",
   "metadata": {
    "ExecuteTime": {
     "end_time": "2022-05-12T20:09:15.295207Z",
     "start_time": "2022-05-12T20:09:15.283182Z"
    }
   },
   "outputs": [],
   "source": [
    "import boto3\n",
    "s3 = boto3.resource('s3',\n",
    "                endpoint_url=\"http://minio-0:9000\",\n",
    "                aws_access_key_id=user,\n",
    "                aws_secret_access_key=key)"
   ]
  },
  {
   "cell_type": "markdown",
   "id": "62b3a6c2-0547-4016-bdeb-bb756b9bfdb9",
   "metadata": {},
   "source": [
    "### 5. Load data into workspace"
   ]
  },
  {
   "cell_type": "code",
   "execution_count": 6,
   "id": "e264e263-c435-413f-8555-4a0b66606429",
   "metadata": {
    "ExecuteTime": {
     "end_time": "2022-05-12T20:09:15.330580Z",
     "start_time": "2022-05-12T20:09:15.297991Z"
    }
   },
   "outputs": [
    {
     "name": "stdout",
     "output_type": "stream",
     "text": [
      "0 Bucket:  abdominal-segmentation 2022-05-02 21:11:24.482000+00:00\n",
      "1 Bucket:  boneage 2022-07-14 18:01:53.034000+00:00\n",
      "2 Bucket:  dvcremote 2022-04-17 00:20:53.034000+00:00\n",
      "3 Bucket:  elan 2022-03-22 20:04:49.117000+00:00\n",
      "4 Bucket:  heart-segmentation 2022-08-10 13:27:29.411000+00:00\n",
      "5 Bucket:  ike 2022-03-14 15:12:48.441000+00:00\n",
      "6 Bucket:  lda-object-detection 2022-08-03 20:24:19.629000+00:00\n",
      "7 Bucket:  madi 2022-03-29 18:52:05.070000+00:00\n",
      "8 Bucket:  monailabel 2022-03-22 20:34:59.637000+00:00\n",
      "9 Bucket:  neeraja 2022-03-11 19:20:49.062000+00:00\n",
      "10 Bucket:  neerajanew 2022-03-11 19:29:13.226000+00:00\n",
      "11 Bucket:  orthanc-tcv 2022-08-06 20:00:28.533000+00:00\n",
      "12 Bucket:  pathology 2022-03-31 15:40:42.341000+00:00\n",
      "13 Bucket:  pathologytest 2022-03-24 19:28:11.765000+00:00\n",
      "14 Bucket:  pulmonary-segmentation 2022-05-05 14:43:59.849000+00:00\n",
      "15 Bucket:  utilities 2022-03-25 19:53:29.863000+00:00\n",
      "16 Bucket:  zach 2022-04-26 20:22:40.847000+00:00\n"
     ]
    }
   ],
   "source": [
    "# Print buckets in data server\n",
    "buckets = s3.buckets.all()\n",
    "for b,bucket in enumerate(buckets):\n",
    "    print(b, \"Bucket: \" ,bucket.name, bucket.creation_date)"
   ]
  },
  {
   "cell_type": "code",
   "execution_count": 7,
   "id": "3eacb17a-8002-4210-92f3-1fae56b8bebc",
   "metadata": {
    "ExecuteTime": {
     "end_time": "2022-05-12T20:09:15.356558Z",
     "start_time": "2022-05-12T20:09:15.333945Z"
    }
   },
   "outputs": [],
   "source": [
    "from multiprocessing.pool import Pool, ThreadPool\n",
    "from multiprocessing import cpu_count\n",
    "from tqdm import tqdm"
   ]
  },
  {
   "cell_type": "code",
   "execution_count": 59,
   "id": "2d29c834-b51c-448c-a054-11ddf3181057",
   "metadata": {
    "ExecuteTime": {
     "end_time": "2022-05-12T20:09:15.375286Z",
     "start_time": "2022-05-12T20:09:15.359612Z"
    },
    "code_folding": [
     9
    ]
   },
   "outputs": [],
   "source": [
    "def download_file(objkey):\n",
    "    dir_path = os.path.join(download_dir, os.path.dirname(objkey))\n",
    "    if not os.path.exists(dir_path):\n",
    "        # print('Creating dir: ', dir_path)\n",
    "        os.makedirs(dir_path, exist_ok=True)\n",
    "    filename = os.path.join(dir_path, os.path.basename(objkey))\n",
    "    bucket.download_file(objkey, filename)  # save to same path\n",
    "\n",
    "def downloadDirectoryFroms3(remoteDirectoryName, objectcount=None, suffix=None):\n",
    "    print(\n",
    "        \"Attempting to download bucket, \", bucketname, \" folder, \", remoteDirectoryName, ' | counting objects: '\n",
    "    )\n",
    "    objkeys = [obj.key for obj in tqdm(bucket.objects.filter(Prefix=remoteDirectoryName))]\n",
    "\n",
    "    if objectcount:\n",
    "        objkeys = objkeys[:objectcount]\n",
    "\n",
    "    if suffix:\n",
    "        objkeys = [o for o in objkeys if o.endswith(suffix)]\n",
    "    \n",
    "    print('Downloading ', len(objkeys),' Objects ...')\n",
    "    \n",
    "    #Parallel download\n",
    "    try:\n",
    "        pool = Pool(processes=int(cpu_count()))\n",
    "        pool.imap_unordered(download_file, tqdm(objkeys,total=len(objkeys)))\n",
    "        pool.close()\n",
    "        pool.join()\n",
    "    except Exception as e:\n",
    "        print('Paralled download fails:', e.message, e.args)\n",
    "        \n",
    "\n",
    "    #Single core download\n",
    "#     for objkey in tqdm(objkeys):\n",
    "#         download_file(objkey)\n",
    "    \n",
    "    #Check object size and downloaded filesize are same\n",
    "    print('Checking ', len(objkeys),' Objects ...')\n",
    "    for objkey in tqdm(objkeys):\n",
    "        #print('Processing: ', objkey)\n",
    "        objsize = bucket.Object(objkey).content_length\n",
    "        \n",
    "        dir_path = os.path.join(download_dir, os.path.dirname(objkey))\n",
    "        filename = os.path.join(dir_path, os.path.basename(objkey))\n",
    "        \n",
    "        filesize = 0\n",
    "        if os.path.exists(filename):\n",
    "            filesize = os.path.getsize(filename)\n",
    "        attempt = 0\n",
    "        \n",
    "        # Attempt 10 times to make sure filesize is same as object size if not throw error\n",
    "        #print(objkey ,' Object Size: ', objsize, ' Filesize: ', filesize)\n",
    "        while (objsize != filesize and attempt < 10):\n",
    "            try:\n",
    "                bucket.download_file(objkey, filename)  # save to same path\n",
    "            except  Exception as E:\n",
    "                print('Error downloading file: ', filename)\n",
    "                print('Single download fails:', e.message, e.args)\n",
    "                \n",
    "            if os.path.exists(filename):\n",
    "                filesize = os.path.getsize(filename)\n",
    "            attempt += 1\n",
    "\n",
    "        if attempt == 10:\n",
    "            print('objsize of ', objkey, ' is: ',objsize)\n",
    "            print('filesize of ', objkey, ' is: ',filesize)\n",
    "            raise RuntimeError('incomplete download after 10 attempts..') "
   ]
  },
  {
   "cell_type": "markdown",
   "id": "eedb48a6-d798-4d0c-be41-f332f22af77f",
   "metadata": {},
   "source": [
    "### Download your bucket"
   ]
  },
  {
   "cell_type": "code",
   "execution_count": 60,
   "id": "772e5ec4",
   "metadata": {
    "ExecuteTime": {
     "end_time": "2022-05-12T20:26:09.727966Z",
     "start_time": "2022-05-12T20:26:09.719466Z"
    }
   },
   "outputs": [],
   "source": [
    "# Directory to download your bucket to in the workspace\n",
    "download_dir = '/workspace/abdominal-segmentation/datasets'\n",
    "\n",
    "#abdominal-segmentation\\CT CCHMC\\masks\\exam_0_CT_1.nii\n",
    "\n",
    "bucketname = 'abdominal-segmentation' #input('Enter minio bucket name: ')\n",
    "bucket = s3.Bucket(bucketname)"
   ]
  },
  {
   "cell_type": "code",
   "execution_count": 61,
   "id": "67e4d435",
   "metadata": {
    "ExecuteTime": {
     "end_time": "2022-05-12T20:26:11.996523Z",
     "start_time": "2022-05-12T20:26:11.863862Z"
    }
   },
   "outputs": [
    {
     "name": "stdout",
     "output_type": "stream",
     "text": [
      "CTCCHMC/test/scans/exam_109_CT_209.nii.gz\n"
     ]
    }
   ],
   "source": [
    "# List Bucket contents\n",
    "# for object in bucket.objects.all():\n",
    "#     print(object.key, object.storage_class)\n",
    "\n",
    "s3c = boto3.client(\"s3\",endpoint_url=\"http://minio-0:9000\",\n",
    "                aws_access_key_id=user,\n",
    "                aws_secret_access_key=key)\n",
    "prefix = 'CTCCHMC/test/scans' # [ CT CCHMC-test, CT CCHMC-train]CT CCHMC,\n",
    "for object_summary in bucket.objects.filter(Prefix=prefix):\n",
    "    print(object_summary.key)\n",
    "    break\n"
   ]
  },
  {
   "cell_type": "code",
   "execution_count": 63,
   "id": "775e975f-8d1a-45df-a2c2-126819c7af65",
   "metadata": {
    "ExecuteTime": {
     "end_time": "2022-05-12T20:51:46.287065Z",
     "start_time": "2022-05-12T20:27:12.775430Z"
    }
   },
   "outputs": [
    {
     "name": "stderr",
     "output_type": "stream",
     "text": [
      "55it [00:00, 1044.63it/s]\n",
      "  0%|          | 0/55 [00:00<?, ?it/s]"
     ]
    },
    {
     "name": "stdout",
     "output_type": "stream",
     "text": [
      "Attempting to download bucket,  abdominal-segmentation  folder,  CTCCHMC/test/scans  | counting objects: \n",
      "Downloading  55  Objects ...\n",
      "Checking  55  Objects ...\n",
      "Processing:  CTCCHMC/test/scans/exam_109_CT_209.nii.gz\n",
      "CTCCHMC/test/scans/exam_109_CT_209.nii.gz  Object Size:  74020814  Filesize:  74020814\n",
      "Processing:  CTCCHMC/test/scans/exam_10_CT_108.nii.gz\n",
      "CTCCHMC/test/scans/exam_10_CT_108.nii.gz  Object Size:  14250574  Filesize:  14250574\n",
      "Processing:  CTCCHMC/test/scans/exam_118_CT_219.nii.gz\n",
      "CTCCHMC/test/scans/exam_118_CT_219.nii.gz  Object Size:  18821777  Filesize:  18821777\n",
      "Processing:  CTCCHMC/test/scans/exam_11_CT_109.nii.gz\n",
      "CTCCHMC/test/scans/exam_11_CT_109.nii.gz  Object Size:  22863376  Filesize:  22863376\n",
      "Processing:  CTCCHMC/test/scans/exam_124_CT_226.nii.gz\n",
      "CTCCHMC/test/scans/exam_124_CT_226.nii.gz  Object Size:  24187358  Filesize:  0\n"
     ]
    },
    {
     "name": "stderr",
     "output_type": "stream",
     "text": [
      " 25%|██▌       | 14/55 [00:00<00:01, 38.25it/s]"
     ]
    },
    {
     "name": "stdout",
     "output_type": "stream",
     "text": [
      "Processing:  CTCCHMC/test/scans/exam_130_CT_233.nii.gz\n",
      "CTCCHMC/test/scans/exam_130_CT_233.nii.gz  Object Size:  26923271  Filesize:  26923271\n",
      "Processing:  CTCCHMC/test/scans/exam_134_CT_237.nii.gz\n",
      "CTCCHMC/test/scans/exam_134_CT_237.nii.gz  Object Size:  19249372  Filesize:  19249372\n",
      "Processing:  CTCCHMC/test/scans/exam_135_CT_238.nii.gz\n",
      "CTCCHMC/test/scans/exam_135_CT_238.nii.gz  Object Size:  20556722  Filesize:  20556722\n",
      "Processing:  CTCCHMC/test/scans/exam_145_CT_28.nii.gz\n",
      "CTCCHMC/test/scans/exam_145_CT_28.nii.gz  Object Size:  17605641  Filesize:  17605641\n",
      "Processing:  CTCCHMC/test/scans/exam_147_CT_3.nii.gz\n",
      "CTCCHMC/test/scans/exam_147_CT_3.nii.gz  Object Size:  25622654  Filesize:  25622654\n",
      "Processing:  CTCCHMC/test/scans/exam_152_CT_34.nii.gz\n",
      "CTCCHMC/test/scans/exam_152_CT_34.nii.gz  Object Size:  17286100  Filesize:  17286100\n",
      "Processing:  CTCCHMC/test/scans/exam_155_CT_38.nii.gz\n",
      "CTCCHMC/test/scans/exam_155_CT_38.nii.gz  Object Size:  23979802  Filesize:  23979802\n",
      "Processing:  CTCCHMC/test/scans/exam_157_CT_4.nii.gz\n",
      "CTCCHMC/test/scans/exam_157_CT_4.nii.gz  Object Size:  19909259  Filesize:  19909259\n",
      "Processing:  CTCCHMC/test/scans/exam_168_CT_50.nii.gz\n",
      "CTCCHMC/test/scans/exam_168_CT_50.nii.gz  Object Size:  22384109  Filesize:  22384109\n",
      "Processing:  CTCCHMC/test/scans/exam_169_CT_51.nii.gz\n",
      "CTCCHMC/test/scans/exam_169_CT_51.nii.gz  Object Size:  15381733  Filesize:  15381733\n",
      "Processing:  CTCCHMC/test/scans/exam_183_CT_64.nii.gz\n",
      "CTCCHMC/test/scans/exam_183_CT_64.nii.gz  Object Size:  18259436  Filesize:  18259436\n",
      "Processing:  CTCCHMC/test/scans/exam_195_CT_75.nii.gz\n",
      "CTCCHMC/test/scans/exam_195_CT_75.nii.gz  Object Size:  18772939  Filesize:  18772939\n",
      "Processing:  CTCCHMC/test/scans/exam_200_CT_8.nii.gz\n",
      "CTCCHMC/test/scans/exam_200_CT_8.nii.gz  Object Size:  24558922  Filesize:  24558922\n",
      "Processing:  CTCCHMC/test/scans/exam_202_CT_81.nii.gz\n",
      "CTCCHMC/test/scans/exam_202_CT_81.nii.gz  Object Size:  18326290  Filesize:  18326290\n",
      "Processing:  CTCCHMC/test/scans/exam_20_CT_117.nii.gz\n",
      "CTCCHMC/test/scans/exam_20_CT_117.nii.gz  Object Size:  23090185  Filesize:  23090185\n",
      "Processing:  CTCCHMC/test/scans/exam_223_CT_163.nii.gz\n",
      "CTCCHMC/test/scans/exam_223_CT_163.nii.gz  Object Size:  18171841  Filesize:  18171841\n",
      "Processing:  CTCCHMC/test/scans/exam_232_CT_205.nii.gz\n",
      "CTCCHMC/test/scans/exam_232_CT_205.nii.gz  Object Size:  19520251  Filesize:  19520251\n",
      "Processing:  CTCCHMC/test/scans/exam_238_CT_222.nii.gz\n",
      "CTCCHMC/test/scans/exam_238_CT_222.nii.gz  Object Size:  17536086  Filesize:  17536086\n",
      "Processing:  CTCCHMC/test/scans/exam_243_CT_245.nii.gz\n",
      "CTCCHMC/test/scans/exam_243_CT_245.nii.gz  Object Size:  19557787  Filesize:  19557787\n",
      "Processing:  CTCCHMC/test/scans/exam_244_CT_246.nii.gz\n",
      "CTCCHMC/test/scans/exam_244_CT_246.nii.gz  Object Size:  20012833  Filesize:  20012833\n",
      "Processing:  CTCCHMC/test/scans/exam_247_CT_249.nii.gz\n",
      "CTCCHMC/test/scans/exam_247_CT_249.nii.gz  Object Size:  25738182  Filesize:  25738182\n",
      "Processing:  CTCCHMC/test/scans/exam_255_CT_256.nii.gz\n",
      "CTCCHMC/test/scans/exam_255_CT_256.nii.gz  Object Size:  24141785  Filesize:  24141785\n",
      "Processing:  CTCCHMC/test/scans/exam_260_CT_261.nii.gz\n"
     ]
    },
    {
     "name": "stderr",
     "output_type": "stream",
     "text": [
      "100%|██████████| 55/55 [00:00<00:00, 76.80it/s]"
     ]
    },
    {
     "name": "stdout",
     "output_type": "stream",
     "text": [
      "CTCCHMC/test/scans/exam_260_CT_261.nii.gz  Object Size:  21419260  Filesize:  21419260\n",
      "Processing:  CTCCHMC/test/scans/exam_269_CT_270.nii.gz\n",
      "CTCCHMC/test/scans/exam_269_CT_270.nii.gz  Object Size:  21719622  Filesize:  21719622\n",
      "Processing:  CTCCHMC/test/scans/exam_284_CT_285.nii.gz\n",
      "CTCCHMC/test/scans/exam_284_CT_285.nii.gz  Object Size:  25321988  Filesize:  25321988\n",
      "Processing:  CTCCHMC/test/scans/exam_285_CT_286.nii.gz\n",
      "CTCCHMC/test/scans/exam_285_CT_286.nii.gz  Object Size:  23888036  Filesize:  23888036\n",
      "Processing:  CTCCHMC/test/scans/exam_287_CT_288.nii.gz\n",
      "CTCCHMC/test/scans/exam_287_CT_288.nii.gz  Object Size:  25556192  Filesize:  25556192\n",
      "Processing:  CTCCHMC/test/scans/exam_292_CT_294.nii.gz\n",
      "CTCCHMC/test/scans/exam_292_CT_294.nii.gz  Object Size:  24494362  Filesize:  24494362\n",
      "Processing:  CTCCHMC/test/scans/exam_29_CT_125.nii.gz\n",
      "CTCCHMC/test/scans/exam_29_CT_125.nii.gz  Object Size:  26392423  Filesize:  26392423\n",
      "Processing:  CTCCHMC/test/scans/exam_303_CT_305.nii.gz\n",
      "CTCCHMC/test/scans/exam_303_CT_305.nii.gz  Object Size:  20945637  Filesize:  20945637\n",
      "Processing:  CTCCHMC/test/scans/exam_311_CT_313.nii.gz\n",
      "CTCCHMC/test/scans/exam_311_CT_313.nii.gz  Object Size:  21143084  Filesize:  21143084\n",
      "Processing:  CTCCHMC/test/scans/exam_314_CT_316.nii.gz\n",
      "CTCCHMC/test/scans/exam_314_CT_316.nii.gz  Object Size:  24709610  Filesize:  24709610\n",
      "Processing:  CTCCHMC/test/scans/exam_321_CT_323.nii.gz\n",
      "CTCCHMC/test/scans/exam_321_CT_323.nii.gz  Object Size:  23287447  Filesize:  23287447\n",
      "Processing:  CTCCHMC/test/scans/exam_325_CT_327.nii.gz\n",
      "CTCCHMC/test/scans/exam_325_CT_327.nii.gz  Object Size:  26651771  Filesize:  26651771\n",
      "Processing:  CTCCHMC/test/scans/exam_3_CT_101.nii.gz\n",
      "CTCCHMC/test/scans/exam_3_CT_101.nii.gz  Object Size:  23517194  Filesize:  23517194\n",
      "Processing:  CTCCHMC/test/scans/exam_51_CT_146.nii.gz\n",
      "CTCCHMC/test/scans/exam_51_CT_146.nii.gz  Object Size:  14734922  Filesize:  14734922\n",
      "Processing:  CTCCHMC/test/scans/exam_58_CT_152.nii.gz\n",
      "CTCCHMC/test/scans/exam_58_CT_152.nii.gz  Object Size:  16144842  Filesize:  16144842\n",
      "Processing:  CTCCHMC/test/scans/exam_63_CT_157.nii.gz\n",
      "CTCCHMC/test/scans/exam_63_CT_157.nii.gz  Object Size:  16188997  Filesize:  16188997\n",
      "Processing:  CTCCHMC/test/scans/exam_66_CT_16.nii.gz\n",
      "CTCCHMC/test/scans/exam_66_CT_16.nii.gz  Object Size:  23437611  Filesize:  23437611\n",
      "Processing:  CTCCHMC/test/scans/exam_67_CT_160.nii.gz\n",
      "CTCCHMC/test/scans/exam_67_CT_160.nii.gz  Object Size:  18244299  Filesize:  18244299\n",
      "Processing:  CTCCHMC/test/scans/exam_69_CT_162.nii.gz\n",
      "CTCCHMC/test/scans/exam_69_CT_162.nii.gz  Object Size:  18884733  Filesize:  18884733\n",
      "Processing:  CTCCHMC/test/scans/exam_73_CT_168.nii.gz\n",
      "CTCCHMC/test/scans/exam_73_CT_168.nii.gz  Object Size:  17586002  Filesize:  17586002\n",
      "Processing:  CTCCHMC/test/scans/exam_74_CT_169.nii.gz\n",
      "CTCCHMC/test/scans/exam_74_CT_169.nii.gz  Object Size:  19607622  Filesize:  19607622\n",
      "Processing:  CTCCHMC/test/scans/exam_77_CT_172.nii.gz\n",
      "CTCCHMC/test/scans/exam_77_CT_172.nii.gz  Object Size:  15470224  Filesize:  15470224\n",
      "Processing:  CTCCHMC/test/scans/exam_81_CT_177.nii.gz\n",
      "CTCCHMC/test/scans/exam_81_CT_177.nii.gz  Object Size:  18578913  Filesize:  18578913\n",
      "Processing:  CTCCHMC/test/scans/exam_82_CT_179.nii.gz\n",
      "CTCCHMC/test/scans/exam_82_CT_179.nii.gz  Object Size:  17342956  Filesize:  17342956\n",
      "Processing:  CTCCHMC/test/scans/exam_89_CT_186.nii.gz\n",
      "CTCCHMC/test/scans/exam_89_CT_186.nii.gz  Object Size:  18477994  Filesize:  18477994\n",
      "Processing:  CTCCHMC/test/scans/exam_91_CT_188.nii.gz\n",
      "CTCCHMC/test/scans/exam_91_CT_188.nii.gz  Object Size:  15420268  Filesize:  15420268\n",
      "Processing:  CTCCHMC/test/scans/exam_94_CT_190.nii.gz\n",
      "CTCCHMC/test/scans/exam_94_CT_190.nii.gz  Object Size:  17700130  Filesize:  17700130\n",
      "Processing:  CTCCHMC/test/scans/exam_9_CT_107.nii.gz\n",
      "CTCCHMC/test/scans/exam_9_CT_107.nii.gz  Object Size:  23286595  Filesize:  23286595\n",
      "/workspace/abdominal-segmentation/datasets  now has  55  files\n",
      "CPU times: user 503 ms, sys: 135 ms, total: 638 ms\n",
      "Wall time: 777 ms\n"
     ]
    },
    {
     "name": "stderr",
     "output_type": "stream",
     "text": [
      "\n"
     ]
    }
   ],
   "source": [
    "%%time\n",
    "## Parameters\n",
    "#remoteDirectoryName - Folder name from the bucket - leave this blank ('') if you want all folders\n",
    "#objectcount - Number of objects you want downloaded, for large data, test with a smaller number of objects first.\n",
    "#               Set this to None for all objects\n",
    "#suffix - If you want only objects with a certain extension downloaded like '.dcm' or '.svs'\n",
    "#       - None if you want all objects\n",
    "\n",
    "os.makedirs(download_dir,exist_ok=True)\n",
    "downloadDirectoryFroms3(remoteDirectoryName=prefix,objectcount=None,suffix=None)\n",
    "print(download_dir ,' now has ', len(os.listdir(os.path.join(download_dir,prefix))), ' files')\n",
    "#downloadDirectoryFroms3_single(s3,bucketname,'')"
   ]
  },
  {
   "cell_type": "markdown",
   "id": "109604dc-684d-459b-9c93-65d5827c1e86",
   "metadata": {},
   "source": [
    "## D. Upload data from workspace to bucket in MINIO using s3"
   ]
  },
  {
   "cell_type": "markdown",
   "id": "16f19ced-3bc8-48b6-88ae-acf34a5e26ff",
   "metadata": {},
   "source": [
    "### 1. Define function to delete bucket if it already exists"
   ]
  },
  {
   "cell_type": "code",
   "execution_count": 16,
   "id": "abd89158-3ec1-47fc-9f41-8a9300f46347",
   "metadata": {},
   "outputs": [],
   "source": [
    "from botocore.client import ClientError"
   ]
  },
  {
   "cell_type": "code",
   "execution_count": 75,
   "id": "4cd74ca8-d3d9-4423-b372-ddbbb7fc1569",
   "metadata": {},
   "outputs": [],
   "source": [
    "def delete_bucket(s3, bucketname):\n",
    "    try:\n",
    "        s3.meta.client.head_bucket(Bucket=bucketname)\n",
    "        bucket = s3.Bucket(bucketname)\n",
    "        response = bucket.objects.all().delete()\n",
    "        #print('Deleted bucket objects: \\n',response)\n",
    "        response = bucket.delete(\n",
    "            ExpectedBucketOwner='string'\n",
    "        )\n",
    "        print('Deleted bucket: \\n',bucketname)\n",
    "    except ClientError:\n",
    "        print('Bucket does not exist')"
   ]
  },
  {
   "cell_type": "markdown",
   "id": "c71c6332-6483-40da-9eb9-138866e01a9c",
   "metadata": {},
   "source": [
    "### 2. Set new bucket and upload folder - bucket name should be only small letters, no symbols"
   ]
  },
  {
   "cell_type": "code",
   "execution_count": 113,
   "id": "1ce80fd1-d2a8-4d3d-ad0e-019346b8758c",
   "metadata": {},
   "outputs": [],
   "source": [
    "new_bucket = \"monailabel\"\n",
    "upload_folder = \"monailabel\""
   ]
  },
  {
   "cell_type": "markdown",
   "id": "e8e4bc73-dfbd-414c-9645-6f17dcacec00",
   "metadata": {},
   "source": [
    "### 3. Delete bucket if it exists and create empty bucket - Only for test purposes - don't delete project data buckets!"
   ]
  },
  {
   "cell_type": "code",
   "execution_count": 114,
   "id": "60cdc754-abfd-414a-9e18-87dab9c3ad71",
   "metadata": {},
   "outputs": [
    {
     "name": "stdout",
     "output_type": "stream",
     "text": [
      "Deleted bucket: \n",
      " monailabel\n"
     ]
    }
   ],
   "source": [
    "delete_bucket(s3,new_bucket)"
   ]
  },
  {
   "cell_type": "markdown",
   "id": "d4eeb6af-1a10-4bd4-afce-284074871167",
   "metadata": {},
   "source": [
    "### 4. Upload Data to bucket"
   ]
  },
  {
   "cell_type": "code",
   "execution_count": 115,
   "id": "0d9200ff-4812-4763-9d31-6babb205a999",
   "metadata": {},
   "outputs": [],
   "source": [
    "from multiprocessing.pool import ThreadPool \n",
    "bucket = s3.Bucket(new_bucket)"
   ]
  },
  {
   "cell_type": "code",
   "execution_count": 116,
   "id": "19912133-70df-4b40-846e-df8bf5657935",
   "metadata": {},
   "outputs": [],
   "source": [
    "folderpath = upload_folder\n",
    "def upload_file(full_path):\n",
    "    with open(full_path, 'rb') as data:\n",
    "            bucket.put_object(Key=full_path[len(folderpath)+1:], Body=data)"
   ]
  },
  {
   "cell_type": "code",
   "execution_count": 117,
   "id": "f2ff5c4e-db88-42cd-8ce5-cd7e225f2326",
   "metadata": {},
   "outputs": [],
   "source": [
    "def upload_files(s3,bucketname,folderpath):\n",
    "    if not bucket.creation_date:\n",
    "        s3.create_bucket(Bucket=bucketname)\n",
    "    all_paths = []\n",
    "    for subdir, dirs, files in os.walk(folderpath):\n",
    "        full_paths = [os.path.join(subdir, file) for file in files]\n",
    "        all_paths = all_paths + full_paths\n",
    "        \n",
    "    pool = ThreadPool(processes=2*len(all_paths))\n",
    "    pool.map(upload_file,all_paths)\n",
    "    #pool.join()\n",
    "    pool.close()"
   ]
  },
  {
   "cell_type": "code",
   "execution_count": 118,
   "id": "6ba29a51-9932-44ce-85c2-0db49ad0eeab",
   "metadata": {},
   "outputs": [
    {
     "name": "stdout",
     "output_type": "stream",
     "text": [
      "Upload Done\n",
      "CPU times: user 17.3 s, sys: 20.4 s, total: 37.7 s\n",
      "Wall time: 16 s\n"
     ]
    }
   ],
   "source": [
    "%%time\n",
    "\n",
    "upload_files(s3,new_bucket,upload_folder)\n",
    "\n",
    "print(\"Upload Done\")"
   ]
  },
  {
   "cell_type": "markdown",
   "id": "3cf801e8-e235-4f67-98e4-4ee47dffe418",
   "metadata": {},
   "source": [
    "### 5. Go to MINIO Console and check if data is uploaded"
   ]
  },
  {
   "cell_type": "markdown",
   "id": "d9a8eb93-5cdb-4e26-b442-34854ce9b8c5",
   "metadata": {},
   "source": [
    "<img style=\"width: 40%\" src=\"im/cap3.PNG\">"
   ]
  },
  {
   "cell_type": "code",
   "execution_count": null,
   "id": "5b7dcfee-3543-4d71-ac08-e6de4b156632",
   "metadata": {},
   "outputs": [],
   "source": []
  }
 ],
 "metadata": {
  "kernelspec": {
   "display_name": "Python 3",
   "language": "python",
   "name": "python3"
  },
  "language_info": {
   "codemirror_mode": {
    "name": "ipython",
    "version": 3
   },
   "file_extension": ".py",
   "mimetype": "text/x-python",
   "name": "python",
   "nbconvert_exporter": "python",
   "pygments_lexer": "ipython3",
   "version": "3.8.10"
  },
  "toc": {
   "base_numbering": 1,
   "nav_menu": {},
   "number_sections": false,
   "sideBar": true,
   "skip_h1_title": false,
   "title_cell": "Table of Contents",
   "title_sidebar": "Contents",
   "toc_cell": false,
   "toc_position": {},
   "toc_section_display": true,
   "toc_window_display": false
  }
 },
 "nbformat": 4,
 "nbformat_minor": 5
}
